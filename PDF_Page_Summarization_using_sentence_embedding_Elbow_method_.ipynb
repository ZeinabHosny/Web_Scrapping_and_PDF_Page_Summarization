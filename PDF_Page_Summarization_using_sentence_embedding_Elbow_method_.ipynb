{
 "cells": [
  {
   "cell_type": "markdown",
   "metadata": {
    "colab_type": "text",
    "id": "xnUBH3Oqn00W"
   },
   "source": [
    "# Scraping b-ok site (name of books , urls) using selenium , then download all books \n",
    "This part is used to download pdfs from b-ok website.\n",
    "Unfortunately, i could only download only 5 book cause we must have an account on the website.\n",
    "if we have an account we can download 10 books but i couldn't sign in while scrapping"
   ]
  },
  {
   "cell_type": "code",
   "execution_count": 0,
   "metadata": {
    "colab": {
     "base_uri": "https://localhost:8080/",
     "height": 52
    },
    "colab_type": "code",
    "id": "OUHmNq26n8re",
    "outputId": "d25ef0ed-67b5-4880-f4c2-16c8a42d33ba"
   },
   "outputs": [
    {
     "name": "stdout",
     "output_type": "stream",
     "text": [
      "Requirement already satisfied: selenium in c:\\users\\smsm-tech\\anaconda3\\lib\\site-packages (3.141.0)\n",
      "Requirement already satisfied: urllib3 in c:\\users\\smsm-tech\\anaconda3\\lib\\site-packages (from selenium) (1.24.2)\n"
     ]
    }
   ],
   "source": [
    "#Importing packages\n",
    "!pip install selenium\n",
    "from selenium import webdriver\n",
    "import pandas as pd\n",
    "import os \n",
    "from bs4 import BeautifulSoup\n",
    "import requests\n",
    "from selenium import webdriver\n",
    "from selenium.webdriver.firefox.firefox_binary import FirefoxBinary\n",
    "from selenium.webdriver.common.keys import Keys\n",
    "from selenium.webdriver.common.by import By\n",
    "from selenium.webdriver.support.wait import WebDriverWait\n",
    "from selenium.webdriver.support import expected_conditions as EC\n",
    "from selenium.webdriver.chrome.options import Options\n",
    "#from fake_useragent import UserAgent\n",
    "import pandas as pd\n",
    "from collections.abc import Iterable\n",
    "import warnings\n",
    "# from pymongo import MongoClient\n",
    "# from collections.abc import Iterable\n",
    "import time"
   ]
  },
  {
   "cell_type": "code",
   "execution_count": 0,
   "metadata": {
    "colab": {},
    "colab_type": "code",
    "id": "2aF_rSRqoBCt"
   },
   "outputs": [],
   "source": [
    "selenium_driver_path = \"C:/Users/SMSM-TECH/Downloads/chromedriver_win32/chromedriver.exe\""
   ]
  },
  {
   "cell_type": "code",
   "execution_count": 0,
   "metadata": {
    "colab": {},
    "colab_type": "code",
    "id": "FOaekyu4oOS6"
   },
   "outputs": [],
   "source": [
    "# get unique elements from a list\n",
    "def unique(data):\n",
    "    return list(dict.fromkeys(data))\n",
    "\n",
    "\n",
    "# get selenium driver object\n",
    "def get_selenium_driver():\n",
    "    \"\"\"\n",
    "    This function returns the selenium driver object.\n",
    "\n",
    "    Parameters:\n",
    "        None\n",
    "\n",
    "    Returns:\n",
    "        driver: selenium driver object\n",
    "    \"\"\"\n",
    "\n",
    "    driver = webdriver.Chrome(executable_path = selenium_driver_path)\n",
    "\n",
    "    return driver\n",
    "\n",
    "\n",
    "# get BeautifulSoup object\n",
    "def get_soup(url):\n",
    "    \"\"\"\n",
    "    Given the url of a page, this function returns the soup object.\n",
    "    \n",
    "    Parameters:\n",
    "        url: the link to get soup object for\n",
    "    \n",
    "    Returns:\n",
    "        soup: soup object\n",
    "    \"\"\"\n",
    "    driver = get_selenium_driver()\n",
    "\n",
    "    driver.get(url)\n",
    "\n",
    "    driver.implicitly_wait(3)\n",
    "\n",
    "    html = driver.page_source\n",
    "    soup = BeautifulSoup(html, 'html.parser')\n",
    "\n",
    "    driver.close()\n",
    "\n",
    "    return soup\n",
    "\n",
    "#save to MongoDB\n",
    "def saveToDB(collection, city_areas_zones_dict):\n",
    "    \n",
    "    try:\n",
    "        print(\"collection.count_documents({}): \",  collection.count_documents({}))\n",
    "        resultSet = collection.count_documents({\"City\":city_areas_zones_dict[\"City\"],\"Areas_Zones\":city_areas_zones_dict['Areas_Zones']})\n",
    "\n",
    "        if resultSet > 0:\n",
    "            print(\"city_areas_zones_dict is already scrapped >> \", city_areas_zones_dict)\n",
    "            print(\"Skip!\")\n",
    "        else:\n",
    "            print(\"New city_areas_zones_dict will be scrapped >> \", city_areas_zones_dict)\n",
    "            print(\"I will insert it!\")\n",
    "            collection.insert_one(city_areas_zones_dict)\n",
    "            \n",
    "    except Exception as e:\n",
    "        print('Exception : %s' % str(e))"
   ]
  },
  {
   "cell_type": "code",
   "execution_count": 0,
   "metadata": {
    "colab": {},
    "colab_type": "code",
    "id": "kXwNruT8oR2V"
   },
   "outputs": [],
   "source": [
    "import re\n",
    "\n",
    "# scrape b-ok website\n",
    "\n",
    "def scrape_books():\n",
    "    books_names = []\n",
    "\n",
    "    for num in range(1,2):\n",
    "        base_url = \"https://b-ok.cc/s/natural%20language%20processing?page=\"+str(num)\n",
    "\n",
    "        home_page_soup = get_soup(base_url)\n",
    "\n",
    "        # get a get_selenium_driver object\n",
    "        driver = get_selenium_driver()\n",
    "        #driver.execute_script(\"return navigator.userAgent\")\n",
    "        driver.get(base_url)\n",
    "        \n",
    "\n",
    "        home_page_soup=home_page_soup.find_all(\"div\",{'id':\"searchResultBox\"})\n",
    "        links=home_page_soup[0].find_all(\"a\",{\"href\":re.compile(\"^/book/\")})\n",
    "        #print(links)\n",
    "            \n",
    "\n",
    "        all_link = []\n",
    "        for link in links:\n",
    "            part_of_link = link.get(\"href\")\n",
    "            link = \"https://b-ok.cc\"+part_of_link\n",
    "            all_link.append(link)\n",
    "            all_link = list(set(all_link))\n",
    "            print(\"all_link\")\n",
    "            print(len(all_link))\n",
    "\n",
    "            print(all_link)\n",
    "        \n",
    "        for link in all_link:\n",
    "            page_driver2 = get_selenium_driver()\n",
    "            page_driver2.get(link)\n",
    "            page_driver2.find_element_by_class_name(\"dlButton\").click()\n",
    "            \n",
    "\n",
    "\n",
    "        \n",
    "        time.sleep(3)\n",
    "        print(\"----------------------------------\")\n",
    "    driver.close()\n",
    "        \n"
   ]
  },
  {
   "cell_type": "code",
   "execution_count": 0,
   "metadata": {
    "colab": {},
    "colab_type": "code",
    "id": "iD7l6wOyoVkc",
    "outputId": "e75d5a5d-9924-412c-8143-2a8c9a55a436"
   },
   "outputs": [
    {
     "name": "stdout",
     "output_type": "stream",
     "text": [
      "all_link\n",
      "1\n",
      "['https://b-ok.cc/book/3681492/07d64c']\n",
      "all_link\n",
      "1\n",
      "['https://b-ok.cc/book/3681492/07d64c']\n",
      "all_link\n",
      "2\n",
      "['https://b-ok.cc/book/3642068/da7d8c', 'https://b-ok.cc/book/3681492/07d64c']\n",
      "all_link\n",
      "2\n",
      "['https://b-ok.cc/book/3642068/da7d8c', 'https://b-ok.cc/book/3681492/07d64c']\n",
      "all_link\n",
      "3\n",
      "['https://b-ok.cc/book/3711505/debacd', 'https://b-ok.cc/book/3642068/da7d8c', 'https://b-ok.cc/book/3681492/07d64c']\n",
      "all_link\n",
      "3\n",
      "['https://b-ok.cc/book/3711505/debacd', 'https://b-ok.cc/book/3642068/da7d8c', 'https://b-ok.cc/book/3681492/07d64c']\n",
      "all_link\n",
      "4\n",
      "['https://b-ok.cc/book/3711505/debacd', 'https://b-ok.cc/book/3642068/da7d8c', 'https://b-ok.cc/book/4984922/b162b3', 'https://b-ok.cc/book/3681492/07d64c']\n",
      "all_link\n",
      "4\n",
      "['https://b-ok.cc/book/3711505/debacd', 'https://b-ok.cc/book/3642068/da7d8c', 'https://b-ok.cc/book/4984922/b162b3', 'https://b-ok.cc/book/3681492/07d64c']\n",
      "all_link\n",
      "5\n",
      "['https://b-ok.cc/book/755716/be52d7', 'https://b-ok.cc/book/4984922/b162b3', 'https://b-ok.cc/book/3711505/debacd', 'https://b-ok.cc/book/3642068/da7d8c', 'https://b-ok.cc/book/3681492/07d64c']\n",
      "all_link\n",
      "5\n",
      "['https://b-ok.cc/book/755716/be52d7', 'https://b-ok.cc/book/4984922/b162b3', 'https://b-ok.cc/book/3711505/debacd', 'https://b-ok.cc/book/3642068/da7d8c', 'https://b-ok.cc/book/3681492/07d64c']\n",
      "all_link\n",
      "6\n",
      "['https://b-ok.cc/book/755716/be52d7', 'https://b-ok.cc/book/4984922/b162b3', 'https://b-ok.cc/book/3711505/debacd', 'https://b-ok.cc/book/3606242/b2b146', 'https://b-ok.cc/book/3642068/da7d8c', 'https://b-ok.cc/book/3681492/07d64c']\n",
      "all_link\n",
      "6\n",
      "['https://b-ok.cc/book/755716/be52d7', 'https://b-ok.cc/book/4984922/b162b3', 'https://b-ok.cc/book/3711505/debacd', 'https://b-ok.cc/book/3606242/b2b146', 'https://b-ok.cc/book/3642068/da7d8c', 'https://b-ok.cc/book/3681492/07d64c']\n",
      "all_link\n",
      "7\n",
      "['https://b-ok.cc/book/755716/be52d7', 'https://b-ok.cc/book/4984922/b162b3', 'https://b-ok.cc/book/3711505/debacd', 'https://b-ok.cc/book/3606242/b2b146', 'https://b-ok.cc/book/2740800/2afbbd', 'https://b-ok.cc/book/3642068/da7d8c', 'https://b-ok.cc/book/3681492/07d64c']\n",
      "all_link\n",
      "7\n",
      "['https://b-ok.cc/book/755716/be52d7', 'https://b-ok.cc/book/4984922/b162b3', 'https://b-ok.cc/book/3711505/debacd', 'https://b-ok.cc/book/3606242/b2b146', 'https://b-ok.cc/book/2740800/2afbbd', 'https://b-ok.cc/book/3642068/da7d8c', 'https://b-ok.cc/book/3681492/07d64c']\n",
      "all_link\n",
      "8\n",
      "['https://b-ok.cc/book/3592706/0c0fe6', 'https://b-ok.cc/book/755716/be52d7', 'https://b-ok.cc/book/4984922/b162b3', 'https://b-ok.cc/book/3711505/debacd', 'https://b-ok.cc/book/3606242/b2b146', 'https://b-ok.cc/book/2740800/2afbbd', 'https://b-ok.cc/book/3642068/da7d8c', 'https://b-ok.cc/book/3681492/07d64c']\n",
      "all_link\n",
      "8\n",
      "['https://b-ok.cc/book/3592706/0c0fe6', 'https://b-ok.cc/book/755716/be52d7', 'https://b-ok.cc/book/4984922/b162b3', 'https://b-ok.cc/book/3711505/debacd', 'https://b-ok.cc/book/3606242/b2b146', 'https://b-ok.cc/book/2740800/2afbbd', 'https://b-ok.cc/book/3642068/da7d8c', 'https://b-ok.cc/book/3681492/07d64c']\n",
      "all_link\n",
      "9\n",
      "['https://b-ok.cc/book/3592706/0c0fe6', 'https://b-ok.cc/book/755716/be52d7', 'https://b-ok.cc/book/3644077/c826f8', 'https://b-ok.cc/book/4984922/b162b3', 'https://b-ok.cc/book/3711505/debacd', 'https://b-ok.cc/book/3606242/b2b146', 'https://b-ok.cc/book/2740800/2afbbd', 'https://b-ok.cc/book/3642068/da7d8c', 'https://b-ok.cc/book/3681492/07d64c']\n",
      "all_link\n",
      "9\n",
      "['https://b-ok.cc/book/3592706/0c0fe6', 'https://b-ok.cc/book/755716/be52d7', 'https://b-ok.cc/book/3644077/c826f8', 'https://b-ok.cc/book/4984922/b162b3', 'https://b-ok.cc/book/3711505/debacd', 'https://b-ok.cc/book/3606242/b2b146', 'https://b-ok.cc/book/2740800/2afbbd', 'https://b-ok.cc/book/3642068/da7d8c', 'https://b-ok.cc/book/3681492/07d64c']\n",
      "all_link\n",
      "10\n",
      "['https://b-ok.cc/book/3592706/0c0fe6', 'https://b-ok.cc/book/3606241/b6920f', 'https://b-ok.cc/book/755716/be52d7', 'https://b-ok.cc/book/3644077/c826f8', 'https://b-ok.cc/book/4984922/b162b3', 'https://b-ok.cc/book/3711505/debacd', 'https://b-ok.cc/book/3606242/b2b146', 'https://b-ok.cc/book/2740800/2afbbd', 'https://b-ok.cc/book/3642068/da7d8c', 'https://b-ok.cc/book/3681492/07d64c']\n",
      "all_link\n",
      "10\n",
      "['https://b-ok.cc/book/3592706/0c0fe6', 'https://b-ok.cc/book/3606241/b6920f', 'https://b-ok.cc/book/755716/be52d7', 'https://b-ok.cc/book/3644077/c826f8', 'https://b-ok.cc/book/4984922/b162b3', 'https://b-ok.cc/book/3711505/debacd', 'https://b-ok.cc/book/3606242/b2b146', 'https://b-ok.cc/book/2740800/2afbbd', 'https://b-ok.cc/book/3642068/da7d8c', 'https://b-ok.cc/book/3681492/07d64c']\n",
      "all_link\n",
      "11\n",
      "['https://b-ok.cc/book/3592706/0c0fe6', 'https://b-ok.cc/book/3606241/b6920f', 'https://b-ok.cc/book/755716/be52d7', 'https://b-ok.cc/book/3644077/c826f8', 'https://b-ok.cc/book/4984922/b162b3', 'https://b-ok.cc/book/3711505/debacd', 'https://b-ok.cc/book/3606242/b2b146', 'https://b-ok.cc/book/3629130/efe8d5', 'https://b-ok.cc/book/2740800/2afbbd', 'https://b-ok.cc/book/3642068/da7d8c', 'https://b-ok.cc/book/3681492/07d64c']\n",
      "all_link\n",
      "11\n",
      "['https://b-ok.cc/book/3592706/0c0fe6', 'https://b-ok.cc/book/3606241/b6920f', 'https://b-ok.cc/book/755716/be52d7', 'https://b-ok.cc/book/3644077/c826f8', 'https://b-ok.cc/book/4984922/b162b3', 'https://b-ok.cc/book/3711505/debacd', 'https://b-ok.cc/book/3606242/b2b146', 'https://b-ok.cc/book/3629130/efe8d5', 'https://b-ok.cc/book/2740800/2afbbd', 'https://b-ok.cc/book/3642068/da7d8c', 'https://b-ok.cc/book/3681492/07d64c']\n",
      "all_link\n",
      "12\n",
      "['https://b-ok.cc/book/3592706/0c0fe6', 'https://b-ok.cc/book/3512714/1bb06c', 'https://b-ok.cc/book/3606241/b6920f', 'https://b-ok.cc/book/755716/be52d7', 'https://b-ok.cc/book/3644077/c826f8', 'https://b-ok.cc/book/4984922/b162b3', 'https://b-ok.cc/book/3711505/debacd', 'https://b-ok.cc/book/3606242/b2b146', 'https://b-ok.cc/book/3629130/efe8d5', 'https://b-ok.cc/book/2740800/2afbbd', 'https://b-ok.cc/book/3642068/da7d8c', 'https://b-ok.cc/book/3681492/07d64c']\n",
      "all_link\n",
      "12\n",
      "['https://b-ok.cc/book/3592706/0c0fe6', 'https://b-ok.cc/book/3512714/1bb06c', 'https://b-ok.cc/book/3606241/b6920f', 'https://b-ok.cc/book/755716/be52d7', 'https://b-ok.cc/book/3644077/c826f8', 'https://b-ok.cc/book/4984922/b162b3', 'https://b-ok.cc/book/3711505/debacd', 'https://b-ok.cc/book/3606242/b2b146', 'https://b-ok.cc/book/3629130/efe8d5', 'https://b-ok.cc/book/2740800/2afbbd', 'https://b-ok.cc/book/3642068/da7d8c', 'https://b-ok.cc/book/3681492/07d64c']\n",
      "all_link\n",
      "13\n",
      "['https://b-ok.cc/book/3592706/0c0fe6', 'https://b-ok.cc/book/3512714/1bb06c', 'https://b-ok.cc/book/3711506/d53e54', 'https://b-ok.cc/book/3606241/b6920f', 'https://b-ok.cc/book/755716/be52d7', 'https://b-ok.cc/book/3644077/c826f8', 'https://b-ok.cc/book/4984922/b162b3', 'https://b-ok.cc/book/3711505/debacd', 'https://b-ok.cc/book/3606242/b2b146', 'https://b-ok.cc/book/3629130/efe8d5', 'https://b-ok.cc/book/2740800/2afbbd', 'https://b-ok.cc/book/3642068/da7d8c', 'https://b-ok.cc/book/3681492/07d64c']\n",
      "all_link\n",
      "13\n",
      "['https://b-ok.cc/book/3592706/0c0fe6', 'https://b-ok.cc/book/3512714/1bb06c', 'https://b-ok.cc/book/3642068/da7d8c', 'https://b-ok.cc/book/3606241/b6920f', 'https://b-ok.cc/book/755716/be52d7', 'https://b-ok.cc/book/3644077/c826f8', 'https://b-ok.cc/book/4984922/b162b3', 'https://b-ok.cc/book/3711505/debacd', 'https://b-ok.cc/book/3606242/b2b146', 'https://b-ok.cc/book/3629130/efe8d5', 'https://b-ok.cc/book/2740800/2afbbd', 'https://b-ok.cc/book/3711506/d53e54', 'https://b-ok.cc/book/3681492/07d64c']\n",
      "all_link\n",
      "14\n",
      "['https://b-ok.cc/book/3592706/0c0fe6', 'https://b-ok.cc/book/3512714/1bb06c', 'https://b-ok.cc/book/3711506/d53e54', 'https://b-ok.cc/book/3606241/b6920f', 'https://b-ok.cc/book/755716/be52d7', 'https://b-ok.cc/book/3644077/c826f8', 'https://b-ok.cc/book/4984922/b162b3', 'https://b-ok.cc/book/3711505/debacd', 'https://b-ok.cc/book/1126615/642bb4', 'https://b-ok.cc/book/3606242/b2b146', 'https://b-ok.cc/book/3629130/efe8d5', 'https://b-ok.cc/book/2740800/2afbbd', 'https://b-ok.cc/book/3642068/da7d8c', 'https://b-ok.cc/book/3681492/07d64c']\n",
      "all_link\n",
      "14\n",
      "['https://b-ok.cc/book/3592706/0c0fe6', 'https://b-ok.cc/book/3512714/1bb06c', 'https://b-ok.cc/book/3642068/da7d8c', 'https://b-ok.cc/book/3606241/b6920f', 'https://b-ok.cc/book/755716/be52d7', 'https://b-ok.cc/book/3644077/c826f8', 'https://b-ok.cc/book/4984922/b162b3', 'https://b-ok.cc/book/3711505/debacd', 'https://b-ok.cc/book/1126615/642bb4', 'https://b-ok.cc/book/3606242/b2b146', 'https://b-ok.cc/book/3629130/efe8d5', 'https://b-ok.cc/book/2740800/2afbbd', 'https://b-ok.cc/book/3711506/d53e54', 'https://b-ok.cc/book/3681492/07d64c']\n",
      "all_link\n",
      "15\n",
      "['https://b-ok.cc/book/3592706/0c0fe6', 'https://b-ok.cc/book/3512714/1bb06c', 'https://b-ok.cc/book/3711506/d53e54', 'https://b-ok.cc/book/3606241/b6920f', 'https://b-ok.cc/book/755716/be52d7', 'https://b-ok.cc/book/3644077/c826f8', 'https://b-ok.cc/book/4984922/b162b3', 'https://b-ok.cc/book/3711505/debacd', 'https://b-ok.cc/book/1126615/642bb4', 'https://b-ok.cc/book/3559188/53e892', 'https://b-ok.cc/book/3606242/b2b146', 'https://b-ok.cc/book/3629130/efe8d5', 'https://b-ok.cc/book/2740800/2afbbd', 'https://b-ok.cc/book/3642068/da7d8c', 'https://b-ok.cc/book/3681492/07d64c']\n",
      "all_link\n",
      "15\n",
      "['https://b-ok.cc/book/3592706/0c0fe6', 'https://b-ok.cc/book/3512714/1bb06c', 'https://b-ok.cc/book/3642068/da7d8c', 'https://b-ok.cc/book/3606241/b6920f', 'https://b-ok.cc/book/755716/be52d7', 'https://b-ok.cc/book/3644077/c826f8', 'https://b-ok.cc/book/4984922/b162b3', 'https://b-ok.cc/book/3711505/debacd', 'https://b-ok.cc/book/1126615/642bb4', 'https://b-ok.cc/book/3559188/53e892', 'https://b-ok.cc/book/3606242/b2b146', 'https://b-ok.cc/book/3629130/efe8d5', 'https://b-ok.cc/book/2740800/2afbbd', 'https://b-ok.cc/book/3711506/d53e54', 'https://b-ok.cc/book/3681492/07d64c']\n",
      "all_link\n",
      "16\n",
      "['https://b-ok.cc/book/3592706/0c0fe6', 'https://b-ok.cc/book/3512714/1bb06c', 'https://b-ok.cc/book/3711506/d53e54', 'https://b-ok.cc/book/3606241/b6920f', 'https://b-ok.cc/book/755716/be52d7', 'https://b-ok.cc/book/3644077/c826f8', 'https://b-ok.cc/book/4984922/b162b3', 'https://b-ok.cc/book/3711505/debacd', 'https://b-ok.cc/book/1126615/642bb4', 'https://b-ok.cc/book/3559188/53e892', 'https://b-ok.cc/book/3606242/b2b146', 'https://b-ok.cc/book/3629130/efe8d5', 'https://b-ok.cc/book/2740800/2afbbd', 'https://b-ok.cc/book/3642068/da7d8c', 'https://b-ok.cc/book/3681492/07d64c', 'https://b-ok.cc/book/5242222/716a97']\n",
      "all_link\n",
      "16\n",
      "['https://b-ok.cc/book/3592706/0c0fe6', 'https://b-ok.cc/book/3512714/1bb06c', 'https://b-ok.cc/book/3642068/da7d8c', 'https://b-ok.cc/book/3606241/b6920f', 'https://b-ok.cc/book/755716/be52d7', 'https://b-ok.cc/book/3644077/c826f8', 'https://b-ok.cc/book/4984922/b162b3', 'https://b-ok.cc/book/3711505/debacd', 'https://b-ok.cc/book/1126615/642bb4', 'https://b-ok.cc/book/3559188/53e892', 'https://b-ok.cc/book/3606242/b2b146', 'https://b-ok.cc/book/3629130/efe8d5', 'https://b-ok.cc/book/2740800/2afbbd', 'https://b-ok.cc/book/3711506/d53e54', 'https://b-ok.cc/book/3681492/07d64c', 'https://b-ok.cc/book/5242222/716a97']\n",
      "all_link\n",
      "17\n",
      "['https://b-ok.cc/book/3592706/0c0fe6', 'https://b-ok.cc/book/3512714/1bb06c', 'https://b-ok.cc/book/3711506/d53e54', 'https://b-ok.cc/book/3606241/b6920f', 'https://b-ok.cc/book/755716/be52d7', 'https://b-ok.cc/book/3644077/c826f8', 'https://b-ok.cc/book/4984922/b162b3', 'https://b-ok.cc/book/4999688/e399e7', 'https://b-ok.cc/book/3711505/debacd', 'https://b-ok.cc/book/1126615/642bb4', 'https://b-ok.cc/book/3559188/53e892', 'https://b-ok.cc/book/3606242/b2b146', 'https://b-ok.cc/book/3629130/efe8d5', 'https://b-ok.cc/book/2740800/2afbbd', 'https://b-ok.cc/book/3642068/da7d8c', 'https://b-ok.cc/book/3681492/07d64c', 'https://b-ok.cc/book/5242222/716a97']\n",
      "all_link\n",
      "17\n",
      "['https://b-ok.cc/book/3592706/0c0fe6', 'https://b-ok.cc/book/3512714/1bb06c', 'https://b-ok.cc/book/3642068/da7d8c', 'https://b-ok.cc/book/3606241/b6920f', 'https://b-ok.cc/book/755716/be52d7', 'https://b-ok.cc/book/3644077/c826f8', 'https://b-ok.cc/book/4984922/b162b3', 'https://b-ok.cc/book/4999688/e399e7', 'https://b-ok.cc/book/3711505/debacd', 'https://b-ok.cc/book/1126615/642bb4', 'https://b-ok.cc/book/3559188/53e892', 'https://b-ok.cc/book/3606242/b2b146', 'https://b-ok.cc/book/3629130/efe8d5', 'https://b-ok.cc/book/2740800/2afbbd', 'https://b-ok.cc/book/3711506/d53e54', 'https://b-ok.cc/book/3681492/07d64c', 'https://b-ok.cc/book/5242222/716a97']\n",
      "all_link\n",
      "18\n",
      "['https://b-ok.cc/book/3592706/0c0fe6', 'https://b-ok.cc/book/3512714/1bb06c', 'https://b-ok.cc/book/3711506/d53e54', 'https://b-ok.cc/book/3606241/b6920f', 'https://b-ok.cc/book/755716/be52d7', 'https://b-ok.cc/book/3644077/c826f8', 'https://b-ok.cc/book/4984922/b162b3', 'https://b-ok.cc/book/4999688/e399e7', 'https://b-ok.cc/book/3711505/debacd', 'https://b-ok.cc/book/1126615/642bb4', 'https://b-ok.cc/book/3559188/53e892', 'https://b-ok.cc/book/3606242/b2b146', 'https://b-ok.cc/book/3629130/efe8d5', 'https://b-ok.cc/book/2740800/2afbbd', 'https://b-ok.cc/book/647261/f41bd1', 'https://b-ok.cc/book/3642068/da7d8c', 'https://b-ok.cc/book/3681492/07d64c', 'https://b-ok.cc/book/5242222/716a97']\n",
      "all_link\n",
      "18\n",
      "['https://b-ok.cc/book/3592706/0c0fe6', 'https://b-ok.cc/book/3512714/1bb06c', 'https://b-ok.cc/book/3642068/da7d8c', 'https://b-ok.cc/book/3606241/b6920f', 'https://b-ok.cc/book/755716/be52d7', 'https://b-ok.cc/book/3644077/c826f8', 'https://b-ok.cc/book/4984922/b162b3', 'https://b-ok.cc/book/4999688/e399e7', 'https://b-ok.cc/book/3711505/debacd', 'https://b-ok.cc/book/1126615/642bb4', 'https://b-ok.cc/book/3559188/53e892', 'https://b-ok.cc/book/3606242/b2b146', 'https://b-ok.cc/book/3629130/efe8d5', 'https://b-ok.cc/book/2740800/2afbbd', 'https://b-ok.cc/book/647261/f41bd1', 'https://b-ok.cc/book/3711506/d53e54', 'https://b-ok.cc/book/3681492/07d64c', 'https://b-ok.cc/book/5242222/716a97']\n",
      "all_link\n",
      "19\n",
      "['https://b-ok.cc/book/3606242/b2b146', 'https://b-ok.cc/book/647261/f41bd1', 'https://b-ok.cc/book/3711506/d53e54', 'https://b-ok.cc/book/3642068/da7d8c', 'https://b-ok.cc/book/3606241/b6920f', 'https://b-ok.cc/book/4984922/b162b3', 'https://b-ok.cc/book/1126615/642bb4', 'https://b-ok.cc/book/3629130/efe8d5', 'https://b-ok.cc/book/3681492/07d64c', 'https://b-ok.cc/book/5242222/716a97', 'https://b-ok.cc/book/3512714/1bb06c', 'https://b-ok.cc/book/755716/be52d7', 'https://b-ok.cc/book/3711505/debacd', 'https://b-ok.cc/book/3559188/53e892', 'https://b-ok.cc/book/2740800/2afbbd', 'https://b-ok.cc/book/3592706/0c0fe6', 'https://b-ok.cc/book/3644077/c826f8', 'https://b-ok.cc/book/4999688/e399e7', 'https://b-ok.cc/book/2839436/b91f6c']\n",
      "all_link\n",
      "19\n",
      "['https://b-ok.cc/book/3606242/b2b146', 'https://b-ok.cc/book/647261/f41bd1', 'https://b-ok.cc/book/3711506/d53e54', 'https://b-ok.cc/book/3642068/da7d8c', 'https://b-ok.cc/book/3606241/b6920f', 'https://b-ok.cc/book/4984922/b162b3', 'https://b-ok.cc/book/1126615/642bb4', 'https://b-ok.cc/book/3629130/efe8d5', 'https://b-ok.cc/book/3681492/07d64c', 'https://b-ok.cc/book/5242222/716a97', 'https://b-ok.cc/book/3512714/1bb06c', 'https://b-ok.cc/book/755716/be52d7', 'https://b-ok.cc/book/3711505/debacd', 'https://b-ok.cc/book/3559188/53e892', 'https://b-ok.cc/book/2740800/2afbbd', 'https://b-ok.cc/book/3592706/0c0fe6', 'https://b-ok.cc/book/3644077/c826f8', 'https://b-ok.cc/book/4999688/e399e7', 'https://b-ok.cc/book/2839436/b91f6c']\n",
      "all_link\n",
      "20\n",
      "['https://b-ok.cc/book/3606242/b2b146', 'https://b-ok.cc/book/647261/f41bd1', 'https://b-ok.cc/book/3711506/d53e54', 'https://b-ok.cc/book/3642068/da7d8c', 'https://b-ok.cc/book/3606241/b6920f', 'https://b-ok.cc/book/4984922/b162b3', 'https://b-ok.cc/book/1126615/642bb4', 'https://b-ok.cc/book/3629130/efe8d5', 'https://b-ok.cc/book/3681492/07d64c', 'https://b-ok.cc/book/5242222/716a97', 'https://b-ok.cc/book/3512714/1bb06c', 'https://b-ok.cc/book/2736388/fd001b', 'https://b-ok.cc/book/755716/be52d7', 'https://b-ok.cc/book/3711505/debacd', 'https://b-ok.cc/book/3559188/53e892', 'https://b-ok.cc/book/2740800/2afbbd', 'https://b-ok.cc/book/3592706/0c0fe6', 'https://b-ok.cc/book/3644077/c826f8', 'https://b-ok.cc/book/4999688/e399e7', 'https://b-ok.cc/book/2839436/b91f6c']\n",
      "all_link\n",
      "20\n",
      "['https://b-ok.cc/book/3606242/b2b146', 'https://b-ok.cc/book/647261/f41bd1', 'https://b-ok.cc/book/3711506/d53e54', 'https://b-ok.cc/book/3642068/da7d8c', 'https://b-ok.cc/book/3606241/b6920f', 'https://b-ok.cc/book/4984922/b162b3', 'https://b-ok.cc/book/1126615/642bb4', 'https://b-ok.cc/book/3629130/efe8d5', 'https://b-ok.cc/book/3681492/07d64c', 'https://b-ok.cc/book/5242222/716a97', 'https://b-ok.cc/book/3512714/1bb06c', 'https://b-ok.cc/book/2736388/fd001b', 'https://b-ok.cc/book/755716/be52d7', 'https://b-ok.cc/book/3711505/debacd', 'https://b-ok.cc/book/3559188/53e892', 'https://b-ok.cc/book/2740800/2afbbd', 'https://b-ok.cc/book/3592706/0c0fe6', 'https://b-ok.cc/book/3644077/c826f8', 'https://b-ok.cc/book/4999688/e399e7', 'https://b-ok.cc/book/2839436/b91f6c']\n",
      "all_link\n",
      "21\n",
      "['https://b-ok.cc/book/3606242/b2b146', 'https://b-ok.cc/book/647261/f41bd1', 'https://b-ok.cc/book/3711506/d53e54', 'https://b-ok.cc/book/3642068/da7d8c', 'https://b-ok.cc/book/3606241/b6920f', 'https://b-ok.cc/book/4984922/b162b3', 'https://b-ok.cc/book/1126615/642bb4', 'https://b-ok.cc/book/3629130/efe8d5', 'https://b-ok.cc/book/3681492/07d64c', 'https://b-ok.cc/book/5242222/716a97', 'https://b-ok.cc/book/3512714/1bb06c', 'https://b-ok.cc/book/2736388/fd001b', 'https://b-ok.cc/book/755716/be52d7', 'https://b-ok.cc/book/3711505/debacd', 'https://b-ok.cc/book/3559188/53e892', 'https://b-ok.cc/book/2740800/2afbbd', 'https://b-ok.cc/book/3592706/0c0fe6', 'https://b-ok.cc/book/3644077/c826f8', 'https://b-ok.cc/book/4999688/e399e7', 'https://b-ok.cc/book/3553721/1495ac', 'https://b-ok.cc/book/2839436/b91f6c']\n",
      "all_link\n",
      "21\n",
      "['https://b-ok.cc/book/3606242/b2b146', 'https://b-ok.cc/book/647261/f41bd1', 'https://b-ok.cc/book/3711506/d53e54', 'https://b-ok.cc/book/3642068/da7d8c', 'https://b-ok.cc/book/3606241/b6920f', 'https://b-ok.cc/book/4984922/b162b3', 'https://b-ok.cc/book/1126615/642bb4', 'https://b-ok.cc/book/3629130/efe8d5', 'https://b-ok.cc/book/3681492/07d64c', 'https://b-ok.cc/book/5242222/716a97', 'https://b-ok.cc/book/3512714/1bb06c', 'https://b-ok.cc/book/2736388/fd001b', 'https://b-ok.cc/book/755716/be52d7', 'https://b-ok.cc/book/3711505/debacd', 'https://b-ok.cc/book/3559188/53e892', 'https://b-ok.cc/book/2740800/2afbbd', 'https://b-ok.cc/book/3592706/0c0fe6', 'https://b-ok.cc/book/3644077/c826f8', 'https://b-ok.cc/book/4999688/e399e7', 'https://b-ok.cc/book/3553721/1495ac', 'https://b-ok.cc/book/2839436/b91f6c']\n",
      "all_link\n",
      "22\n",
      "['https://b-ok.cc/book/3606242/b2b146', 'https://b-ok.cc/book/647261/f41bd1', 'https://b-ok.cc/book/3711506/d53e54', 'https://b-ok.cc/book/3642068/da7d8c', 'https://b-ok.cc/book/3606241/b6920f', 'https://b-ok.cc/book/4984922/b162b3', 'https://b-ok.cc/book/1126615/642bb4', 'https://b-ok.cc/book/3629130/efe8d5', 'https://b-ok.cc/book/3681492/07d64c', 'https://b-ok.cc/book/5242222/716a97', 'https://b-ok.cc/book/3512714/1bb06c', 'https://b-ok.cc/book/2736388/fd001b', 'https://b-ok.cc/book/755716/be52d7', 'https://b-ok.cc/book/3711505/debacd', 'https://b-ok.cc/book/3559188/53e892', 'https://b-ok.cc/book/2740800/2afbbd', 'https://b-ok.cc/book/3592706/0c0fe6', 'https://b-ok.cc/book/1269579/219dd6', 'https://b-ok.cc/book/3644077/c826f8', 'https://b-ok.cc/book/4999688/e399e7', 'https://b-ok.cc/book/3553721/1495ac', 'https://b-ok.cc/book/2839436/b91f6c']\n",
      "all_link\n",
      "22\n",
      "['https://b-ok.cc/book/3606242/b2b146', 'https://b-ok.cc/book/647261/f41bd1', 'https://b-ok.cc/book/3711506/d53e54', 'https://b-ok.cc/book/3642068/da7d8c', 'https://b-ok.cc/book/3606241/b6920f', 'https://b-ok.cc/book/4984922/b162b3', 'https://b-ok.cc/book/1126615/642bb4', 'https://b-ok.cc/book/3629130/efe8d5', 'https://b-ok.cc/book/3681492/07d64c', 'https://b-ok.cc/book/5242222/716a97', 'https://b-ok.cc/book/3512714/1bb06c', 'https://b-ok.cc/book/2736388/fd001b', 'https://b-ok.cc/book/755716/be52d7', 'https://b-ok.cc/book/3711505/debacd', 'https://b-ok.cc/book/3559188/53e892', 'https://b-ok.cc/book/2740800/2afbbd', 'https://b-ok.cc/book/3592706/0c0fe6', 'https://b-ok.cc/book/1269579/219dd6', 'https://b-ok.cc/book/3644077/c826f8', 'https://b-ok.cc/book/4999688/e399e7', 'https://b-ok.cc/book/3553721/1495ac', 'https://b-ok.cc/book/2839436/b91f6c']\n",
      "all_link\n",
      "23\n",
      "['https://b-ok.cc/book/3606242/b2b146', 'https://b-ok.cc/book/647261/f41bd1', 'https://b-ok.cc/book/3711506/d53e54', 'https://b-ok.cc/book/3642068/da7d8c', 'https://b-ok.cc/book/3606241/b6920f', 'https://b-ok.cc/book/4984922/b162b3', 'https://b-ok.cc/book/1126615/642bb4', 'https://b-ok.cc/book/3629130/efe8d5', 'https://b-ok.cc/book/3681492/07d64c', 'https://b-ok.cc/book/5242222/716a97', 'https://b-ok.cc/book/3512714/1bb06c', 'https://b-ok.cc/book/2736388/fd001b', 'https://b-ok.cc/book/755716/be52d7', 'https://b-ok.cc/book/3711505/debacd', 'https://b-ok.cc/book/3559188/53e892', 'https://b-ok.cc/book/2740800/2afbbd', 'https://b-ok.cc/book/3592706/0c0fe6', 'https://b-ok.cc/book/1269579/219dd6', 'https://b-ok.cc/book/3644077/c826f8', 'https://b-ok.cc/book/4999688/e399e7', 'https://b-ok.cc/book/2927996/986585', 'https://b-ok.cc/book/3553721/1495ac', 'https://b-ok.cc/book/2839436/b91f6c']\n",
      "all_link\n",
      "23\n",
      "['https://b-ok.cc/book/3606242/b2b146', 'https://b-ok.cc/book/647261/f41bd1', 'https://b-ok.cc/book/3711506/d53e54', 'https://b-ok.cc/book/3642068/da7d8c', 'https://b-ok.cc/book/3606241/b6920f', 'https://b-ok.cc/book/4984922/b162b3', 'https://b-ok.cc/book/1126615/642bb4', 'https://b-ok.cc/book/3629130/efe8d5', 'https://b-ok.cc/book/3681492/07d64c', 'https://b-ok.cc/book/5242222/716a97', 'https://b-ok.cc/book/3512714/1bb06c', 'https://b-ok.cc/book/2736388/fd001b', 'https://b-ok.cc/book/755716/be52d7', 'https://b-ok.cc/book/3711505/debacd', 'https://b-ok.cc/book/3559188/53e892', 'https://b-ok.cc/book/2740800/2afbbd', 'https://b-ok.cc/book/3592706/0c0fe6', 'https://b-ok.cc/book/1269579/219dd6', 'https://b-ok.cc/book/3644077/c826f8', 'https://b-ok.cc/book/4999688/e399e7', 'https://b-ok.cc/book/2927996/986585', 'https://b-ok.cc/book/3553721/1495ac', 'https://b-ok.cc/book/2839436/b91f6c']\n",
      "all_link\n",
      "24\n",
      "['https://b-ok.cc/book/3606242/b2b146', 'https://b-ok.cc/book/647261/f41bd1', 'https://b-ok.cc/book/3711506/d53e54', 'https://b-ok.cc/book/3642068/da7d8c', 'https://b-ok.cc/book/3606241/b6920f', 'https://b-ok.cc/book/4984922/b162b3', 'https://b-ok.cc/book/1126615/642bb4', 'https://b-ok.cc/book/3629130/efe8d5', 'https://b-ok.cc/book/3681492/07d64c', 'https://b-ok.cc/book/5242222/716a97', 'https://b-ok.cc/book/3512714/1bb06c', 'https://b-ok.cc/book/2736388/fd001b', 'https://b-ok.cc/book/755716/be52d7', 'https://b-ok.cc/book/3711505/debacd', 'https://b-ok.cc/book/3559188/53e892', 'https://b-ok.cc/book/2740800/2afbbd', 'https://b-ok.cc/book/3592706/0c0fe6', 'https://b-ok.cc/book/1269579/219dd6', 'https://b-ok.cc/book/3644077/c826f8', 'https://b-ok.cc/book/4999688/e399e7', 'https://b-ok.cc/book/2927996/986585', 'https://b-ok.cc/book/3553721/1495ac', 'https://b-ok.cc/book/2839436/b91f6c', 'https://b-ok.cc/book/3592710/aadadc']\n",
      "all_link\n",
      "24\n",
      "['https://b-ok.cc/book/3606242/b2b146', 'https://b-ok.cc/book/647261/f41bd1', 'https://b-ok.cc/book/3711506/d53e54', 'https://b-ok.cc/book/3642068/da7d8c', 'https://b-ok.cc/book/3606241/b6920f', 'https://b-ok.cc/book/4984922/b162b3', 'https://b-ok.cc/book/1126615/642bb4', 'https://b-ok.cc/book/3629130/efe8d5', 'https://b-ok.cc/book/3681492/07d64c', 'https://b-ok.cc/book/5242222/716a97', 'https://b-ok.cc/book/3512714/1bb06c', 'https://b-ok.cc/book/2736388/fd001b', 'https://b-ok.cc/book/755716/be52d7', 'https://b-ok.cc/book/3711505/debacd', 'https://b-ok.cc/book/3559188/53e892', 'https://b-ok.cc/book/2740800/2afbbd', 'https://b-ok.cc/book/3592706/0c0fe6', 'https://b-ok.cc/book/1269579/219dd6', 'https://b-ok.cc/book/3644077/c826f8', 'https://b-ok.cc/book/4999688/e399e7', 'https://b-ok.cc/book/2927996/986585', 'https://b-ok.cc/book/3553721/1495ac', 'https://b-ok.cc/book/2839436/b91f6c', 'https://b-ok.cc/book/3592710/aadadc']\n",
      "all_link\n",
      "25\n",
      "['https://b-ok.cc/book/3606242/b2b146', 'https://b-ok.cc/book/647261/f41bd1', 'https://b-ok.cc/book/3711506/d53e54', 'https://b-ok.cc/book/3642068/da7d8c', 'https://b-ok.cc/book/3606241/b6920f', 'https://b-ok.cc/book/3606240/5b40d6', 'https://b-ok.cc/book/4984922/b162b3', 'https://b-ok.cc/book/1126615/642bb4', 'https://b-ok.cc/book/3629130/efe8d5', 'https://b-ok.cc/book/3681492/07d64c', 'https://b-ok.cc/book/5242222/716a97', 'https://b-ok.cc/book/3512714/1bb06c', 'https://b-ok.cc/book/2736388/fd001b', 'https://b-ok.cc/book/755716/be52d7', 'https://b-ok.cc/book/3711505/debacd', 'https://b-ok.cc/book/3559188/53e892', 'https://b-ok.cc/book/2740800/2afbbd', 'https://b-ok.cc/book/3592706/0c0fe6', 'https://b-ok.cc/book/1269579/219dd6', 'https://b-ok.cc/book/3644077/c826f8', 'https://b-ok.cc/book/4999688/e399e7', 'https://b-ok.cc/book/2927996/986585', 'https://b-ok.cc/book/3553721/1495ac', 'https://b-ok.cc/book/2839436/b91f6c', 'https://b-ok.cc/book/3592710/aadadc']\n",
      "all_link\n",
      "25\n",
      "['https://b-ok.cc/book/3606242/b2b146', 'https://b-ok.cc/book/647261/f41bd1', 'https://b-ok.cc/book/3711506/d53e54', 'https://b-ok.cc/book/3642068/da7d8c', 'https://b-ok.cc/book/3606241/b6920f', 'https://b-ok.cc/book/3606240/5b40d6', 'https://b-ok.cc/book/4984922/b162b3', 'https://b-ok.cc/book/1126615/642bb4', 'https://b-ok.cc/book/3629130/efe8d5', 'https://b-ok.cc/book/3681492/07d64c', 'https://b-ok.cc/book/5242222/716a97', 'https://b-ok.cc/book/3512714/1bb06c', 'https://b-ok.cc/book/2736388/fd001b', 'https://b-ok.cc/book/755716/be52d7', 'https://b-ok.cc/book/3711505/debacd', 'https://b-ok.cc/book/3559188/53e892', 'https://b-ok.cc/book/2740800/2afbbd', 'https://b-ok.cc/book/3592706/0c0fe6', 'https://b-ok.cc/book/1269579/219dd6', 'https://b-ok.cc/book/3644077/c826f8', 'https://b-ok.cc/book/4999688/e399e7', 'https://b-ok.cc/book/2927996/986585', 'https://b-ok.cc/book/3553721/1495ac', 'https://b-ok.cc/book/2839436/b91f6c', 'https://b-ok.cc/book/3592710/aadadc']\n",
      "all_link\n",
      "26\n",
      "['https://b-ok.cc/book/3606242/b2b146', 'https://b-ok.cc/book/647261/f41bd1', 'https://b-ok.cc/book/3711506/d53e54', 'https://b-ok.cc/book/3642068/da7d8c', 'https://b-ok.cc/book/3606241/b6920f', 'https://b-ok.cc/book/3606240/5b40d6', 'https://b-ok.cc/book/4984922/b162b3', 'https://b-ok.cc/book/644083/5386a2', 'https://b-ok.cc/book/1126615/642bb4', 'https://b-ok.cc/book/3629130/efe8d5', 'https://b-ok.cc/book/3681492/07d64c', 'https://b-ok.cc/book/5242222/716a97', 'https://b-ok.cc/book/3512714/1bb06c', 'https://b-ok.cc/book/2736388/fd001b', 'https://b-ok.cc/book/755716/be52d7', 'https://b-ok.cc/book/3711505/debacd', 'https://b-ok.cc/book/3559188/53e892', 'https://b-ok.cc/book/2740800/2afbbd', 'https://b-ok.cc/book/3592706/0c0fe6', 'https://b-ok.cc/book/1269579/219dd6', 'https://b-ok.cc/book/3644077/c826f8', 'https://b-ok.cc/book/4999688/e399e7', 'https://b-ok.cc/book/2927996/986585', 'https://b-ok.cc/book/3553721/1495ac', 'https://b-ok.cc/book/2839436/b91f6c', 'https://b-ok.cc/book/3592710/aadadc']\n",
      "all_link\n",
      "26\n",
      "['https://b-ok.cc/book/3606242/b2b146', 'https://b-ok.cc/book/647261/f41bd1', 'https://b-ok.cc/book/3711506/d53e54', 'https://b-ok.cc/book/3642068/da7d8c', 'https://b-ok.cc/book/3606241/b6920f', 'https://b-ok.cc/book/3606240/5b40d6', 'https://b-ok.cc/book/4984922/b162b3', 'https://b-ok.cc/book/644083/5386a2', 'https://b-ok.cc/book/1126615/642bb4', 'https://b-ok.cc/book/3629130/efe8d5', 'https://b-ok.cc/book/3681492/07d64c', 'https://b-ok.cc/book/5242222/716a97', 'https://b-ok.cc/book/3512714/1bb06c', 'https://b-ok.cc/book/2736388/fd001b', 'https://b-ok.cc/book/755716/be52d7', 'https://b-ok.cc/book/3711505/debacd', 'https://b-ok.cc/book/3559188/53e892', 'https://b-ok.cc/book/2740800/2afbbd', 'https://b-ok.cc/book/3592706/0c0fe6', 'https://b-ok.cc/book/1269579/219dd6', 'https://b-ok.cc/book/3644077/c826f8', 'https://b-ok.cc/book/4999688/e399e7', 'https://b-ok.cc/book/2927996/986585', 'https://b-ok.cc/book/3553721/1495ac', 'https://b-ok.cc/book/2839436/b91f6c', 'https://b-ok.cc/book/3592710/aadadc']\n",
      "all_link\n",
      "27\n",
      "['https://b-ok.cc/book/3606242/b2b146', 'https://b-ok.cc/book/3362289/95ef8d', 'https://b-ok.cc/book/647261/f41bd1', 'https://b-ok.cc/book/3711506/d53e54', 'https://b-ok.cc/book/3642068/da7d8c', 'https://b-ok.cc/book/3606241/b6920f', 'https://b-ok.cc/book/3606240/5b40d6', 'https://b-ok.cc/book/4984922/b162b3', 'https://b-ok.cc/book/644083/5386a2', 'https://b-ok.cc/book/1126615/642bb4', 'https://b-ok.cc/book/3629130/efe8d5', 'https://b-ok.cc/book/3681492/07d64c', 'https://b-ok.cc/book/5242222/716a97', 'https://b-ok.cc/book/3512714/1bb06c', 'https://b-ok.cc/book/2736388/fd001b', 'https://b-ok.cc/book/755716/be52d7', 'https://b-ok.cc/book/3711505/debacd', 'https://b-ok.cc/book/3559188/53e892', 'https://b-ok.cc/book/2740800/2afbbd', 'https://b-ok.cc/book/3592706/0c0fe6', 'https://b-ok.cc/book/1269579/219dd6', 'https://b-ok.cc/book/3644077/c826f8', 'https://b-ok.cc/book/4999688/e399e7', 'https://b-ok.cc/book/2927996/986585', 'https://b-ok.cc/book/3553721/1495ac', 'https://b-ok.cc/book/2839436/b91f6c', 'https://b-ok.cc/book/3592710/aadadc']\n",
      "all_link\n",
      "27\n",
      "['https://b-ok.cc/book/3362289/95ef8d', 'https://b-ok.cc/book/3606242/b2b146', 'https://b-ok.cc/book/647261/f41bd1', 'https://b-ok.cc/book/3642068/da7d8c', 'https://b-ok.cc/book/3711506/d53e54', 'https://b-ok.cc/book/3606241/b6920f', 'https://b-ok.cc/book/3606240/5b40d6', 'https://b-ok.cc/book/4984922/b162b3', 'https://b-ok.cc/book/644083/5386a2', 'https://b-ok.cc/book/1126615/642bb4', 'https://b-ok.cc/book/3629130/efe8d5', 'https://b-ok.cc/book/3681492/07d64c', 'https://b-ok.cc/book/5242222/716a97', 'https://b-ok.cc/book/3512714/1bb06c', 'https://b-ok.cc/book/2736388/fd001b', 'https://b-ok.cc/book/755716/be52d7', 'https://b-ok.cc/book/3711505/debacd', 'https://b-ok.cc/book/3559188/53e892', 'https://b-ok.cc/book/2740800/2afbbd', 'https://b-ok.cc/book/3592706/0c0fe6', 'https://b-ok.cc/book/1269579/219dd6', 'https://b-ok.cc/book/3644077/c826f8', 'https://b-ok.cc/book/4999688/e399e7', 'https://b-ok.cc/book/2927996/986585', 'https://b-ok.cc/book/3553721/1495ac', 'https://b-ok.cc/book/2839436/b91f6c', 'https://b-ok.cc/book/3592710/aadadc']\n",
      "all_link\n",
      "28\n",
      "['https://b-ok.cc/book/3606242/b2b146', 'https://b-ok.cc/book/3362289/95ef8d', 'https://b-ok.cc/book/647261/f41bd1', 'https://b-ok.cc/book/3711506/d53e54', 'https://b-ok.cc/book/3642068/da7d8c', 'https://b-ok.cc/book/3606241/b6920f', 'https://b-ok.cc/book/3606240/5b40d6', 'https://b-ok.cc/book/4984922/b162b3', 'https://b-ok.cc/book/644083/5386a2', 'https://b-ok.cc/book/1126615/642bb4', 'https://b-ok.cc/book/3629130/efe8d5', 'https://b-ok.cc/book/3681492/07d64c', 'https://b-ok.cc/book/5242222/716a97', 'https://b-ok.cc/book/3512714/1bb06c', 'https://b-ok.cc/book/2736388/fd001b', 'https://b-ok.cc/book/3691508/095f9a', 'https://b-ok.cc/book/755716/be52d7', 'https://b-ok.cc/book/3711505/debacd', 'https://b-ok.cc/book/3559188/53e892', 'https://b-ok.cc/book/2740800/2afbbd', 'https://b-ok.cc/book/3592706/0c0fe6', 'https://b-ok.cc/book/1269579/219dd6', 'https://b-ok.cc/book/3644077/c826f8', 'https://b-ok.cc/book/4999688/e399e7', 'https://b-ok.cc/book/2927996/986585', 'https://b-ok.cc/book/3553721/1495ac', 'https://b-ok.cc/book/2839436/b91f6c', 'https://b-ok.cc/book/3592710/aadadc']\n",
      "all_link\n",
      "28\n",
      "['https://b-ok.cc/book/3362289/95ef8d', 'https://b-ok.cc/book/3606242/b2b146', 'https://b-ok.cc/book/647261/f41bd1', 'https://b-ok.cc/book/3642068/da7d8c', 'https://b-ok.cc/book/3711506/d53e54', 'https://b-ok.cc/book/3606241/b6920f', 'https://b-ok.cc/book/3606240/5b40d6', 'https://b-ok.cc/book/4984922/b162b3', 'https://b-ok.cc/book/644083/5386a2', 'https://b-ok.cc/book/1126615/642bb4', 'https://b-ok.cc/book/3629130/efe8d5', 'https://b-ok.cc/book/3681492/07d64c', 'https://b-ok.cc/book/5242222/716a97', 'https://b-ok.cc/book/3512714/1bb06c', 'https://b-ok.cc/book/2736388/fd001b', 'https://b-ok.cc/book/3691508/095f9a', 'https://b-ok.cc/book/755716/be52d7', 'https://b-ok.cc/book/3711505/debacd', 'https://b-ok.cc/book/3559188/53e892', 'https://b-ok.cc/book/2740800/2afbbd', 'https://b-ok.cc/book/3592706/0c0fe6', 'https://b-ok.cc/book/1269579/219dd6', 'https://b-ok.cc/book/3644077/c826f8', 'https://b-ok.cc/book/4999688/e399e7', 'https://b-ok.cc/book/2927996/986585', 'https://b-ok.cc/book/3553721/1495ac', 'https://b-ok.cc/book/2839436/b91f6c', 'https://b-ok.cc/book/3592710/aadadc']\n",
      "all_link\n",
      "29\n",
      "['https://b-ok.cc/book/3606242/b2b146', 'https://b-ok.cc/book/3362289/95ef8d', 'https://b-ok.cc/book/668129/b1a2e7', 'https://b-ok.cc/book/647261/f41bd1', 'https://b-ok.cc/book/3711506/d53e54', 'https://b-ok.cc/book/3642068/da7d8c', 'https://b-ok.cc/book/3606241/b6920f', 'https://b-ok.cc/book/3606240/5b40d6', 'https://b-ok.cc/book/4984922/b162b3', 'https://b-ok.cc/book/644083/5386a2', 'https://b-ok.cc/book/1126615/642bb4', 'https://b-ok.cc/book/3629130/efe8d5', 'https://b-ok.cc/book/3681492/07d64c', 'https://b-ok.cc/book/5242222/716a97', 'https://b-ok.cc/book/3512714/1bb06c', 'https://b-ok.cc/book/2736388/fd001b', 'https://b-ok.cc/book/3691508/095f9a', 'https://b-ok.cc/book/755716/be52d7', 'https://b-ok.cc/book/3711505/debacd', 'https://b-ok.cc/book/3559188/53e892', 'https://b-ok.cc/book/2740800/2afbbd', 'https://b-ok.cc/book/3592706/0c0fe6', 'https://b-ok.cc/book/1269579/219dd6', 'https://b-ok.cc/book/3644077/c826f8', 'https://b-ok.cc/book/4999688/e399e7', 'https://b-ok.cc/book/2927996/986585', 'https://b-ok.cc/book/3553721/1495ac', 'https://b-ok.cc/book/2839436/b91f6c', 'https://b-ok.cc/book/3592710/aadadc']\n",
      "all_link\n",
      "29\n",
      "['https://b-ok.cc/book/3362289/95ef8d', 'https://b-ok.cc/book/3606242/b2b146', 'https://b-ok.cc/book/668129/b1a2e7', 'https://b-ok.cc/book/647261/f41bd1', 'https://b-ok.cc/book/3642068/da7d8c', 'https://b-ok.cc/book/3711506/d53e54', 'https://b-ok.cc/book/3606241/b6920f', 'https://b-ok.cc/book/3606240/5b40d6', 'https://b-ok.cc/book/4984922/b162b3', 'https://b-ok.cc/book/644083/5386a2', 'https://b-ok.cc/book/1126615/642bb4', 'https://b-ok.cc/book/3629130/efe8d5', 'https://b-ok.cc/book/3681492/07d64c', 'https://b-ok.cc/book/5242222/716a97', 'https://b-ok.cc/book/3512714/1bb06c', 'https://b-ok.cc/book/2736388/fd001b', 'https://b-ok.cc/book/3691508/095f9a', 'https://b-ok.cc/book/755716/be52d7', 'https://b-ok.cc/book/3711505/debacd', 'https://b-ok.cc/book/3559188/53e892', 'https://b-ok.cc/book/2740800/2afbbd', 'https://b-ok.cc/book/3592706/0c0fe6', 'https://b-ok.cc/book/1269579/219dd6', 'https://b-ok.cc/book/3644077/c826f8', 'https://b-ok.cc/book/4999688/e399e7', 'https://b-ok.cc/book/2927996/986585', 'https://b-ok.cc/book/3553721/1495ac', 'https://b-ok.cc/book/2839436/b91f6c', 'https://b-ok.cc/book/3592710/aadadc']\n",
      "all_link\n",
      "30\n",
      "['https://b-ok.cc/book/3606242/b2b146', 'https://b-ok.cc/book/3362289/95ef8d', 'https://b-ok.cc/book/668129/b1a2e7', 'https://b-ok.cc/book/647261/f41bd1', 'https://b-ok.cc/book/3711506/d53e54', 'https://b-ok.cc/book/3642068/da7d8c', 'https://b-ok.cc/book/3606241/b6920f', 'https://b-ok.cc/book/3606240/5b40d6', 'https://b-ok.cc/book/4984922/b162b3', 'https://b-ok.cc/book/644083/5386a2', 'https://b-ok.cc/book/1126615/642bb4', 'https://b-ok.cc/book/3629130/efe8d5', 'https://b-ok.cc/book/3681492/07d64c', 'https://b-ok.cc/book/5242222/716a97', 'https://b-ok.cc/book/3512714/1bb06c', 'https://b-ok.cc/book/2736388/fd001b', 'https://b-ok.cc/book/3691508/095f9a', 'https://b-ok.cc/book/755716/be52d7', 'https://b-ok.cc/book/3711505/debacd', 'https://b-ok.cc/book/3559188/53e892', 'https://b-ok.cc/book/2740800/2afbbd', 'https://b-ok.cc/book/3592706/0c0fe6', 'https://b-ok.cc/book/1269579/219dd6', 'https://b-ok.cc/book/3644077/c826f8', 'https://b-ok.cc/book/3419195/8e7587', 'https://b-ok.cc/book/4999688/e399e7', 'https://b-ok.cc/book/2927996/986585', 'https://b-ok.cc/book/3553721/1495ac', 'https://b-ok.cc/book/2839436/b91f6c', 'https://b-ok.cc/book/3592710/aadadc']\n",
      "all_link\n",
      "30\n",
      "['https://b-ok.cc/book/3362289/95ef8d', 'https://b-ok.cc/book/3606242/b2b146', 'https://b-ok.cc/book/668129/b1a2e7', 'https://b-ok.cc/book/647261/f41bd1', 'https://b-ok.cc/book/3642068/da7d8c', 'https://b-ok.cc/book/3711506/d53e54', 'https://b-ok.cc/book/3606241/b6920f', 'https://b-ok.cc/book/3606240/5b40d6', 'https://b-ok.cc/book/4984922/b162b3', 'https://b-ok.cc/book/644083/5386a2', 'https://b-ok.cc/book/1126615/642bb4', 'https://b-ok.cc/book/3629130/efe8d5', 'https://b-ok.cc/book/3681492/07d64c', 'https://b-ok.cc/book/5242222/716a97', 'https://b-ok.cc/book/3512714/1bb06c', 'https://b-ok.cc/book/2736388/fd001b', 'https://b-ok.cc/book/3691508/095f9a', 'https://b-ok.cc/book/755716/be52d7', 'https://b-ok.cc/book/3711505/debacd', 'https://b-ok.cc/book/3559188/53e892', 'https://b-ok.cc/book/2740800/2afbbd', 'https://b-ok.cc/book/3592706/0c0fe6', 'https://b-ok.cc/book/1269579/219dd6', 'https://b-ok.cc/book/3644077/c826f8', 'https://b-ok.cc/book/3419195/8e7587', 'https://b-ok.cc/book/4999688/e399e7', 'https://b-ok.cc/book/2927996/986585', 'https://b-ok.cc/book/3553721/1495ac', 'https://b-ok.cc/book/2839436/b91f6c', 'https://b-ok.cc/book/3592710/aadadc']\n",
      "all_link\n",
      "31\n",
      "['https://b-ok.cc/book/3606242/b2b146', 'https://b-ok.cc/book/3362289/95ef8d', 'https://b-ok.cc/book/668129/b1a2e7', 'https://b-ok.cc/book/647261/f41bd1', 'https://b-ok.cc/book/3711506/d53e54', 'https://b-ok.cc/book/3642068/da7d8c', 'https://b-ok.cc/book/3606241/b6920f', 'https://b-ok.cc/book/3606240/5b40d6', 'https://b-ok.cc/book/4984922/b162b3', 'https://b-ok.cc/book/644083/5386a2', 'https://b-ok.cc/book/1126615/642bb4', 'https://b-ok.cc/book/3629130/efe8d5', 'https://b-ok.cc/book/3681492/07d64c', 'https://b-ok.cc/book/5242222/716a97', 'https://b-ok.cc/book/3512714/1bb06c', 'https://b-ok.cc/book/2736388/fd001b', 'https://b-ok.cc/book/3691508/095f9a', 'https://b-ok.cc/book/755716/be52d7', 'https://b-ok.cc/book/3711505/debacd', 'https://b-ok.cc/book/3559188/53e892', 'https://b-ok.cc/book/2740800/2afbbd', 'https://b-ok.cc/book/3592706/0c0fe6', 'https://b-ok.cc/book/1269579/219dd6', 'https://b-ok.cc/book/3644077/c826f8', 'https://b-ok.cc/book/3419195/8e7587', 'https://b-ok.cc/book/4999688/e399e7', 'https://b-ok.cc/book/2927996/986585', 'https://b-ok.cc/book/3553721/1495ac', 'https://b-ok.cc/book/2834961/c31ac7', 'https://b-ok.cc/book/2839436/b91f6c', 'https://b-ok.cc/book/3592710/aadadc']\n",
      "all_link\n",
      "31\n",
      "['https://b-ok.cc/book/3362289/95ef8d', 'https://b-ok.cc/book/3606242/b2b146', 'https://b-ok.cc/book/668129/b1a2e7', 'https://b-ok.cc/book/647261/f41bd1', 'https://b-ok.cc/book/3642068/da7d8c', 'https://b-ok.cc/book/3711506/d53e54', 'https://b-ok.cc/book/3606241/b6920f', 'https://b-ok.cc/book/3606240/5b40d6', 'https://b-ok.cc/book/4984922/b162b3', 'https://b-ok.cc/book/644083/5386a2', 'https://b-ok.cc/book/1126615/642bb4', 'https://b-ok.cc/book/3629130/efe8d5', 'https://b-ok.cc/book/3681492/07d64c', 'https://b-ok.cc/book/5242222/716a97', 'https://b-ok.cc/book/3512714/1bb06c', 'https://b-ok.cc/book/2736388/fd001b', 'https://b-ok.cc/book/3691508/095f9a', 'https://b-ok.cc/book/755716/be52d7', 'https://b-ok.cc/book/3711505/debacd', 'https://b-ok.cc/book/3559188/53e892', 'https://b-ok.cc/book/2740800/2afbbd', 'https://b-ok.cc/book/3592706/0c0fe6', 'https://b-ok.cc/book/1269579/219dd6', 'https://b-ok.cc/book/3644077/c826f8', 'https://b-ok.cc/book/3419195/8e7587', 'https://b-ok.cc/book/4999688/e399e7', 'https://b-ok.cc/book/2927996/986585', 'https://b-ok.cc/book/3553721/1495ac', 'https://b-ok.cc/book/2834961/c31ac7', 'https://b-ok.cc/book/2839436/b91f6c', 'https://b-ok.cc/book/3592710/aadadc']\n",
      "all_link\n",
      "32\n",
      "['https://b-ok.cc/book/3606242/b2b146', 'https://b-ok.cc/book/3362289/95ef8d', 'https://b-ok.cc/book/668129/b1a2e7', 'https://b-ok.cc/book/647261/f41bd1', 'https://b-ok.cc/book/3711506/d53e54', 'https://b-ok.cc/book/3642068/da7d8c', 'https://b-ok.cc/book/3606241/b6920f', 'https://b-ok.cc/book/3606240/5b40d6', 'https://b-ok.cc/book/4984922/b162b3', 'https://b-ok.cc/book/644083/5386a2', 'https://b-ok.cc/book/5239713/9a42a8', 'https://b-ok.cc/book/1126615/642bb4', 'https://b-ok.cc/book/3629130/efe8d5', 'https://b-ok.cc/book/3681492/07d64c', 'https://b-ok.cc/book/5242222/716a97', 'https://b-ok.cc/book/3512714/1bb06c', 'https://b-ok.cc/book/2736388/fd001b', 'https://b-ok.cc/book/3691508/095f9a', 'https://b-ok.cc/book/755716/be52d7', 'https://b-ok.cc/book/3711505/debacd', 'https://b-ok.cc/book/3559188/53e892', 'https://b-ok.cc/book/2740800/2afbbd', 'https://b-ok.cc/book/3592706/0c0fe6', 'https://b-ok.cc/book/1269579/219dd6', 'https://b-ok.cc/book/3644077/c826f8', 'https://b-ok.cc/book/3419195/8e7587', 'https://b-ok.cc/book/4999688/e399e7', 'https://b-ok.cc/book/2927996/986585', 'https://b-ok.cc/book/3553721/1495ac', 'https://b-ok.cc/book/2834961/c31ac7', 'https://b-ok.cc/book/2839436/b91f6c', 'https://b-ok.cc/book/3592710/aadadc']\n",
      "all_link\n",
      "32\n",
      "['https://b-ok.cc/book/3362289/95ef8d', 'https://b-ok.cc/book/3606242/b2b146', 'https://b-ok.cc/book/668129/b1a2e7', 'https://b-ok.cc/book/647261/f41bd1', 'https://b-ok.cc/book/3642068/da7d8c', 'https://b-ok.cc/book/3711506/d53e54', 'https://b-ok.cc/book/3606241/b6920f', 'https://b-ok.cc/book/3606240/5b40d6', 'https://b-ok.cc/book/4984922/b162b3', 'https://b-ok.cc/book/644083/5386a2', 'https://b-ok.cc/book/5239713/9a42a8', 'https://b-ok.cc/book/1126615/642bb4', 'https://b-ok.cc/book/3629130/efe8d5', 'https://b-ok.cc/book/3681492/07d64c', 'https://b-ok.cc/book/5242222/716a97', 'https://b-ok.cc/book/3512714/1bb06c', 'https://b-ok.cc/book/2736388/fd001b', 'https://b-ok.cc/book/3691508/095f9a', 'https://b-ok.cc/book/755716/be52d7', 'https://b-ok.cc/book/3711505/debacd', 'https://b-ok.cc/book/3559188/53e892', 'https://b-ok.cc/book/2740800/2afbbd', 'https://b-ok.cc/book/3592706/0c0fe6', 'https://b-ok.cc/book/1269579/219dd6', 'https://b-ok.cc/book/3644077/c826f8', 'https://b-ok.cc/book/3419195/8e7587', 'https://b-ok.cc/book/4999688/e399e7', 'https://b-ok.cc/book/2927996/986585', 'https://b-ok.cc/book/3553721/1495ac', 'https://b-ok.cc/book/2834961/c31ac7', 'https://b-ok.cc/book/2839436/b91f6c', 'https://b-ok.cc/book/3592710/aadadc']\n",
      "all_link\n",
      "33\n",
      "['https://b-ok.cc/book/3606242/b2b146', 'https://b-ok.cc/book/3362289/95ef8d', 'https://b-ok.cc/book/668129/b1a2e7', 'https://b-ok.cc/book/647261/f41bd1', 'https://b-ok.cc/book/3711506/d53e54', 'https://b-ok.cc/book/3642068/da7d8c', 'https://b-ok.cc/book/3606241/b6920f', 'https://b-ok.cc/book/3606240/5b40d6', 'https://b-ok.cc/book/4984922/b162b3', 'https://b-ok.cc/book/644083/5386a2', 'https://b-ok.cc/book/5239713/9a42a8', 'https://b-ok.cc/book/1126615/642bb4', 'https://b-ok.cc/book/3629130/efe8d5', 'https://b-ok.cc/book/1271521/30bd1e', 'https://b-ok.cc/book/3681492/07d64c', 'https://b-ok.cc/book/5242222/716a97', 'https://b-ok.cc/book/3512714/1bb06c', 'https://b-ok.cc/book/2736388/fd001b', 'https://b-ok.cc/book/3691508/095f9a', 'https://b-ok.cc/book/755716/be52d7', 'https://b-ok.cc/book/3711505/debacd', 'https://b-ok.cc/book/3559188/53e892', 'https://b-ok.cc/book/2740800/2afbbd', 'https://b-ok.cc/book/3592706/0c0fe6', 'https://b-ok.cc/book/1269579/219dd6', 'https://b-ok.cc/book/3644077/c826f8', 'https://b-ok.cc/book/3419195/8e7587', 'https://b-ok.cc/book/4999688/e399e7', 'https://b-ok.cc/book/2927996/986585', 'https://b-ok.cc/book/3553721/1495ac', 'https://b-ok.cc/book/2834961/c31ac7', 'https://b-ok.cc/book/2839436/b91f6c', 'https://b-ok.cc/book/3592710/aadadc']\n",
      "all_link\n",
      "33\n",
      "['https://b-ok.cc/book/3362289/95ef8d', 'https://b-ok.cc/book/3606242/b2b146', 'https://b-ok.cc/book/668129/b1a2e7', 'https://b-ok.cc/book/647261/f41bd1', 'https://b-ok.cc/book/3642068/da7d8c', 'https://b-ok.cc/book/3711506/d53e54', 'https://b-ok.cc/book/3606241/b6920f', 'https://b-ok.cc/book/3606240/5b40d6', 'https://b-ok.cc/book/4984922/b162b3', 'https://b-ok.cc/book/644083/5386a2', 'https://b-ok.cc/book/5239713/9a42a8', 'https://b-ok.cc/book/1126615/642bb4', 'https://b-ok.cc/book/3629130/efe8d5', 'https://b-ok.cc/book/1271521/30bd1e', 'https://b-ok.cc/book/3681492/07d64c', 'https://b-ok.cc/book/5242222/716a97', 'https://b-ok.cc/book/3512714/1bb06c', 'https://b-ok.cc/book/2736388/fd001b', 'https://b-ok.cc/book/3691508/095f9a', 'https://b-ok.cc/book/755716/be52d7', 'https://b-ok.cc/book/3711505/debacd', 'https://b-ok.cc/book/3559188/53e892', 'https://b-ok.cc/book/2740800/2afbbd', 'https://b-ok.cc/book/3592706/0c0fe6', 'https://b-ok.cc/book/1269579/219dd6', 'https://b-ok.cc/book/3644077/c826f8', 'https://b-ok.cc/book/3419195/8e7587', 'https://b-ok.cc/book/4999688/e399e7', 'https://b-ok.cc/book/2927996/986585', 'https://b-ok.cc/book/3553721/1495ac', 'https://b-ok.cc/book/2834961/c31ac7', 'https://b-ok.cc/book/2839436/b91f6c', 'https://b-ok.cc/book/3592710/aadadc']\n",
      "all_link\n",
      "34\n",
      "['https://b-ok.cc/book/2736225/1808a4', 'https://b-ok.cc/book/3606242/b2b146', 'https://b-ok.cc/book/3362289/95ef8d', 'https://b-ok.cc/book/668129/b1a2e7', 'https://b-ok.cc/book/647261/f41bd1', 'https://b-ok.cc/book/3711506/d53e54', 'https://b-ok.cc/book/3642068/da7d8c', 'https://b-ok.cc/book/3606241/b6920f', 'https://b-ok.cc/book/3606240/5b40d6', 'https://b-ok.cc/book/4984922/b162b3', 'https://b-ok.cc/book/644083/5386a2', 'https://b-ok.cc/book/5239713/9a42a8', 'https://b-ok.cc/book/1126615/642bb4', 'https://b-ok.cc/book/3629130/efe8d5', 'https://b-ok.cc/book/1271521/30bd1e', 'https://b-ok.cc/book/3681492/07d64c', 'https://b-ok.cc/book/5242222/716a97', 'https://b-ok.cc/book/3512714/1bb06c', 'https://b-ok.cc/book/2736388/fd001b', 'https://b-ok.cc/book/3691508/095f9a', 'https://b-ok.cc/book/755716/be52d7', 'https://b-ok.cc/book/3711505/debacd', 'https://b-ok.cc/book/3559188/53e892', 'https://b-ok.cc/book/2740800/2afbbd', 'https://b-ok.cc/book/3592706/0c0fe6', 'https://b-ok.cc/book/1269579/219dd6', 'https://b-ok.cc/book/3644077/c826f8', 'https://b-ok.cc/book/3419195/8e7587', 'https://b-ok.cc/book/4999688/e399e7', 'https://b-ok.cc/book/2927996/986585', 'https://b-ok.cc/book/3553721/1495ac', 'https://b-ok.cc/book/2834961/c31ac7', 'https://b-ok.cc/book/2839436/b91f6c', 'https://b-ok.cc/book/3592710/aadadc']\n",
      "all_link\n",
      "34\n",
      "['https://b-ok.cc/book/2736225/1808a4', 'https://b-ok.cc/book/3362289/95ef8d', 'https://b-ok.cc/book/3606242/b2b146', 'https://b-ok.cc/book/668129/b1a2e7', 'https://b-ok.cc/book/647261/f41bd1', 'https://b-ok.cc/book/3642068/da7d8c', 'https://b-ok.cc/book/3711506/d53e54', 'https://b-ok.cc/book/3606241/b6920f', 'https://b-ok.cc/book/3606240/5b40d6', 'https://b-ok.cc/book/4984922/b162b3', 'https://b-ok.cc/book/644083/5386a2', 'https://b-ok.cc/book/5239713/9a42a8', 'https://b-ok.cc/book/1126615/642bb4', 'https://b-ok.cc/book/3629130/efe8d5', 'https://b-ok.cc/book/1271521/30bd1e', 'https://b-ok.cc/book/3681492/07d64c', 'https://b-ok.cc/book/5242222/716a97', 'https://b-ok.cc/book/3512714/1bb06c', 'https://b-ok.cc/book/2736388/fd001b', 'https://b-ok.cc/book/3691508/095f9a', 'https://b-ok.cc/book/755716/be52d7', 'https://b-ok.cc/book/3711505/debacd', 'https://b-ok.cc/book/3559188/53e892', 'https://b-ok.cc/book/2740800/2afbbd', 'https://b-ok.cc/book/3592706/0c0fe6', 'https://b-ok.cc/book/1269579/219dd6', 'https://b-ok.cc/book/3644077/c826f8', 'https://b-ok.cc/book/3419195/8e7587', 'https://b-ok.cc/book/4999688/e399e7', 'https://b-ok.cc/book/2927996/986585', 'https://b-ok.cc/book/3553721/1495ac', 'https://b-ok.cc/book/2834961/c31ac7', 'https://b-ok.cc/book/2839436/b91f6c', 'https://b-ok.cc/book/3592710/aadadc']\n",
      "all_link\n",
      "35\n",
      "['https://b-ok.cc/book/2736225/1808a4', 'https://b-ok.cc/book/3606242/b2b146', 'https://b-ok.cc/book/3362289/95ef8d', 'https://b-ok.cc/book/668129/b1a2e7', 'https://b-ok.cc/book/647261/f41bd1', 'https://b-ok.cc/book/3711506/d53e54', 'https://b-ok.cc/book/3642068/da7d8c', 'https://b-ok.cc/book/3606241/b6920f', 'https://b-ok.cc/book/3606240/5b40d6', 'https://b-ok.cc/book/4984922/b162b3', 'https://b-ok.cc/book/644083/5386a2', 'https://b-ok.cc/book/5239713/9a42a8', 'https://b-ok.cc/book/2841641/5a9b1e', 'https://b-ok.cc/book/1126615/642bb4', 'https://b-ok.cc/book/3629130/efe8d5', 'https://b-ok.cc/book/1271521/30bd1e', 'https://b-ok.cc/book/3681492/07d64c', 'https://b-ok.cc/book/5242222/716a97', 'https://b-ok.cc/book/3512714/1bb06c', 'https://b-ok.cc/book/2736388/fd001b', 'https://b-ok.cc/book/3691508/095f9a', 'https://b-ok.cc/book/755716/be52d7', 'https://b-ok.cc/book/3711505/debacd', 'https://b-ok.cc/book/3559188/53e892', 'https://b-ok.cc/book/2740800/2afbbd', 'https://b-ok.cc/book/3592706/0c0fe6', 'https://b-ok.cc/book/1269579/219dd6', 'https://b-ok.cc/book/3644077/c826f8', 'https://b-ok.cc/book/3419195/8e7587', 'https://b-ok.cc/book/4999688/e399e7', 'https://b-ok.cc/book/2927996/986585', 'https://b-ok.cc/book/3553721/1495ac', 'https://b-ok.cc/book/2834961/c31ac7', 'https://b-ok.cc/book/2839436/b91f6c', 'https://b-ok.cc/book/3592710/aadadc']\n",
      "all_link\n",
      "35\n",
      "['https://b-ok.cc/book/2736225/1808a4', 'https://b-ok.cc/book/3362289/95ef8d', 'https://b-ok.cc/book/3606242/b2b146', 'https://b-ok.cc/book/668129/b1a2e7', 'https://b-ok.cc/book/647261/f41bd1', 'https://b-ok.cc/book/3642068/da7d8c', 'https://b-ok.cc/book/3711506/d53e54', 'https://b-ok.cc/book/3606241/b6920f', 'https://b-ok.cc/book/3606240/5b40d6', 'https://b-ok.cc/book/4984922/b162b3', 'https://b-ok.cc/book/644083/5386a2', 'https://b-ok.cc/book/5239713/9a42a8', 'https://b-ok.cc/book/2841641/5a9b1e', 'https://b-ok.cc/book/1126615/642bb4', 'https://b-ok.cc/book/3629130/efe8d5', 'https://b-ok.cc/book/1271521/30bd1e', 'https://b-ok.cc/book/3681492/07d64c', 'https://b-ok.cc/book/5242222/716a97', 'https://b-ok.cc/book/3512714/1bb06c', 'https://b-ok.cc/book/2736388/fd001b', 'https://b-ok.cc/book/3691508/095f9a', 'https://b-ok.cc/book/755716/be52d7', 'https://b-ok.cc/book/3711505/debacd', 'https://b-ok.cc/book/3559188/53e892', 'https://b-ok.cc/book/2740800/2afbbd', 'https://b-ok.cc/book/3592706/0c0fe6', 'https://b-ok.cc/book/1269579/219dd6', 'https://b-ok.cc/book/3644077/c826f8', 'https://b-ok.cc/book/3419195/8e7587', 'https://b-ok.cc/book/4999688/e399e7', 'https://b-ok.cc/book/2927996/986585', 'https://b-ok.cc/book/3553721/1495ac', 'https://b-ok.cc/book/2834961/c31ac7', 'https://b-ok.cc/book/2839436/b91f6c', 'https://b-ok.cc/book/3592710/aadadc']\n",
      "all_link\n",
      "36\n",
      "['https://b-ok.cc/book/2736225/1808a4', 'https://b-ok.cc/book/3606242/b2b146', 'https://b-ok.cc/book/3362289/95ef8d', 'https://b-ok.cc/book/668129/b1a2e7', 'https://b-ok.cc/book/647261/f41bd1', 'https://b-ok.cc/book/3711506/d53e54', 'https://b-ok.cc/book/3642068/da7d8c', 'https://b-ok.cc/book/3606241/b6920f', 'https://b-ok.cc/book/5218917/073089', 'https://b-ok.cc/book/3606240/5b40d6', 'https://b-ok.cc/book/4984922/b162b3', 'https://b-ok.cc/book/644083/5386a2', 'https://b-ok.cc/book/5239713/9a42a8', 'https://b-ok.cc/book/2841641/5a9b1e', 'https://b-ok.cc/book/1126615/642bb4', 'https://b-ok.cc/book/3629130/efe8d5', 'https://b-ok.cc/book/1271521/30bd1e', 'https://b-ok.cc/book/3681492/07d64c', 'https://b-ok.cc/book/5242222/716a97', 'https://b-ok.cc/book/3512714/1bb06c', 'https://b-ok.cc/book/2736388/fd001b', 'https://b-ok.cc/book/3691508/095f9a', 'https://b-ok.cc/book/755716/be52d7', 'https://b-ok.cc/book/3711505/debacd', 'https://b-ok.cc/book/3559188/53e892', 'https://b-ok.cc/book/2740800/2afbbd', 'https://b-ok.cc/book/3592706/0c0fe6', 'https://b-ok.cc/book/1269579/219dd6', 'https://b-ok.cc/book/3644077/c826f8', 'https://b-ok.cc/book/3419195/8e7587', 'https://b-ok.cc/book/4999688/e399e7', 'https://b-ok.cc/book/2927996/986585', 'https://b-ok.cc/book/3553721/1495ac', 'https://b-ok.cc/book/2834961/c31ac7', 'https://b-ok.cc/book/2839436/b91f6c', 'https://b-ok.cc/book/3592710/aadadc']\n",
      "all_link\n",
      "36\n",
      "['https://b-ok.cc/book/2736225/1808a4', 'https://b-ok.cc/book/3362289/95ef8d', 'https://b-ok.cc/book/3606242/b2b146', 'https://b-ok.cc/book/668129/b1a2e7', 'https://b-ok.cc/book/647261/f41bd1', 'https://b-ok.cc/book/3642068/da7d8c', 'https://b-ok.cc/book/3711506/d53e54', 'https://b-ok.cc/book/3606241/b6920f', 'https://b-ok.cc/book/5218917/073089', 'https://b-ok.cc/book/3606240/5b40d6', 'https://b-ok.cc/book/4984922/b162b3', 'https://b-ok.cc/book/644083/5386a2', 'https://b-ok.cc/book/5239713/9a42a8', 'https://b-ok.cc/book/2841641/5a9b1e', 'https://b-ok.cc/book/1126615/642bb4', 'https://b-ok.cc/book/3629130/efe8d5', 'https://b-ok.cc/book/1271521/30bd1e', 'https://b-ok.cc/book/3681492/07d64c', 'https://b-ok.cc/book/5242222/716a97', 'https://b-ok.cc/book/3512714/1bb06c', 'https://b-ok.cc/book/2736388/fd001b', 'https://b-ok.cc/book/3691508/095f9a', 'https://b-ok.cc/book/755716/be52d7', 'https://b-ok.cc/book/3711505/debacd', 'https://b-ok.cc/book/3559188/53e892', 'https://b-ok.cc/book/2740800/2afbbd', 'https://b-ok.cc/book/3592706/0c0fe6', 'https://b-ok.cc/book/1269579/219dd6', 'https://b-ok.cc/book/3644077/c826f8', 'https://b-ok.cc/book/3419195/8e7587', 'https://b-ok.cc/book/4999688/e399e7', 'https://b-ok.cc/book/2927996/986585', 'https://b-ok.cc/book/3553721/1495ac', 'https://b-ok.cc/book/2834961/c31ac7', 'https://b-ok.cc/book/2839436/b91f6c', 'https://b-ok.cc/book/3592710/aadadc']\n",
      "all_link\n",
      "37\n",
      "['https://b-ok.cc/book/2736225/1808a4', 'https://b-ok.cc/book/3606242/b2b146', 'https://b-ok.cc/book/3362289/95ef8d', 'https://b-ok.cc/book/668129/b1a2e7', 'https://b-ok.cc/book/647261/f41bd1', 'https://b-ok.cc/book/3711506/d53e54', 'https://b-ok.cc/book/3642068/da7d8c', 'https://b-ok.cc/book/3606241/b6920f', 'https://b-ok.cc/book/5218917/073089', 'https://b-ok.cc/book/3606240/5b40d6', 'https://b-ok.cc/book/4984922/b162b3', 'https://b-ok.cc/book/644083/5386a2', 'https://b-ok.cc/book/5239713/9a42a8', 'https://b-ok.cc/book/2841641/5a9b1e', 'https://b-ok.cc/book/1126615/642bb4', 'https://b-ok.cc/book/3629130/efe8d5', 'https://b-ok.cc/book/1271521/30bd1e', 'https://b-ok.cc/book/3681492/07d64c', 'https://b-ok.cc/book/5242222/716a97', 'https://b-ok.cc/book/3512714/1bb06c', 'https://b-ok.cc/book/2736388/fd001b', 'https://b-ok.cc/book/3691508/095f9a', 'https://b-ok.cc/book/755716/be52d7', 'https://b-ok.cc/book/3711505/debacd', 'https://b-ok.cc/book/3559188/53e892', 'https://b-ok.cc/book/2740800/2afbbd', 'https://b-ok.cc/book/5239705/99f585', 'https://b-ok.cc/book/3592706/0c0fe6', 'https://b-ok.cc/book/1269579/219dd6', 'https://b-ok.cc/book/3644077/c826f8', 'https://b-ok.cc/book/3419195/8e7587', 'https://b-ok.cc/book/4999688/e399e7', 'https://b-ok.cc/book/2927996/986585', 'https://b-ok.cc/book/3553721/1495ac', 'https://b-ok.cc/book/2834961/c31ac7', 'https://b-ok.cc/book/2839436/b91f6c', 'https://b-ok.cc/book/3592710/aadadc']\n",
      "all_link\n",
      "37\n",
      "['https://b-ok.cc/book/2736225/1808a4', 'https://b-ok.cc/book/3362289/95ef8d', 'https://b-ok.cc/book/3606242/b2b146', 'https://b-ok.cc/book/668129/b1a2e7', 'https://b-ok.cc/book/647261/f41bd1', 'https://b-ok.cc/book/3642068/da7d8c', 'https://b-ok.cc/book/3711506/d53e54', 'https://b-ok.cc/book/3606241/b6920f', 'https://b-ok.cc/book/5218917/073089', 'https://b-ok.cc/book/3606240/5b40d6', 'https://b-ok.cc/book/4984922/b162b3', 'https://b-ok.cc/book/644083/5386a2', 'https://b-ok.cc/book/5239713/9a42a8', 'https://b-ok.cc/book/2841641/5a9b1e', 'https://b-ok.cc/book/1126615/642bb4', 'https://b-ok.cc/book/3629130/efe8d5', 'https://b-ok.cc/book/1271521/30bd1e', 'https://b-ok.cc/book/3681492/07d64c', 'https://b-ok.cc/book/5242222/716a97', 'https://b-ok.cc/book/3512714/1bb06c', 'https://b-ok.cc/book/2736388/fd001b', 'https://b-ok.cc/book/3691508/095f9a', 'https://b-ok.cc/book/755716/be52d7', 'https://b-ok.cc/book/3711505/debacd', 'https://b-ok.cc/book/3559188/53e892', 'https://b-ok.cc/book/2740800/2afbbd', 'https://b-ok.cc/book/5239705/99f585', 'https://b-ok.cc/book/3592706/0c0fe6', 'https://b-ok.cc/book/1269579/219dd6', 'https://b-ok.cc/book/3644077/c826f8', 'https://b-ok.cc/book/3419195/8e7587', 'https://b-ok.cc/book/4999688/e399e7', 'https://b-ok.cc/book/2927996/986585', 'https://b-ok.cc/book/3553721/1495ac', 'https://b-ok.cc/book/2834961/c31ac7', 'https://b-ok.cc/book/2839436/b91f6c', 'https://b-ok.cc/book/3592710/aadadc']\n",
      "all_link\n",
      "38\n",
      "['https://b-ok.cc/book/2736225/1808a4', 'https://b-ok.cc/book/3606242/b2b146', 'https://b-ok.cc/book/3362289/95ef8d', 'https://b-ok.cc/book/668129/b1a2e7', 'https://b-ok.cc/book/647261/f41bd1', 'https://b-ok.cc/book/3711506/d53e54', 'https://b-ok.cc/book/3642068/da7d8c', 'https://b-ok.cc/book/3606241/b6920f', 'https://b-ok.cc/book/5218917/073089', 'https://b-ok.cc/book/3606240/5b40d6', 'https://b-ok.cc/book/4984922/b162b3', 'https://b-ok.cc/book/644083/5386a2', 'https://b-ok.cc/book/5239713/9a42a8', 'https://b-ok.cc/book/2841641/5a9b1e', 'https://b-ok.cc/book/1126615/642bb4', 'https://b-ok.cc/book/3629130/efe8d5', 'https://b-ok.cc/book/1271521/30bd1e', 'https://b-ok.cc/book/3681492/07d64c', 'https://b-ok.cc/book/1123519/48846e', 'https://b-ok.cc/book/5242222/716a97', 'https://b-ok.cc/book/3512714/1bb06c', 'https://b-ok.cc/book/2736388/fd001b', 'https://b-ok.cc/book/3691508/095f9a', 'https://b-ok.cc/book/755716/be52d7', 'https://b-ok.cc/book/3711505/debacd', 'https://b-ok.cc/book/3559188/53e892', 'https://b-ok.cc/book/2740800/2afbbd', 'https://b-ok.cc/book/5239705/99f585', 'https://b-ok.cc/book/3592706/0c0fe6', 'https://b-ok.cc/book/1269579/219dd6', 'https://b-ok.cc/book/3644077/c826f8', 'https://b-ok.cc/book/3419195/8e7587', 'https://b-ok.cc/book/4999688/e399e7', 'https://b-ok.cc/book/2927996/986585', 'https://b-ok.cc/book/3553721/1495ac', 'https://b-ok.cc/book/2834961/c31ac7', 'https://b-ok.cc/book/2839436/b91f6c', 'https://b-ok.cc/book/3592710/aadadc']\n",
      "all_link\n",
      "38\n",
      "['https://b-ok.cc/book/2736225/1808a4', 'https://b-ok.cc/book/3362289/95ef8d', 'https://b-ok.cc/book/3606242/b2b146', 'https://b-ok.cc/book/668129/b1a2e7', 'https://b-ok.cc/book/647261/f41bd1', 'https://b-ok.cc/book/3642068/da7d8c', 'https://b-ok.cc/book/3711506/d53e54', 'https://b-ok.cc/book/3606241/b6920f', 'https://b-ok.cc/book/5218917/073089', 'https://b-ok.cc/book/3606240/5b40d6', 'https://b-ok.cc/book/4984922/b162b3', 'https://b-ok.cc/book/644083/5386a2', 'https://b-ok.cc/book/5239713/9a42a8', 'https://b-ok.cc/book/2841641/5a9b1e', 'https://b-ok.cc/book/1126615/642bb4', 'https://b-ok.cc/book/3629130/efe8d5', 'https://b-ok.cc/book/1271521/30bd1e', 'https://b-ok.cc/book/3681492/07d64c', 'https://b-ok.cc/book/1123519/48846e', 'https://b-ok.cc/book/5242222/716a97', 'https://b-ok.cc/book/3512714/1bb06c', 'https://b-ok.cc/book/2736388/fd001b', 'https://b-ok.cc/book/3691508/095f9a', 'https://b-ok.cc/book/755716/be52d7', 'https://b-ok.cc/book/3711505/debacd', 'https://b-ok.cc/book/3559188/53e892', 'https://b-ok.cc/book/2740800/2afbbd', 'https://b-ok.cc/book/5239705/99f585', 'https://b-ok.cc/book/3592706/0c0fe6', 'https://b-ok.cc/book/1269579/219dd6', 'https://b-ok.cc/book/3644077/c826f8', 'https://b-ok.cc/book/3419195/8e7587', 'https://b-ok.cc/book/4999688/e399e7', 'https://b-ok.cc/book/2927996/986585', 'https://b-ok.cc/book/3553721/1495ac', 'https://b-ok.cc/book/2834961/c31ac7', 'https://b-ok.cc/book/2839436/b91f6c', 'https://b-ok.cc/book/3592710/aadadc']\n",
      "all_link\n",
      "39\n",
      "['https://b-ok.cc/book/2736225/1808a4', 'https://b-ok.cc/book/3606242/b2b146', 'https://b-ok.cc/book/3362289/95ef8d', 'https://b-ok.cc/book/668129/b1a2e7', 'https://b-ok.cc/book/647261/f41bd1', 'https://b-ok.cc/book/3711506/d53e54', 'https://b-ok.cc/book/3642068/da7d8c', 'https://b-ok.cc/book/3606241/b6920f', 'https://b-ok.cc/book/5218917/073089', 'https://b-ok.cc/book/3606240/5b40d6', 'https://b-ok.cc/book/4984922/b162b3', 'https://b-ok.cc/book/644083/5386a2', 'https://b-ok.cc/book/5239713/9a42a8', 'https://b-ok.cc/book/2841641/5a9b1e', 'https://b-ok.cc/book/1126615/642bb4', 'https://b-ok.cc/book/3629130/efe8d5', 'https://b-ok.cc/book/1271521/30bd1e', 'https://b-ok.cc/book/3681492/07d64c', 'https://b-ok.cc/book/1123519/48846e', 'https://b-ok.cc/book/5242222/716a97', 'https://b-ok.cc/book/3512714/1bb06c', 'https://b-ok.cc/book/2736388/fd001b', 'https://b-ok.cc/book/3691508/095f9a', 'https://b-ok.cc/book/755716/be52d7', 'https://b-ok.cc/book/3711505/debacd', 'https://b-ok.cc/book/3559188/53e892', 'https://b-ok.cc/book/3616120/7588e2', 'https://b-ok.cc/book/2740800/2afbbd', 'https://b-ok.cc/book/5239705/99f585', 'https://b-ok.cc/book/3592706/0c0fe6', 'https://b-ok.cc/book/1269579/219dd6', 'https://b-ok.cc/book/3644077/c826f8', 'https://b-ok.cc/book/3419195/8e7587', 'https://b-ok.cc/book/4999688/e399e7', 'https://b-ok.cc/book/2927996/986585', 'https://b-ok.cc/book/3553721/1495ac', 'https://b-ok.cc/book/2834961/c31ac7', 'https://b-ok.cc/book/2839436/b91f6c', 'https://b-ok.cc/book/3592710/aadadc']\n",
      "all_link\n",
      "39\n",
      "['https://b-ok.cc/book/2736225/1808a4', 'https://b-ok.cc/book/3362289/95ef8d', 'https://b-ok.cc/book/3606242/b2b146', 'https://b-ok.cc/book/668129/b1a2e7', 'https://b-ok.cc/book/647261/f41bd1', 'https://b-ok.cc/book/3642068/da7d8c', 'https://b-ok.cc/book/3711506/d53e54', 'https://b-ok.cc/book/3606241/b6920f', 'https://b-ok.cc/book/5218917/073089', 'https://b-ok.cc/book/3606240/5b40d6', 'https://b-ok.cc/book/4984922/b162b3', 'https://b-ok.cc/book/644083/5386a2', 'https://b-ok.cc/book/5239713/9a42a8', 'https://b-ok.cc/book/2841641/5a9b1e', 'https://b-ok.cc/book/1126615/642bb4', 'https://b-ok.cc/book/3629130/efe8d5', 'https://b-ok.cc/book/1271521/30bd1e', 'https://b-ok.cc/book/3681492/07d64c', 'https://b-ok.cc/book/1123519/48846e', 'https://b-ok.cc/book/5242222/716a97', 'https://b-ok.cc/book/3512714/1bb06c', 'https://b-ok.cc/book/2736388/fd001b', 'https://b-ok.cc/book/3691508/095f9a', 'https://b-ok.cc/book/755716/be52d7', 'https://b-ok.cc/book/3711505/debacd', 'https://b-ok.cc/book/3559188/53e892', 'https://b-ok.cc/book/3616120/7588e2', 'https://b-ok.cc/book/2740800/2afbbd', 'https://b-ok.cc/book/5239705/99f585', 'https://b-ok.cc/book/3592706/0c0fe6', 'https://b-ok.cc/book/1269579/219dd6', 'https://b-ok.cc/book/3644077/c826f8', 'https://b-ok.cc/book/3419195/8e7587', 'https://b-ok.cc/book/4999688/e399e7', 'https://b-ok.cc/book/2927996/986585', 'https://b-ok.cc/book/3553721/1495ac', 'https://b-ok.cc/book/2834961/c31ac7', 'https://b-ok.cc/book/2839436/b91f6c', 'https://b-ok.cc/book/3592710/aadadc']\n",
      "all_link\n",
      "40\n",
      "['https://b-ok.cc/book/2736225/1808a4', 'https://b-ok.cc/book/3691442/369906', 'https://b-ok.cc/book/3606242/b2b146', 'https://b-ok.cc/book/3362289/95ef8d', 'https://b-ok.cc/book/668129/b1a2e7', 'https://b-ok.cc/book/647261/f41bd1', 'https://b-ok.cc/book/3711506/d53e54', 'https://b-ok.cc/book/3642068/da7d8c', 'https://b-ok.cc/book/3606241/b6920f', 'https://b-ok.cc/book/5218917/073089', 'https://b-ok.cc/book/3606240/5b40d6', 'https://b-ok.cc/book/4984922/b162b3', 'https://b-ok.cc/book/644083/5386a2', 'https://b-ok.cc/book/5239713/9a42a8', 'https://b-ok.cc/book/2841641/5a9b1e', 'https://b-ok.cc/book/1126615/642bb4', 'https://b-ok.cc/book/3629130/efe8d5', 'https://b-ok.cc/book/1271521/30bd1e', 'https://b-ok.cc/book/3681492/07d64c', 'https://b-ok.cc/book/1123519/48846e', 'https://b-ok.cc/book/5242222/716a97', 'https://b-ok.cc/book/3512714/1bb06c', 'https://b-ok.cc/book/2736388/fd001b', 'https://b-ok.cc/book/3691508/095f9a', 'https://b-ok.cc/book/755716/be52d7', 'https://b-ok.cc/book/3711505/debacd', 'https://b-ok.cc/book/3559188/53e892', 'https://b-ok.cc/book/3616120/7588e2', 'https://b-ok.cc/book/2740800/2afbbd', 'https://b-ok.cc/book/5239705/99f585', 'https://b-ok.cc/book/3592706/0c0fe6', 'https://b-ok.cc/book/1269579/219dd6', 'https://b-ok.cc/book/3644077/c826f8', 'https://b-ok.cc/book/3419195/8e7587', 'https://b-ok.cc/book/4999688/e399e7', 'https://b-ok.cc/book/2927996/986585', 'https://b-ok.cc/book/3553721/1495ac', 'https://b-ok.cc/book/2834961/c31ac7', 'https://b-ok.cc/book/2839436/b91f6c', 'https://b-ok.cc/book/3592710/aadadc']\n",
      "all_link\n",
      "40\n",
      "['https://b-ok.cc/book/2736225/1808a4', 'https://b-ok.cc/book/3691442/369906', 'https://b-ok.cc/book/3362289/95ef8d', 'https://b-ok.cc/book/3606242/b2b146', 'https://b-ok.cc/book/668129/b1a2e7', 'https://b-ok.cc/book/647261/f41bd1', 'https://b-ok.cc/book/3642068/da7d8c', 'https://b-ok.cc/book/3711506/d53e54', 'https://b-ok.cc/book/3606241/b6920f', 'https://b-ok.cc/book/5218917/073089', 'https://b-ok.cc/book/3606240/5b40d6', 'https://b-ok.cc/book/4984922/b162b3', 'https://b-ok.cc/book/644083/5386a2', 'https://b-ok.cc/book/5239713/9a42a8', 'https://b-ok.cc/book/2841641/5a9b1e', 'https://b-ok.cc/book/1126615/642bb4', 'https://b-ok.cc/book/3629130/efe8d5', 'https://b-ok.cc/book/1271521/30bd1e', 'https://b-ok.cc/book/3681492/07d64c', 'https://b-ok.cc/book/1123519/48846e', 'https://b-ok.cc/book/5242222/716a97', 'https://b-ok.cc/book/3512714/1bb06c', 'https://b-ok.cc/book/2736388/fd001b', 'https://b-ok.cc/book/3691508/095f9a', 'https://b-ok.cc/book/755716/be52d7', 'https://b-ok.cc/book/3711505/debacd', 'https://b-ok.cc/book/3559188/53e892', 'https://b-ok.cc/book/3616120/7588e2', 'https://b-ok.cc/book/2740800/2afbbd', 'https://b-ok.cc/book/5239705/99f585', 'https://b-ok.cc/book/3592706/0c0fe6', 'https://b-ok.cc/book/1269579/219dd6', 'https://b-ok.cc/book/3644077/c826f8', 'https://b-ok.cc/book/3419195/8e7587', 'https://b-ok.cc/book/4999688/e399e7', 'https://b-ok.cc/book/2927996/986585', 'https://b-ok.cc/book/3553721/1495ac', 'https://b-ok.cc/book/2834961/c31ac7', 'https://b-ok.cc/book/2839436/b91f6c', 'https://b-ok.cc/book/3592710/aadadc']\n",
      "all_link\n",
      "41\n",
      "['https://b-ok.cc/book/2736225/1808a4', 'https://b-ok.cc/book/3691442/369906', 'https://b-ok.cc/book/3606242/b2b146', 'https://b-ok.cc/book/3362289/95ef8d', 'https://b-ok.cc/book/668129/b1a2e7', 'https://b-ok.cc/book/647261/f41bd1', 'https://b-ok.cc/book/3711506/d53e54', 'https://b-ok.cc/book/3642068/da7d8c', 'https://b-ok.cc/book/3606241/b6920f', 'https://b-ok.cc/book/5218917/073089', 'https://b-ok.cc/book/3606240/5b40d6', 'https://b-ok.cc/book/4984922/b162b3', 'https://b-ok.cc/book/644083/5386a2', 'https://b-ok.cc/book/5239713/9a42a8', 'https://b-ok.cc/book/2841641/5a9b1e', 'https://b-ok.cc/book/1126615/642bb4', 'https://b-ok.cc/book/3691511/03d5ee', 'https://b-ok.cc/book/3629130/efe8d5', 'https://b-ok.cc/book/1271521/30bd1e', 'https://b-ok.cc/book/3681492/07d64c', 'https://b-ok.cc/book/1123519/48846e', 'https://b-ok.cc/book/5242222/716a97', 'https://b-ok.cc/book/3512714/1bb06c', 'https://b-ok.cc/book/2736388/fd001b', 'https://b-ok.cc/book/3691508/095f9a', 'https://b-ok.cc/book/755716/be52d7', 'https://b-ok.cc/book/3711505/debacd', 'https://b-ok.cc/book/3559188/53e892', 'https://b-ok.cc/book/3616120/7588e2', 'https://b-ok.cc/book/2740800/2afbbd', 'https://b-ok.cc/book/5239705/99f585', 'https://b-ok.cc/book/3592706/0c0fe6', 'https://b-ok.cc/book/1269579/219dd6', 'https://b-ok.cc/book/3644077/c826f8', 'https://b-ok.cc/book/3419195/8e7587', 'https://b-ok.cc/book/4999688/e399e7', 'https://b-ok.cc/book/2927996/986585', 'https://b-ok.cc/book/3553721/1495ac', 'https://b-ok.cc/book/2834961/c31ac7', 'https://b-ok.cc/book/2839436/b91f6c', 'https://b-ok.cc/book/3592710/aadadc']\n",
      "all_link\n",
      "41\n",
      "['https://b-ok.cc/book/2736225/1808a4', 'https://b-ok.cc/book/3691442/369906', 'https://b-ok.cc/book/3362289/95ef8d', 'https://b-ok.cc/book/3606242/b2b146', 'https://b-ok.cc/book/668129/b1a2e7', 'https://b-ok.cc/book/647261/f41bd1', 'https://b-ok.cc/book/3642068/da7d8c', 'https://b-ok.cc/book/3711506/d53e54', 'https://b-ok.cc/book/3606241/b6920f', 'https://b-ok.cc/book/5218917/073089', 'https://b-ok.cc/book/3606240/5b40d6', 'https://b-ok.cc/book/4984922/b162b3', 'https://b-ok.cc/book/644083/5386a2', 'https://b-ok.cc/book/5239713/9a42a8', 'https://b-ok.cc/book/2841641/5a9b1e', 'https://b-ok.cc/book/1126615/642bb4', 'https://b-ok.cc/book/3691511/03d5ee', 'https://b-ok.cc/book/3629130/efe8d5', 'https://b-ok.cc/book/1271521/30bd1e', 'https://b-ok.cc/book/3681492/07d64c', 'https://b-ok.cc/book/1123519/48846e', 'https://b-ok.cc/book/5242222/716a97', 'https://b-ok.cc/book/3512714/1bb06c', 'https://b-ok.cc/book/2736388/fd001b', 'https://b-ok.cc/book/3691508/095f9a', 'https://b-ok.cc/book/755716/be52d7', 'https://b-ok.cc/book/3711505/debacd', 'https://b-ok.cc/book/3559188/53e892', 'https://b-ok.cc/book/3616120/7588e2', 'https://b-ok.cc/book/2740800/2afbbd', 'https://b-ok.cc/book/5239705/99f585', 'https://b-ok.cc/book/3592706/0c0fe6', 'https://b-ok.cc/book/1269579/219dd6', 'https://b-ok.cc/book/3644077/c826f8', 'https://b-ok.cc/book/3419195/8e7587', 'https://b-ok.cc/book/4999688/e399e7', 'https://b-ok.cc/book/2927996/986585', 'https://b-ok.cc/book/3553721/1495ac', 'https://b-ok.cc/book/2834961/c31ac7', 'https://b-ok.cc/book/2839436/b91f6c', 'https://b-ok.cc/book/3592710/aadadc']\n",
      "all_link\n",
      "42\n",
      "['https://b-ok.cc/book/2736225/1808a4', 'https://b-ok.cc/book/3437187/01a479', 'https://b-ok.cc/book/3691442/369906', 'https://b-ok.cc/book/3606242/b2b146', 'https://b-ok.cc/book/3362289/95ef8d', 'https://b-ok.cc/book/668129/b1a2e7', 'https://b-ok.cc/book/647261/f41bd1', 'https://b-ok.cc/book/3711506/d53e54', 'https://b-ok.cc/book/3642068/da7d8c', 'https://b-ok.cc/book/3606241/b6920f', 'https://b-ok.cc/book/5218917/073089', 'https://b-ok.cc/book/3606240/5b40d6', 'https://b-ok.cc/book/4984922/b162b3', 'https://b-ok.cc/book/644083/5386a2', 'https://b-ok.cc/book/5239713/9a42a8', 'https://b-ok.cc/book/2841641/5a9b1e', 'https://b-ok.cc/book/1126615/642bb4', 'https://b-ok.cc/book/3691511/03d5ee', 'https://b-ok.cc/book/3629130/efe8d5', 'https://b-ok.cc/book/1271521/30bd1e', 'https://b-ok.cc/book/3681492/07d64c', 'https://b-ok.cc/book/1123519/48846e', 'https://b-ok.cc/book/5242222/716a97', 'https://b-ok.cc/book/3512714/1bb06c', 'https://b-ok.cc/book/2736388/fd001b', 'https://b-ok.cc/book/3691508/095f9a', 'https://b-ok.cc/book/755716/be52d7', 'https://b-ok.cc/book/3711505/debacd', 'https://b-ok.cc/book/3559188/53e892', 'https://b-ok.cc/book/3616120/7588e2', 'https://b-ok.cc/book/2740800/2afbbd', 'https://b-ok.cc/book/5239705/99f585', 'https://b-ok.cc/book/3592706/0c0fe6', 'https://b-ok.cc/book/1269579/219dd6', 'https://b-ok.cc/book/3644077/c826f8', 'https://b-ok.cc/book/3419195/8e7587', 'https://b-ok.cc/book/4999688/e399e7', 'https://b-ok.cc/book/2927996/986585', 'https://b-ok.cc/book/3553721/1495ac', 'https://b-ok.cc/book/2834961/c31ac7', 'https://b-ok.cc/book/2839436/b91f6c', 'https://b-ok.cc/book/3592710/aadadc']\n",
      "all_link\n",
      "42\n",
      "['https://b-ok.cc/book/2736225/1808a4', 'https://b-ok.cc/book/3437187/01a479', 'https://b-ok.cc/book/3691442/369906', 'https://b-ok.cc/book/3362289/95ef8d', 'https://b-ok.cc/book/3606242/b2b146', 'https://b-ok.cc/book/668129/b1a2e7', 'https://b-ok.cc/book/647261/f41bd1', 'https://b-ok.cc/book/3642068/da7d8c', 'https://b-ok.cc/book/3711506/d53e54', 'https://b-ok.cc/book/3606241/b6920f', 'https://b-ok.cc/book/5218917/073089', 'https://b-ok.cc/book/3606240/5b40d6', 'https://b-ok.cc/book/4984922/b162b3', 'https://b-ok.cc/book/644083/5386a2', 'https://b-ok.cc/book/5239713/9a42a8', 'https://b-ok.cc/book/2841641/5a9b1e', 'https://b-ok.cc/book/1126615/642bb4', 'https://b-ok.cc/book/3691511/03d5ee', 'https://b-ok.cc/book/3629130/efe8d5', 'https://b-ok.cc/book/1271521/30bd1e', 'https://b-ok.cc/book/3681492/07d64c', 'https://b-ok.cc/book/1123519/48846e', 'https://b-ok.cc/book/5242222/716a97', 'https://b-ok.cc/book/3512714/1bb06c', 'https://b-ok.cc/book/2736388/fd001b', 'https://b-ok.cc/book/3691508/095f9a', 'https://b-ok.cc/book/755716/be52d7', 'https://b-ok.cc/book/3711505/debacd', 'https://b-ok.cc/book/3559188/53e892', 'https://b-ok.cc/book/3616120/7588e2', 'https://b-ok.cc/book/2740800/2afbbd', 'https://b-ok.cc/book/5239705/99f585', 'https://b-ok.cc/book/3592706/0c0fe6', 'https://b-ok.cc/book/1269579/219dd6', 'https://b-ok.cc/book/3644077/c826f8', 'https://b-ok.cc/book/3419195/8e7587', 'https://b-ok.cc/book/4999688/e399e7', 'https://b-ok.cc/book/2927996/986585', 'https://b-ok.cc/book/3553721/1495ac', 'https://b-ok.cc/book/2834961/c31ac7', 'https://b-ok.cc/book/2839436/b91f6c', 'https://b-ok.cc/book/3592710/aadadc']\n",
      "all_link\n",
      "43\n",
      "['https://b-ok.cc/book/2736225/1808a4', 'https://b-ok.cc/book/3437187/01a479', 'https://b-ok.cc/book/3691442/369906', 'https://b-ok.cc/book/3606242/b2b146', 'https://b-ok.cc/book/3362289/95ef8d', 'https://b-ok.cc/book/668129/b1a2e7', 'https://b-ok.cc/book/647261/f41bd1', 'https://b-ok.cc/book/3711506/d53e54', 'https://b-ok.cc/book/3642068/da7d8c', 'https://b-ok.cc/book/3606241/b6920f', 'https://b-ok.cc/book/5218917/073089', 'https://b-ok.cc/book/3606240/5b40d6', 'https://b-ok.cc/book/4984922/b162b3', 'https://b-ok.cc/book/644083/5386a2', 'https://b-ok.cc/book/5239713/9a42a8', 'https://b-ok.cc/book/2841641/5a9b1e', 'https://b-ok.cc/book/1126615/642bb4', 'https://b-ok.cc/book/3705466/2dda1d', 'https://b-ok.cc/book/3691511/03d5ee', 'https://b-ok.cc/book/3629130/efe8d5', 'https://b-ok.cc/book/1271521/30bd1e', 'https://b-ok.cc/book/3681492/07d64c', 'https://b-ok.cc/book/1123519/48846e', 'https://b-ok.cc/book/5242222/716a97', 'https://b-ok.cc/book/3512714/1bb06c', 'https://b-ok.cc/book/2736388/fd001b', 'https://b-ok.cc/book/3691508/095f9a', 'https://b-ok.cc/book/755716/be52d7', 'https://b-ok.cc/book/3711505/debacd', 'https://b-ok.cc/book/3559188/53e892', 'https://b-ok.cc/book/3616120/7588e2', 'https://b-ok.cc/book/2740800/2afbbd', 'https://b-ok.cc/book/5239705/99f585', 'https://b-ok.cc/book/3592706/0c0fe6', 'https://b-ok.cc/book/1269579/219dd6', 'https://b-ok.cc/book/3644077/c826f8', 'https://b-ok.cc/book/3419195/8e7587', 'https://b-ok.cc/book/4999688/e399e7', 'https://b-ok.cc/book/2927996/986585', 'https://b-ok.cc/book/3553721/1495ac', 'https://b-ok.cc/book/2834961/c31ac7', 'https://b-ok.cc/book/2839436/b91f6c', 'https://b-ok.cc/book/3592710/aadadc']\n",
      "all_link\n",
      "43\n",
      "['https://b-ok.cc/book/2736225/1808a4', 'https://b-ok.cc/book/3437187/01a479', 'https://b-ok.cc/book/3691442/369906', 'https://b-ok.cc/book/3362289/95ef8d', 'https://b-ok.cc/book/3606242/b2b146', 'https://b-ok.cc/book/668129/b1a2e7', 'https://b-ok.cc/book/647261/f41bd1', 'https://b-ok.cc/book/3642068/da7d8c', 'https://b-ok.cc/book/3711506/d53e54', 'https://b-ok.cc/book/3606241/b6920f', 'https://b-ok.cc/book/5218917/073089', 'https://b-ok.cc/book/3606240/5b40d6', 'https://b-ok.cc/book/4984922/b162b3', 'https://b-ok.cc/book/644083/5386a2', 'https://b-ok.cc/book/5239713/9a42a8', 'https://b-ok.cc/book/2841641/5a9b1e', 'https://b-ok.cc/book/1126615/642bb4', 'https://b-ok.cc/book/3705466/2dda1d', 'https://b-ok.cc/book/3691511/03d5ee', 'https://b-ok.cc/book/3629130/efe8d5', 'https://b-ok.cc/book/1271521/30bd1e', 'https://b-ok.cc/book/3681492/07d64c', 'https://b-ok.cc/book/1123519/48846e', 'https://b-ok.cc/book/5242222/716a97', 'https://b-ok.cc/book/3512714/1bb06c', 'https://b-ok.cc/book/2736388/fd001b', 'https://b-ok.cc/book/3691508/095f9a', 'https://b-ok.cc/book/755716/be52d7', 'https://b-ok.cc/book/3711505/debacd', 'https://b-ok.cc/book/3559188/53e892', 'https://b-ok.cc/book/3616120/7588e2', 'https://b-ok.cc/book/2740800/2afbbd', 'https://b-ok.cc/book/5239705/99f585', 'https://b-ok.cc/book/3592706/0c0fe6', 'https://b-ok.cc/book/1269579/219dd6', 'https://b-ok.cc/book/3644077/c826f8', 'https://b-ok.cc/book/3419195/8e7587', 'https://b-ok.cc/book/4999688/e399e7', 'https://b-ok.cc/book/2927996/986585', 'https://b-ok.cc/book/3553721/1495ac', 'https://b-ok.cc/book/2834961/c31ac7', 'https://b-ok.cc/book/2839436/b91f6c', 'https://b-ok.cc/book/3592710/aadadc']\n",
      "all_link\n",
      "44\n",
      "['https://b-ok.cc/book/2736225/1808a4', 'https://b-ok.cc/book/3437187/01a479', 'https://b-ok.cc/book/3691442/369906', 'https://b-ok.cc/book/3606242/b2b146', 'https://b-ok.cc/book/3362289/95ef8d', 'https://b-ok.cc/book/668129/b1a2e7', 'https://b-ok.cc/book/647261/f41bd1', 'https://b-ok.cc/book/3711506/d53e54', 'https://b-ok.cc/book/3642068/da7d8c', 'https://b-ok.cc/book/2929180/101090', 'https://b-ok.cc/book/3606241/b6920f', 'https://b-ok.cc/book/5218917/073089', 'https://b-ok.cc/book/3606240/5b40d6', 'https://b-ok.cc/book/4984922/b162b3', 'https://b-ok.cc/book/644083/5386a2', 'https://b-ok.cc/book/5239713/9a42a8', 'https://b-ok.cc/book/2841641/5a9b1e', 'https://b-ok.cc/book/1126615/642bb4', 'https://b-ok.cc/book/3705466/2dda1d', 'https://b-ok.cc/book/3691511/03d5ee', 'https://b-ok.cc/book/3629130/efe8d5', 'https://b-ok.cc/book/1271521/30bd1e', 'https://b-ok.cc/book/3681492/07d64c', 'https://b-ok.cc/book/1123519/48846e', 'https://b-ok.cc/book/5242222/716a97', 'https://b-ok.cc/book/3512714/1bb06c', 'https://b-ok.cc/book/2736388/fd001b', 'https://b-ok.cc/book/3691508/095f9a', 'https://b-ok.cc/book/755716/be52d7', 'https://b-ok.cc/book/3711505/debacd', 'https://b-ok.cc/book/3559188/53e892', 'https://b-ok.cc/book/3616120/7588e2', 'https://b-ok.cc/book/2740800/2afbbd', 'https://b-ok.cc/book/5239705/99f585', 'https://b-ok.cc/book/3592706/0c0fe6', 'https://b-ok.cc/book/1269579/219dd6', 'https://b-ok.cc/book/3644077/c826f8', 'https://b-ok.cc/book/3419195/8e7587', 'https://b-ok.cc/book/4999688/e399e7', 'https://b-ok.cc/book/2927996/986585', 'https://b-ok.cc/book/3553721/1495ac', 'https://b-ok.cc/book/2834961/c31ac7', 'https://b-ok.cc/book/2839436/b91f6c', 'https://b-ok.cc/book/3592710/aadadc']\n",
      "all_link\n",
      "44\n",
      "['https://b-ok.cc/book/2736225/1808a4', 'https://b-ok.cc/book/3437187/01a479', 'https://b-ok.cc/book/3691442/369906', 'https://b-ok.cc/book/3362289/95ef8d', 'https://b-ok.cc/book/3606242/b2b146', 'https://b-ok.cc/book/668129/b1a2e7', 'https://b-ok.cc/book/647261/f41bd1', 'https://b-ok.cc/book/3642068/da7d8c', 'https://b-ok.cc/book/3711506/d53e54', 'https://b-ok.cc/book/2929180/101090', 'https://b-ok.cc/book/3606241/b6920f', 'https://b-ok.cc/book/5218917/073089', 'https://b-ok.cc/book/3606240/5b40d6', 'https://b-ok.cc/book/4984922/b162b3', 'https://b-ok.cc/book/644083/5386a2', 'https://b-ok.cc/book/5239713/9a42a8', 'https://b-ok.cc/book/2841641/5a9b1e', 'https://b-ok.cc/book/1126615/642bb4', 'https://b-ok.cc/book/3705466/2dda1d', 'https://b-ok.cc/book/3691511/03d5ee', 'https://b-ok.cc/book/3629130/efe8d5', 'https://b-ok.cc/book/1271521/30bd1e', 'https://b-ok.cc/book/3681492/07d64c', 'https://b-ok.cc/book/1123519/48846e', 'https://b-ok.cc/book/5242222/716a97', 'https://b-ok.cc/book/3512714/1bb06c', 'https://b-ok.cc/book/2736388/fd001b', 'https://b-ok.cc/book/3691508/095f9a', 'https://b-ok.cc/book/755716/be52d7', 'https://b-ok.cc/book/3711505/debacd', 'https://b-ok.cc/book/3559188/53e892', 'https://b-ok.cc/book/3616120/7588e2', 'https://b-ok.cc/book/2740800/2afbbd', 'https://b-ok.cc/book/5239705/99f585', 'https://b-ok.cc/book/3592706/0c0fe6', 'https://b-ok.cc/book/1269579/219dd6', 'https://b-ok.cc/book/3644077/c826f8', 'https://b-ok.cc/book/3419195/8e7587', 'https://b-ok.cc/book/4999688/e399e7', 'https://b-ok.cc/book/2927996/986585', 'https://b-ok.cc/book/3553721/1495ac', 'https://b-ok.cc/book/2834961/c31ac7', 'https://b-ok.cc/book/2839436/b91f6c', 'https://b-ok.cc/book/3592710/aadadc']\n",
      "all_link\n",
      "45\n",
      "['https://b-ok.cc/book/2736225/1808a4', 'https://b-ok.cc/book/3437187/01a479', 'https://b-ok.cc/book/3691442/369906', 'https://b-ok.cc/book/3606242/b2b146', 'https://b-ok.cc/book/3362289/95ef8d', 'https://b-ok.cc/book/668129/b1a2e7', 'https://b-ok.cc/book/647261/f41bd1', 'https://b-ok.cc/book/3644900/0e77eb', 'https://b-ok.cc/book/3711506/d53e54', 'https://b-ok.cc/book/3642068/da7d8c', 'https://b-ok.cc/book/2929180/101090', 'https://b-ok.cc/book/3606241/b6920f', 'https://b-ok.cc/book/5218917/073089', 'https://b-ok.cc/book/3606240/5b40d6', 'https://b-ok.cc/book/4984922/b162b3', 'https://b-ok.cc/book/644083/5386a2', 'https://b-ok.cc/book/5239713/9a42a8', 'https://b-ok.cc/book/2841641/5a9b1e', 'https://b-ok.cc/book/1126615/642bb4', 'https://b-ok.cc/book/3705466/2dda1d', 'https://b-ok.cc/book/3691511/03d5ee', 'https://b-ok.cc/book/3629130/efe8d5', 'https://b-ok.cc/book/1271521/30bd1e', 'https://b-ok.cc/book/3681492/07d64c', 'https://b-ok.cc/book/1123519/48846e', 'https://b-ok.cc/book/5242222/716a97', 'https://b-ok.cc/book/3512714/1bb06c', 'https://b-ok.cc/book/2736388/fd001b', 'https://b-ok.cc/book/3691508/095f9a', 'https://b-ok.cc/book/755716/be52d7', 'https://b-ok.cc/book/3711505/debacd', 'https://b-ok.cc/book/3559188/53e892', 'https://b-ok.cc/book/3616120/7588e2', 'https://b-ok.cc/book/2740800/2afbbd', 'https://b-ok.cc/book/5239705/99f585', 'https://b-ok.cc/book/3592706/0c0fe6', 'https://b-ok.cc/book/1269579/219dd6', 'https://b-ok.cc/book/3644077/c826f8', 'https://b-ok.cc/book/3419195/8e7587', 'https://b-ok.cc/book/4999688/e399e7', 'https://b-ok.cc/book/2927996/986585', 'https://b-ok.cc/book/3553721/1495ac', 'https://b-ok.cc/book/2834961/c31ac7', 'https://b-ok.cc/book/2839436/b91f6c', 'https://b-ok.cc/book/3592710/aadadc']\n",
      "all_link\n",
      "45\n",
      "['https://b-ok.cc/book/2736225/1808a4', 'https://b-ok.cc/book/3437187/01a479', 'https://b-ok.cc/book/3691442/369906', 'https://b-ok.cc/book/3362289/95ef8d', 'https://b-ok.cc/book/3606242/b2b146', 'https://b-ok.cc/book/668129/b1a2e7', 'https://b-ok.cc/book/3644900/0e77eb', 'https://b-ok.cc/book/647261/f41bd1', 'https://b-ok.cc/book/3642068/da7d8c', 'https://b-ok.cc/book/3711506/d53e54', 'https://b-ok.cc/book/2929180/101090', 'https://b-ok.cc/book/3606241/b6920f', 'https://b-ok.cc/book/5218917/073089', 'https://b-ok.cc/book/3606240/5b40d6', 'https://b-ok.cc/book/4984922/b162b3', 'https://b-ok.cc/book/644083/5386a2', 'https://b-ok.cc/book/5239713/9a42a8', 'https://b-ok.cc/book/2841641/5a9b1e', 'https://b-ok.cc/book/1126615/642bb4', 'https://b-ok.cc/book/3705466/2dda1d', 'https://b-ok.cc/book/3691511/03d5ee', 'https://b-ok.cc/book/3629130/efe8d5', 'https://b-ok.cc/book/1271521/30bd1e', 'https://b-ok.cc/book/3681492/07d64c', 'https://b-ok.cc/book/1123519/48846e', 'https://b-ok.cc/book/5242222/716a97', 'https://b-ok.cc/book/3512714/1bb06c', 'https://b-ok.cc/book/2736388/fd001b', 'https://b-ok.cc/book/3691508/095f9a', 'https://b-ok.cc/book/755716/be52d7', 'https://b-ok.cc/book/3711505/debacd', 'https://b-ok.cc/book/3559188/53e892', 'https://b-ok.cc/book/3616120/7588e2', 'https://b-ok.cc/book/2740800/2afbbd', 'https://b-ok.cc/book/5239705/99f585', 'https://b-ok.cc/book/3592706/0c0fe6', 'https://b-ok.cc/book/1269579/219dd6', 'https://b-ok.cc/book/3644077/c826f8', 'https://b-ok.cc/book/3419195/8e7587', 'https://b-ok.cc/book/4999688/e399e7', 'https://b-ok.cc/book/2927996/986585', 'https://b-ok.cc/book/3553721/1495ac', 'https://b-ok.cc/book/2834961/c31ac7', 'https://b-ok.cc/book/2839436/b91f6c', 'https://b-ok.cc/book/3592710/aadadc']\n",
      "all_link\n",
      "46\n",
      "['https://b-ok.cc/book/2736225/1808a4', 'https://b-ok.cc/book/3437187/01a479', 'https://b-ok.cc/book/3691442/369906', 'https://b-ok.cc/book/3606242/b2b146', 'https://b-ok.cc/book/3362289/95ef8d', 'https://b-ok.cc/book/668129/b1a2e7', 'https://b-ok.cc/book/647261/f41bd1', 'https://b-ok.cc/book/3644900/0e77eb', 'https://b-ok.cc/book/3711506/d53e54', 'https://b-ok.cc/book/3642068/da7d8c', 'https://b-ok.cc/book/2929180/101090', 'https://b-ok.cc/book/3606241/b6920f', 'https://b-ok.cc/book/5218917/073089', 'https://b-ok.cc/book/3606240/5b40d6', 'https://b-ok.cc/book/4984922/b162b3', 'https://b-ok.cc/book/644083/5386a2', 'https://b-ok.cc/book/5239713/9a42a8', 'https://b-ok.cc/book/2841641/5a9b1e', 'https://b-ok.cc/book/1126615/642bb4', 'https://b-ok.cc/book/3705466/2dda1d', 'https://b-ok.cc/book/3691511/03d5ee', 'https://b-ok.cc/book/3629130/efe8d5', 'https://b-ok.cc/book/1271521/30bd1e', 'https://b-ok.cc/book/3681492/07d64c', 'https://b-ok.cc/book/1123519/48846e', 'https://b-ok.cc/book/5242222/716a97', 'https://b-ok.cc/book/3512714/1bb06c', 'https://b-ok.cc/book/2736388/fd001b', 'https://b-ok.cc/book/5325816/5f4571', 'https://b-ok.cc/book/3691508/095f9a', 'https://b-ok.cc/book/755716/be52d7', 'https://b-ok.cc/book/3711505/debacd', 'https://b-ok.cc/book/3559188/53e892', 'https://b-ok.cc/book/3616120/7588e2', 'https://b-ok.cc/book/2740800/2afbbd', 'https://b-ok.cc/book/5239705/99f585', 'https://b-ok.cc/book/3592706/0c0fe6', 'https://b-ok.cc/book/1269579/219dd6', 'https://b-ok.cc/book/3644077/c826f8', 'https://b-ok.cc/book/3419195/8e7587', 'https://b-ok.cc/book/4999688/e399e7', 'https://b-ok.cc/book/2927996/986585', 'https://b-ok.cc/book/3553721/1495ac', 'https://b-ok.cc/book/2834961/c31ac7', 'https://b-ok.cc/book/2839436/b91f6c', 'https://b-ok.cc/book/3592710/aadadc']\n",
      "all_link\n",
      "46\n",
      "['https://b-ok.cc/book/2736225/1808a4', 'https://b-ok.cc/book/3437187/01a479', 'https://b-ok.cc/book/3691442/369906', 'https://b-ok.cc/book/3362289/95ef8d', 'https://b-ok.cc/book/3606242/b2b146', 'https://b-ok.cc/book/668129/b1a2e7', 'https://b-ok.cc/book/3644900/0e77eb', 'https://b-ok.cc/book/647261/f41bd1', 'https://b-ok.cc/book/3642068/da7d8c', 'https://b-ok.cc/book/3711506/d53e54', 'https://b-ok.cc/book/2929180/101090', 'https://b-ok.cc/book/3606241/b6920f', 'https://b-ok.cc/book/5218917/073089', 'https://b-ok.cc/book/3606240/5b40d6', 'https://b-ok.cc/book/4984922/b162b3', 'https://b-ok.cc/book/644083/5386a2', 'https://b-ok.cc/book/5239713/9a42a8', 'https://b-ok.cc/book/2841641/5a9b1e', 'https://b-ok.cc/book/1126615/642bb4', 'https://b-ok.cc/book/3705466/2dda1d', 'https://b-ok.cc/book/3691511/03d5ee', 'https://b-ok.cc/book/3629130/efe8d5', 'https://b-ok.cc/book/1271521/30bd1e', 'https://b-ok.cc/book/3681492/07d64c', 'https://b-ok.cc/book/1123519/48846e', 'https://b-ok.cc/book/5242222/716a97', 'https://b-ok.cc/book/3512714/1bb06c', 'https://b-ok.cc/book/2736388/fd001b', 'https://b-ok.cc/book/5325816/5f4571', 'https://b-ok.cc/book/3691508/095f9a', 'https://b-ok.cc/book/755716/be52d7', 'https://b-ok.cc/book/3711505/debacd', 'https://b-ok.cc/book/3559188/53e892', 'https://b-ok.cc/book/3616120/7588e2', 'https://b-ok.cc/book/2740800/2afbbd', 'https://b-ok.cc/book/5239705/99f585', 'https://b-ok.cc/book/3592706/0c0fe6', 'https://b-ok.cc/book/1269579/219dd6', 'https://b-ok.cc/book/3644077/c826f8', 'https://b-ok.cc/book/3419195/8e7587', 'https://b-ok.cc/book/4999688/e399e7', 'https://b-ok.cc/book/2927996/986585', 'https://b-ok.cc/book/3553721/1495ac', 'https://b-ok.cc/book/2834961/c31ac7', 'https://b-ok.cc/book/2839436/b91f6c', 'https://b-ok.cc/book/3592710/aadadc']\n",
      "all_link\n",
      "47\n",
      "['https://b-ok.cc/book/2736225/1808a4', 'https://b-ok.cc/book/3437187/01a479', 'https://b-ok.cc/book/3691442/369906', 'https://b-ok.cc/book/3606242/b2b146', 'https://b-ok.cc/book/3362289/95ef8d', 'https://b-ok.cc/book/668129/b1a2e7', 'https://b-ok.cc/book/647261/f41bd1', 'https://b-ok.cc/book/3644900/0e77eb', 'https://b-ok.cc/book/3711506/d53e54', 'https://b-ok.cc/book/3642068/da7d8c', 'https://b-ok.cc/book/2929180/101090', 'https://b-ok.cc/book/3606241/b6920f', 'https://b-ok.cc/book/5218917/073089', 'https://b-ok.cc/book/3606240/5b40d6', 'https://b-ok.cc/book/4984922/b162b3', 'https://b-ok.cc/book/644083/5386a2', 'https://b-ok.cc/book/5239713/9a42a8', 'https://b-ok.cc/book/2841641/5a9b1e', 'https://b-ok.cc/book/1126615/642bb4', 'https://b-ok.cc/book/3705466/2dda1d', 'https://b-ok.cc/book/3691511/03d5ee', 'https://b-ok.cc/book/3629130/efe8d5', 'https://b-ok.cc/book/1271521/30bd1e', 'https://b-ok.cc/book/3681492/07d64c', 'https://b-ok.cc/book/1123519/48846e', 'https://b-ok.cc/book/5242222/716a97', 'https://b-ok.cc/book/3512714/1bb06c', 'https://b-ok.cc/book/2736388/fd001b', 'https://b-ok.cc/book/5325816/5f4571', 'https://b-ok.cc/book/3691508/095f9a', 'https://b-ok.cc/book/755716/be52d7', 'https://b-ok.cc/book/3711505/debacd', 'https://b-ok.cc/book/3559188/53e892', 'https://b-ok.cc/book/3616120/7588e2', 'https://b-ok.cc/book/2740800/2afbbd', 'https://b-ok.cc/book/5239705/99f585', 'https://b-ok.cc/book/3592706/0c0fe6', 'https://b-ok.cc/book/1269579/219dd6', 'https://b-ok.cc/book/3644077/c826f8', 'https://b-ok.cc/book/3419195/8e7587', 'https://b-ok.cc/book/2065162/d8440b', 'https://b-ok.cc/book/4999688/e399e7', 'https://b-ok.cc/book/2927996/986585', 'https://b-ok.cc/book/3553721/1495ac', 'https://b-ok.cc/book/2834961/c31ac7', 'https://b-ok.cc/book/2839436/b91f6c', 'https://b-ok.cc/book/3592710/aadadc']\n",
      "all_link\n",
      "47\n",
      "['https://b-ok.cc/book/2736225/1808a4', 'https://b-ok.cc/book/3437187/01a479', 'https://b-ok.cc/book/3691442/369906', 'https://b-ok.cc/book/3362289/95ef8d', 'https://b-ok.cc/book/3606242/b2b146', 'https://b-ok.cc/book/668129/b1a2e7', 'https://b-ok.cc/book/3644900/0e77eb', 'https://b-ok.cc/book/647261/f41bd1', 'https://b-ok.cc/book/3642068/da7d8c', 'https://b-ok.cc/book/3711506/d53e54', 'https://b-ok.cc/book/2929180/101090', 'https://b-ok.cc/book/3606241/b6920f', 'https://b-ok.cc/book/5218917/073089', 'https://b-ok.cc/book/3606240/5b40d6', 'https://b-ok.cc/book/4984922/b162b3', 'https://b-ok.cc/book/644083/5386a2', 'https://b-ok.cc/book/5239713/9a42a8', 'https://b-ok.cc/book/2841641/5a9b1e', 'https://b-ok.cc/book/1126615/642bb4', 'https://b-ok.cc/book/3705466/2dda1d', 'https://b-ok.cc/book/3691511/03d5ee', 'https://b-ok.cc/book/3629130/efe8d5', 'https://b-ok.cc/book/1271521/30bd1e', 'https://b-ok.cc/book/3681492/07d64c', 'https://b-ok.cc/book/1123519/48846e', 'https://b-ok.cc/book/5242222/716a97', 'https://b-ok.cc/book/3512714/1bb06c', 'https://b-ok.cc/book/2736388/fd001b', 'https://b-ok.cc/book/5325816/5f4571', 'https://b-ok.cc/book/3691508/095f9a', 'https://b-ok.cc/book/755716/be52d7', 'https://b-ok.cc/book/3711505/debacd', 'https://b-ok.cc/book/3559188/53e892', 'https://b-ok.cc/book/3616120/7588e2', 'https://b-ok.cc/book/2740800/2afbbd', 'https://b-ok.cc/book/5239705/99f585', 'https://b-ok.cc/book/3592706/0c0fe6', 'https://b-ok.cc/book/1269579/219dd6', 'https://b-ok.cc/book/3644077/c826f8', 'https://b-ok.cc/book/3419195/8e7587', 'https://b-ok.cc/book/2065162/d8440b', 'https://b-ok.cc/book/4999688/e399e7', 'https://b-ok.cc/book/2927996/986585', 'https://b-ok.cc/book/3553721/1495ac', 'https://b-ok.cc/book/2834961/c31ac7', 'https://b-ok.cc/book/2839436/b91f6c', 'https://b-ok.cc/book/3592710/aadadc']\n",
      "all_link\n",
      "48\n",
      "['https://b-ok.cc/book/3691485/a5e74e', 'https://b-ok.cc/book/2736225/1808a4', 'https://b-ok.cc/book/3437187/01a479', 'https://b-ok.cc/book/3691442/369906', 'https://b-ok.cc/book/3606242/b2b146', 'https://b-ok.cc/book/3362289/95ef8d', 'https://b-ok.cc/book/668129/b1a2e7', 'https://b-ok.cc/book/647261/f41bd1', 'https://b-ok.cc/book/3644900/0e77eb', 'https://b-ok.cc/book/3711506/d53e54', 'https://b-ok.cc/book/3642068/da7d8c', 'https://b-ok.cc/book/2929180/101090', 'https://b-ok.cc/book/3606241/b6920f', 'https://b-ok.cc/book/5218917/073089', 'https://b-ok.cc/book/3606240/5b40d6', 'https://b-ok.cc/book/4984922/b162b3', 'https://b-ok.cc/book/644083/5386a2', 'https://b-ok.cc/book/5239713/9a42a8', 'https://b-ok.cc/book/2841641/5a9b1e', 'https://b-ok.cc/book/1126615/642bb4', 'https://b-ok.cc/book/3705466/2dda1d', 'https://b-ok.cc/book/3691511/03d5ee', 'https://b-ok.cc/book/3629130/efe8d5', 'https://b-ok.cc/book/1271521/30bd1e', 'https://b-ok.cc/book/3681492/07d64c', 'https://b-ok.cc/book/1123519/48846e', 'https://b-ok.cc/book/5242222/716a97', 'https://b-ok.cc/book/3512714/1bb06c', 'https://b-ok.cc/book/2736388/fd001b', 'https://b-ok.cc/book/5325816/5f4571', 'https://b-ok.cc/book/3691508/095f9a', 'https://b-ok.cc/book/755716/be52d7', 'https://b-ok.cc/book/3711505/debacd', 'https://b-ok.cc/book/3559188/53e892', 'https://b-ok.cc/book/3616120/7588e2', 'https://b-ok.cc/book/2740800/2afbbd', 'https://b-ok.cc/book/5239705/99f585', 'https://b-ok.cc/book/3592706/0c0fe6', 'https://b-ok.cc/book/1269579/219dd6', 'https://b-ok.cc/book/3644077/c826f8', 'https://b-ok.cc/book/3419195/8e7587', 'https://b-ok.cc/book/2065162/d8440b', 'https://b-ok.cc/book/4999688/e399e7', 'https://b-ok.cc/book/2927996/986585', 'https://b-ok.cc/book/3553721/1495ac', 'https://b-ok.cc/book/2834961/c31ac7', 'https://b-ok.cc/book/2839436/b91f6c', 'https://b-ok.cc/book/3592710/aadadc']\n",
      "all_link\n",
      "48\n",
      "['https://b-ok.cc/book/3691485/a5e74e', 'https://b-ok.cc/book/2736225/1808a4', 'https://b-ok.cc/book/3437187/01a479', 'https://b-ok.cc/book/3691442/369906', 'https://b-ok.cc/book/3606242/b2b146', 'https://b-ok.cc/book/3362289/95ef8d', 'https://b-ok.cc/book/668129/b1a2e7', 'https://b-ok.cc/book/3644900/0e77eb', 'https://b-ok.cc/book/647261/f41bd1', 'https://b-ok.cc/book/3642068/da7d8c', 'https://b-ok.cc/book/3711506/d53e54', 'https://b-ok.cc/book/2929180/101090', 'https://b-ok.cc/book/3606241/b6920f', 'https://b-ok.cc/book/5218917/073089', 'https://b-ok.cc/book/3606240/5b40d6', 'https://b-ok.cc/book/4984922/b162b3', 'https://b-ok.cc/book/644083/5386a2', 'https://b-ok.cc/book/5239713/9a42a8', 'https://b-ok.cc/book/2841641/5a9b1e', 'https://b-ok.cc/book/1126615/642bb4', 'https://b-ok.cc/book/3705466/2dda1d', 'https://b-ok.cc/book/3691511/03d5ee', 'https://b-ok.cc/book/3629130/efe8d5', 'https://b-ok.cc/book/1271521/30bd1e', 'https://b-ok.cc/book/3681492/07d64c', 'https://b-ok.cc/book/1123519/48846e', 'https://b-ok.cc/book/5242222/716a97', 'https://b-ok.cc/book/3512714/1bb06c', 'https://b-ok.cc/book/2736388/fd001b', 'https://b-ok.cc/book/5325816/5f4571', 'https://b-ok.cc/book/3691508/095f9a', 'https://b-ok.cc/book/755716/be52d7', 'https://b-ok.cc/book/3711505/debacd', 'https://b-ok.cc/book/3559188/53e892', 'https://b-ok.cc/book/3616120/7588e2', 'https://b-ok.cc/book/2740800/2afbbd', 'https://b-ok.cc/book/5239705/99f585', 'https://b-ok.cc/book/3592706/0c0fe6', 'https://b-ok.cc/book/1269579/219dd6', 'https://b-ok.cc/book/3644077/c826f8', 'https://b-ok.cc/book/3419195/8e7587', 'https://b-ok.cc/book/2065162/d8440b', 'https://b-ok.cc/book/4999688/e399e7', 'https://b-ok.cc/book/2927996/986585', 'https://b-ok.cc/book/3553721/1495ac', 'https://b-ok.cc/book/2834961/c31ac7', 'https://b-ok.cc/book/2839436/b91f6c', 'https://b-ok.cc/book/3592710/aadadc']\n",
      "all_link\n",
      "49\n",
      "['https://b-ok.cc/book/3691485/a5e74e', 'https://b-ok.cc/book/2736225/1808a4', 'https://b-ok.cc/book/3437187/01a479', 'https://b-ok.cc/book/3691442/369906', 'https://b-ok.cc/book/3606242/b2b146', 'https://b-ok.cc/book/3362289/95ef8d', 'https://b-ok.cc/book/668129/b1a2e7', 'https://b-ok.cc/book/1269773/c03975', 'https://b-ok.cc/book/647261/f41bd1', 'https://b-ok.cc/book/3644900/0e77eb', 'https://b-ok.cc/book/3711506/d53e54', 'https://b-ok.cc/book/3642068/da7d8c', 'https://b-ok.cc/book/2929180/101090', 'https://b-ok.cc/book/3606241/b6920f', 'https://b-ok.cc/book/5218917/073089', 'https://b-ok.cc/book/3606240/5b40d6', 'https://b-ok.cc/book/4984922/b162b3', 'https://b-ok.cc/book/644083/5386a2', 'https://b-ok.cc/book/5239713/9a42a8', 'https://b-ok.cc/book/2841641/5a9b1e', 'https://b-ok.cc/book/1126615/642bb4', 'https://b-ok.cc/book/3705466/2dda1d', 'https://b-ok.cc/book/3691511/03d5ee', 'https://b-ok.cc/book/3629130/efe8d5', 'https://b-ok.cc/book/1271521/30bd1e', 'https://b-ok.cc/book/3681492/07d64c', 'https://b-ok.cc/book/1123519/48846e', 'https://b-ok.cc/book/5242222/716a97', 'https://b-ok.cc/book/3512714/1bb06c', 'https://b-ok.cc/book/2736388/fd001b', 'https://b-ok.cc/book/5325816/5f4571', 'https://b-ok.cc/book/3691508/095f9a', 'https://b-ok.cc/book/755716/be52d7', 'https://b-ok.cc/book/3711505/debacd', 'https://b-ok.cc/book/3559188/53e892', 'https://b-ok.cc/book/3616120/7588e2', 'https://b-ok.cc/book/2740800/2afbbd', 'https://b-ok.cc/book/5239705/99f585', 'https://b-ok.cc/book/3592706/0c0fe6', 'https://b-ok.cc/book/1269579/219dd6', 'https://b-ok.cc/book/3644077/c826f8', 'https://b-ok.cc/book/3419195/8e7587', 'https://b-ok.cc/book/2065162/d8440b', 'https://b-ok.cc/book/4999688/e399e7', 'https://b-ok.cc/book/2927996/986585', 'https://b-ok.cc/book/3553721/1495ac', 'https://b-ok.cc/book/2834961/c31ac7', 'https://b-ok.cc/book/2839436/b91f6c', 'https://b-ok.cc/book/3592710/aadadc']\n",
      "all_link\n",
      "49\n",
      "['https://b-ok.cc/book/3691485/a5e74e', 'https://b-ok.cc/book/2736225/1808a4', 'https://b-ok.cc/book/3437187/01a479', 'https://b-ok.cc/book/3691442/369906', 'https://b-ok.cc/book/3606242/b2b146', 'https://b-ok.cc/book/3362289/95ef8d', 'https://b-ok.cc/book/668129/b1a2e7', 'https://b-ok.cc/book/1269773/c03975', 'https://b-ok.cc/book/3644900/0e77eb', 'https://b-ok.cc/book/647261/f41bd1', 'https://b-ok.cc/book/3642068/da7d8c', 'https://b-ok.cc/book/3711506/d53e54', 'https://b-ok.cc/book/2929180/101090', 'https://b-ok.cc/book/3606241/b6920f', 'https://b-ok.cc/book/5218917/073089', 'https://b-ok.cc/book/3606240/5b40d6', 'https://b-ok.cc/book/4984922/b162b3', 'https://b-ok.cc/book/644083/5386a2', 'https://b-ok.cc/book/5239713/9a42a8', 'https://b-ok.cc/book/2841641/5a9b1e', 'https://b-ok.cc/book/1126615/642bb4', 'https://b-ok.cc/book/3705466/2dda1d', 'https://b-ok.cc/book/3691511/03d5ee', 'https://b-ok.cc/book/3629130/efe8d5', 'https://b-ok.cc/book/1271521/30bd1e', 'https://b-ok.cc/book/3681492/07d64c', 'https://b-ok.cc/book/1123519/48846e', 'https://b-ok.cc/book/5242222/716a97', 'https://b-ok.cc/book/3512714/1bb06c', 'https://b-ok.cc/book/2736388/fd001b', 'https://b-ok.cc/book/5325816/5f4571', 'https://b-ok.cc/book/3691508/095f9a', 'https://b-ok.cc/book/755716/be52d7', 'https://b-ok.cc/book/3711505/debacd', 'https://b-ok.cc/book/3559188/53e892', 'https://b-ok.cc/book/3616120/7588e2', 'https://b-ok.cc/book/2740800/2afbbd', 'https://b-ok.cc/book/5239705/99f585', 'https://b-ok.cc/book/3592706/0c0fe6', 'https://b-ok.cc/book/1269579/219dd6', 'https://b-ok.cc/book/3644077/c826f8', 'https://b-ok.cc/book/3419195/8e7587', 'https://b-ok.cc/book/2065162/d8440b', 'https://b-ok.cc/book/4999688/e399e7', 'https://b-ok.cc/book/2927996/986585', 'https://b-ok.cc/book/3553721/1495ac', 'https://b-ok.cc/book/2834961/c31ac7', 'https://b-ok.cc/book/2839436/b91f6c', 'https://b-ok.cc/book/3592710/aadadc']\n",
      "all_link\n",
      "50\n",
      "['https://b-ok.cc/book/3691485/a5e74e', 'https://b-ok.cc/book/3593015/fd162b', 'https://b-ok.cc/book/2736225/1808a4', 'https://b-ok.cc/book/3437187/01a479', 'https://b-ok.cc/book/3691442/369906', 'https://b-ok.cc/book/3606242/b2b146', 'https://b-ok.cc/book/3362289/95ef8d', 'https://b-ok.cc/book/668129/b1a2e7', 'https://b-ok.cc/book/1269773/c03975', 'https://b-ok.cc/book/647261/f41bd1', 'https://b-ok.cc/book/3644900/0e77eb', 'https://b-ok.cc/book/3711506/d53e54', 'https://b-ok.cc/book/3642068/da7d8c', 'https://b-ok.cc/book/2929180/101090', 'https://b-ok.cc/book/3606241/b6920f', 'https://b-ok.cc/book/5218917/073089', 'https://b-ok.cc/book/3606240/5b40d6', 'https://b-ok.cc/book/4984922/b162b3', 'https://b-ok.cc/book/644083/5386a2', 'https://b-ok.cc/book/5239713/9a42a8', 'https://b-ok.cc/book/2841641/5a9b1e', 'https://b-ok.cc/book/1126615/642bb4', 'https://b-ok.cc/book/3705466/2dda1d', 'https://b-ok.cc/book/3691511/03d5ee', 'https://b-ok.cc/book/3629130/efe8d5', 'https://b-ok.cc/book/1271521/30bd1e', 'https://b-ok.cc/book/3681492/07d64c', 'https://b-ok.cc/book/1123519/48846e', 'https://b-ok.cc/book/5242222/716a97', 'https://b-ok.cc/book/3512714/1bb06c', 'https://b-ok.cc/book/2736388/fd001b', 'https://b-ok.cc/book/5325816/5f4571', 'https://b-ok.cc/book/3691508/095f9a', 'https://b-ok.cc/book/755716/be52d7', 'https://b-ok.cc/book/3711505/debacd', 'https://b-ok.cc/book/3559188/53e892', 'https://b-ok.cc/book/3616120/7588e2', 'https://b-ok.cc/book/2740800/2afbbd', 'https://b-ok.cc/book/5239705/99f585', 'https://b-ok.cc/book/3592706/0c0fe6', 'https://b-ok.cc/book/1269579/219dd6', 'https://b-ok.cc/book/3644077/c826f8', 'https://b-ok.cc/book/3419195/8e7587', 'https://b-ok.cc/book/2065162/d8440b', 'https://b-ok.cc/book/4999688/e399e7', 'https://b-ok.cc/book/2927996/986585', 'https://b-ok.cc/book/3553721/1495ac', 'https://b-ok.cc/book/2834961/c31ac7', 'https://b-ok.cc/book/2839436/b91f6c', 'https://b-ok.cc/book/3592710/aadadc']\n",
      "all_link\n",
      "50\n",
      "['https://b-ok.cc/book/3691485/a5e74e', 'https://b-ok.cc/book/3593015/fd162b', 'https://b-ok.cc/book/2736225/1808a4', 'https://b-ok.cc/book/3437187/01a479', 'https://b-ok.cc/book/3691442/369906', 'https://b-ok.cc/book/3606242/b2b146', 'https://b-ok.cc/book/3362289/95ef8d', 'https://b-ok.cc/book/668129/b1a2e7', 'https://b-ok.cc/book/1269773/c03975', 'https://b-ok.cc/book/3644900/0e77eb', 'https://b-ok.cc/book/647261/f41bd1', 'https://b-ok.cc/book/3642068/da7d8c', 'https://b-ok.cc/book/3711506/d53e54', 'https://b-ok.cc/book/2929180/101090', 'https://b-ok.cc/book/3606241/b6920f', 'https://b-ok.cc/book/5218917/073089', 'https://b-ok.cc/book/3606240/5b40d6', 'https://b-ok.cc/book/4984922/b162b3', 'https://b-ok.cc/book/644083/5386a2', 'https://b-ok.cc/book/5239713/9a42a8', 'https://b-ok.cc/book/2841641/5a9b1e', 'https://b-ok.cc/book/1126615/642bb4', 'https://b-ok.cc/book/3705466/2dda1d', 'https://b-ok.cc/book/3691511/03d5ee', 'https://b-ok.cc/book/3629130/efe8d5', 'https://b-ok.cc/book/1271521/30bd1e', 'https://b-ok.cc/book/3681492/07d64c', 'https://b-ok.cc/book/1123519/48846e', 'https://b-ok.cc/book/5242222/716a97', 'https://b-ok.cc/book/3512714/1bb06c', 'https://b-ok.cc/book/2736388/fd001b', 'https://b-ok.cc/book/5325816/5f4571', 'https://b-ok.cc/book/3691508/095f9a', 'https://b-ok.cc/book/755716/be52d7', 'https://b-ok.cc/book/3711505/debacd', 'https://b-ok.cc/book/3559188/53e892', 'https://b-ok.cc/book/3616120/7588e2', 'https://b-ok.cc/book/2740800/2afbbd', 'https://b-ok.cc/book/5239705/99f585', 'https://b-ok.cc/book/3592706/0c0fe6', 'https://b-ok.cc/book/1269579/219dd6', 'https://b-ok.cc/book/3644077/c826f8', 'https://b-ok.cc/book/3419195/8e7587', 'https://b-ok.cc/book/2065162/d8440b', 'https://b-ok.cc/book/4999688/e399e7', 'https://b-ok.cc/book/2927996/986585', 'https://b-ok.cc/book/3553721/1495ac', 'https://b-ok.cc/book/2834961/c31ac7', 'https://b-ok.cc/book/2839436/b91f6c', 'https://b-ok.cc/book/3592710/aadadc']\n"
     ]
    },
    {
     "ename": "ElementClickInterceptedException",
     "evalue": "Message: element click intercepted: Element <a href=\"#\" id=\"dbx_3362289\" class=\"btn btn-primary dlButton disabled\" data-toggle=\"tooltip\" data-autoopen=\"true\" data-placement=\"top\" title=\"\" data-original-title=\"Link deleted by legal owner (But you can use <a href=&quot;/msgn/tor&quot; target=&quot;_blank&quot; rel=&quot;nofollow&quot;>TOR</a> to download it anyway)\" aria-describedby=\"tooltip105214\">...</a> is not clickable at point (142, 604). Other element would receive the click: <div class=\"book-details-button\">...</div>\n  (Session info: chrome=80.0.3987.149)\n",
     "output_type": "error",
     "traceback": [
      "\u001b[1;31m---------------------------------------------------------------------------\u001b[0m",
      "\u001b[1;31mElementClickInterceptedException\u001b[0m          Traceback (most recent call last)",
      "\u001b[1;32m<ipython-input-5-f8b17f8b9000>\u001b[0m in \u001b[0;36m<module>\u001b[1;34m\u001b[0m\n\u001b[1;32m----> 1\u001b[1;33m \u001b[0mscrape_books\u001b[0m\u001b[1;33m(\u001b[0m\u001b[1;33m)\u001b[0m\u001b[1;33m\u001b[0m\u001b[1;33m\u001b[0m\u001b[0m\n\u001b[0m",
      "\u001b[1;32m<ipython-input-4-0f45b7d00cd4>\u001b[0m in \u001b[0;36mscrape_books\u001b[1;34m()\u001b[0m\n\u001b[0;32m     36\u001b[0m             \u001b[0mpage_driver2\u001b[0m \u001b[1;33m=\u001b[0m \u001b[0mget_selenium_driver\u001b[0m\u001b[1;33m(\u001b[0m\u001b[1;33m)\u001b[0m\u001b[1;33m\u001b[0m\u001b[1;33m\u001b[0m\u001b[0m\n\u001b[0;32m     37\u001b[0m             \u001b[0mpage_driver2\u001b[0m\u001b[1;33m.\u001b[0m\u001b[0mget\u001b[0m\u001b[1;33m(\u001b[0m\u001b[0mlink\u001b[0m\u001b[1;33m)\u001b[0m\u001b[1;33m\u001b[0m\u001b[1;33m\u001b[0m\u001b[0m\n\u001b[1;32m---> 38\u001b[1;33m             \u001b[0mpage_driver2\u001b[0m\u001b[1;33m.\u001b[0m\u001b[0mfind_element_by_class_name\u001b[0m\u001b[1;33m(\u001b[0m\u001b[1;34m\"dlButton\"\u001b[0m\u001b[1;33m)\u001b[0m\u001b[1;33m.\u001b[0m\u001b[0mclick\u001b[0m\u001b[1;33m(\u001b[0m\u001b[1;33m)\u001b[0m\u001b[1;33m\u001b[0m\u001b[1;33m\u001b[0m\u001b[0m\n\u001b[0m\u001b[0;32m     39\u001b[0m \u001b[1;33m\u001b[0m\u001b[0m\n\u001b[0;32m     40\u001b[0m \u001b[1;33m\u001b[0m\u001b[0m\n",
      "\u001b[1;32m~\\Anaconda3\\lib\\site-packages\\selenium\\webdriver\\remote\\webelement.py\u001b[0m in \u001b[0;36mclick\u001b[1;34m(self)\u001b[0m\n\u001b[0;32m     78\u001b[0m     \u001b[1;32mdef\u001b[0m \u001b[0mclick\u001b[0m\u001b[1;33m(\u001b[0m\u001b[0mself\u001b[0m\u001b[1;33m)\u001b[0m\u001b[1;33m:\u001b[0m\u001b[1;33m\u001b[0m\u001b[1;33m\u001b[0m\u001b[0m\n\u001b[0;32m     79\u001b[0m         \u001b[1;34m\"\"\"Clicks the element.\"\"\"\u001b[0m\u001b[1;33m\u001b[0m\u001b[1;33m\u001b[0m\u001b[0m\n\u001b[1;32m---> 80\u001b[1;33m         \u001b[0mself\u001b[0m\u001b[1;33m.\u001b[0m\u001b[0m_execute\u001b[0m\u001b[1;33m(\u001b[0m\u001b[0mCommand\u001b[0m\u001b[1;33m.\u001b[0m\u001b[0mCLICK_ELEMENT\u001b[0m\u001b[1;33m)\u001b[0m\u001b[1;33m\u001b[0m\u001b[1;33m\u001b[0m\u001b[0m\n\u001b[0m\u001b[0;32m     81\u001b[0m \u001b[1;33m\u001b[0m\u001b[0m\n\u001b[0;32m     82\u001b[0m     \u001b[1;32mdef\u001b[0m \u001b[0msubmit\u001b[0m\u001b[1;33m(\u001b[0m\u001b[0mself\u001b[0m\u001b[1;33m)\u001b[0m\u001b[1;33m:\u001b[0m\u001b[1;33m\u001b[0m\u001b[1;33m\u001b[0m\u001b[0m\n",
      "\u001b[1;32m~\\Anaconda3\\lib\\site-packages\\selenium\\webdriver\\remote\\webelement.py\u001b[0m in \u001b[0;36m_execute\u001b[1;34m(self, command, params)\u001b[0m\n\u001b[0;32m    631\u001b[0m             \u001b[0mparams\u001b[0m \u001b[1;33m=\u001b[0m \u001b[1;33m{\u001b[0m\u001b[1;33m}\u001b[0m\u001b[1;33m\u001b[0m\u001b[1;33m\u001b[0m\u001b[0m\n\u001b[0;32m    632\u001b[0m         \u001b[0mparams\u001b[0m\u001b[1;33m[\u001b[0m\u001b[1;34m'id'\u001b[0m\u001b[1;33m]\u001b[0m \u001b[1;33m=\u001b[0m \u001b[0mself\u001b[0m\u001b[1;33m.\u001b[0m\u001b[0m_id\u001b[0m\u001b[1;33m\u001b[0m\u001b[1;33m\u001b[0m\u001b[0m\n\u001b[1;32m--> 633\u001b[1;33m         \u001b[1;32mreturn\u001b[0m \u001b[0mself\u001b[0m\u001b[1;33m.\u001b[0m\u001b[0m_parent\u001b[0m\u001b[1;33m.\u001b[0m\u001b[0mexecute\u001b[0m\u001b[1;33m(\u001b[0m\u001b[0mcommand\u001b[0m\u001b[1;33m,\u001b[0m \u001b[0mparams\u001b[0m\u001b[1;33m)\u001b[0m\u001b[1;33m\u001b[0m\u001b[1;33m\u001b[0m\u001b[0m\n\u001b[0m\u001b[0;32m    634\u001b[0m \u001b[1;33m\u001b[0m\u001b[0m\n\u001b[0;32m    635\u001b[0m     \u001b[1;32mdef\u001b[0m \u001b[0mfind_element\u001b[0m\u001b[1;33m(\u001b[0m\u001b[0mself\u001b[0m\u001b[1;33m,\u001b[0m \u001b[0mby\u001b[0m\u001b[1;33m=\u001b[0m\u001b[0mBy\u001b[0m\u001b[1;33m.\u001b[0m\u001b[0mID\u001b[0m\u001b[1;33m,\u001b[0m \u001b[0mvalue\u001b[0m\u001b[1;33m=\u001b[0m\u001b[1;32mNone\u001b[0m\u001b[1;33m)\u001b[0m\u001b[1;33m:\u001b[0m\u001b[1;33m\u001b[0m\u001b[1;33m\u001b[0m\u001b[0m\n",
      "\u001b[1;32m~\\Anaconda3\\lib\\site-packages\\selenium\\webdriver\\remote\\webdriver.py\u001b[0m in \u001b[0;36mexecute\u001b[1;34m(self, driver_command, params)\u001b[0m\n\u001b[0;32m    319\u001b[0m         \u001b[0mresponse\u001b[0m \u001b[1;33m=\u001b[0m \u001b[0mself\u001b[0m\u001b[1;33m.\u001b[0m\u001b[0mcommand_executor\u001b[0m\u001b[1;33m.\u001b[0m\u001b[0mexecute\u001b[0m\u001b[1;33m(\u001b[0m\u001b[0mdriver_command\u001b[0m\u001b[1;33m,\u001b[0m \u001b[0mparams\u001b[0m\u001b[1;33m)\u001b[0m\u001b[1;33m\u001b[0m\u001b[1;33m\u001b[0m\u001b[0m\n\u001b[0;32m    320\u001b[0m         \u001b[1;32mif\u001b[0m \u001b[0mresponse\u001b[0m\u001b[1;33m:\u001b[0m\u001b[1;33m\u001b[0m\u001b[1;33m\u001b[0m\u001b[0m\n\u001b[1;32m--> 321\u001b[1;33m             \u001b[0mself\u001b[0m\u001b[1;33m.\u001b[0m\u001b[0merror_handler\u001b[0m\u001b[1;33m.\u001b[0m\u001b[0mcheck_response\u001b[0m\u001b[1;33m(\u001b[0m\u001b[0mresponse\u001b[0m\u001b[1;33m)\u001b[0m\u001b[1;33m\u001b[0m\u001b[1;33m\u001b[0m\u001b[0m\n\u001b[0m\u001b[0;32m    322\u001b[0m             response['value'] = self._unwrap_value(\n\u001b[0;32m    323\u001b[0m                 response.get('value', None))\n",
      "\u001b[1;32m~\\Anaconda3\\lib\\site-packages\\selenium\\webdriver\\remote\\errorhandler.py\u001b[0m in \u001b[0;36mcheck_response\u001b[1;34m(self, response)\u001b[0m\n\u001b[0;32m    240\u001b[0m                 \u001b[0malert_text\u001b[0m \u001b[1;33m=\u001b[0m \u001b[0mvalue\u001b[0m\u001b[1;33m[\u001b[0m\u001b[1;34m'alert'\u001b[0m\u001b[1;33m]\u001b[0m\u001b[1;33m.\u001b[0m\u001b[0mget\u001b[0m\u001b[1;33m(\u001b[0m\u001b[1;34m'text'\u001b[0m\u001b[1;33m)\u001b[0m\u001b[1;33m\u001b[0m\u001b[1;33m\u001b[0m\u001b[0m\n\u001b[0;32m    241\u001b[0m             \u001b[1;32mraise\u001b[0m \u001b[0mexception_class\u001b[0m\u001b[1;33m(\u001b[0m\u001b[0mmessage\u001b[0m\u001b[1;33m,\u001b[0m \u001b[0mscreen\u001b[0m\u001b[1;33m,\u001b[0m \u001b[0mstacktrace\u001b[0m\u001b[1;33m,\u001b[0m \u001b[0malert_text\u001b[0m\u001b[1;33m)\u001b[0m\u001b[1;33m\u001b[0m\u001b[1;33m\u001b[0m\u001b[0m\n\u001b[1;32m--> 242\u001b[1;33m         \u001b[1;32mraise\u001b[0m \u001b[0mexception_class\u001b[0m\u001b[1;33m(\u001b[0m\u001b[0mmessage\u001b[0m\u001b[1;33m,\u001b[0m \u001b[0mscreen\u001b[0m\u001b[1;33m,\u001b[0m \u001b[0mstacktrace\u001b[0m\u001b[1;33m)\u001b[0m\u001b[1;33m\u001b[0m\u001b[1;33m\u001b[0m\u001b[0m\n\u001b[0m\u001b[0;32m    243\u001b[0m \u001b[1;33m\u001b[0m\u001b[0m\n\u001b[0;32m    244\u001b[0m     \u001b[1;32mdef\u001b[0m \u001b[0m_value_or_default\u001b[0m\u001b[1;33m(\u001b[0m\u001b[0mself\u001b[0m\u001b[1;33m,\u001b[0m \u001b[0mobj\u001b[0m\u001b[1;33m,\u001b[0m \u001b[0mkey\u001b[0m\u001b[1;33m,\u001b[0m \u001b[0mdefault\u001b[0m\u001b[1;33m)\u001b[0m\u001b[1;33m:\u001b[0m\u001b[1;33m\u001b[0m\u001b[1;33m\u001b[0m\u001b[0m\n",
      "\u001b[1;31mElementClickInterceptedException\u001b[0m: Message: element click intercepted: Element <a href=\"#\" id=\"dbx_3362289\" class=\"btn btn-primary dlButton disabled\" data-toggle=\"tooltip\" data-autoopen=\"true\" data-placement=\"top\" title=\"\" data-original-title=\"Link deleted by legal owner (But you can use <a href=&quot;/msgn/tor&quot; target=&quot;_blank&quot; rel=&quot;nofollow&quot;>TOR</a> to download it anyway)\" aria-describedby=\"tooltip105214\">...</a> is not clickable at point (142, 604). Other element would receive the click: <div class=\"book-details-button\">...</div>\n  (Session info: chrome=80.0.3987.149)\n"
     ]
    }
   ],
   "source": [
    "scrape_books()"
   ]
  },
  {
   "cell_type": "markdown",
   "metadata": {
    "colab_type": "text",
    "id": "Nvn9w0UALdSH"
   },
   "source": [
    "# PDF Page Summarization Steps\n",
    "1. Reading the Page content then printing it.\n",
    "2. Cleaning the Page content then printing it.\n",
    "3. Splitting into sentences (Tokenization) but the last sentence is removed and also the sentences which smaller than 5 words then printing all the chosen sentences.\n",
    "4. Vectorizing each sentence using TF-Hub Universal sentence Encoder (embedding matrix).\n",
    "5. Applyig Elbow method to specify the no. of clusters which represent the no. of sentences in the summary ( I choosed the no. after which the wcss dropped below 4)\n",
    "6. Applaying Kmeans clusturing to cluster the sentences into the specified no of clusters.\n",
    "7. Forming Page summary from the sentences which are the nearst to clusteres centroids. from each cluster we take a sentence; this sentence is the closest to the centroid. Then we join these sentences together to form the summary.\n",
    "8. Printing the summary of The Page.\n",
    "\n",
    "###### note: this notebook needs to be ran on colab as it uses the GPU version of tensorflow or you need to :\n",
    "  1. Install the latest Tensorflow version.\n",
    "     - !pip3 install --upgrade tensorflow-gpu\n",
    "  2. Install TF-Hub by\n",
    "     - !pip3 install tensorflow-hub \n",
    "     - !pip3 install seaborn"
   ]
  },
  {
   "cell_type": "code",
   "execution_count": 2,
   "metadata": {
    "colab": {
     "base_uri": "https://localhost:8080/",
     "height": 34
    },
    "colab_type": "code",
    "id": "-aP4fll8Kf4O",
    "outputId": "2e8fceb0-3a6b-4866-9095-8fd57a97cf57"
   },
   "outputs": [
    {
     "name": "stdout",
     "output_type": "stream",
     "text": [
      "Requirement already satisfied: PyPDF2 in /usr/local/lib/python3.6/dist-packages (1.26.0)\n"
     ]
    }
   ],
   "source": [
    "#installing pdfminer\n",
    "!pip install PyPDF2"
   ]
  },
  {
   "cell_type": "code",
   "execution_count": 3,
   "metadata": {
    "colab": {
     "base_uri": "https://localhost:8080/",
     "height": 51
    },
    "colab_type": "code",
    "id": "rT0RBA3KKf4h",
    "outputId": "78c0a949-6392-4241-c78d-840bc74b1b66"
   },
   "outputs": [
    {
     "name": "stdout",
     "output_type": "stream",
     "text": [
      "[nltk_data] Downloading package punkt to /root/nltk_data...\n",
      "[nltk_data]   Package punkt is already up-to-date!\n"
     ]
    }
   ],
   "source": [
    "# Importing the required libraries\n",
    "import PyPDF2\n",
    "from PyPDF2 import PdfFileReader\n",
    "import os\n",
    "import tensorflow_hub as hub\n",
    "import nltk\n",
    "import nltk\n",
    "nltk.download('punkt')\n",
    "import matplotlib.pyplot as plt\n",
    "import re\n",
    "import numpy as np\n",
    "from sklearn.cluster import KMeans\n",
    "from sklearn.metrics import pairwise_distances_argmin_min"
   ]
  },
  {
   "cell_type": "markdown",
   "metadata": {
    "colab_type": "text",
    "id": "Jf68xISLPwk9"
   },
   "source": [
    "## PDF file and PDF reader objects"
   ]
  },
  {
   "cell_type": "code",
   "execution_count": 0,
   "metadata": {
    "colab": {},
    "colab_type": "code",
    "id": "s4VIuwsmKf4r"
   },
   "outputs": [],
   "source": [
    "# Creating a pdf file object\n",
    "pdf = open(\"drive/My Drive/Colab/task6/task7/Applied Text Analysis with Python Enabling Language-Aware Data Products with Machine Learning by Benjamin Bengfort, Tony Ojeda, Rebecca Bilbro (z-lib.org).pdf\",\"rb\")\n",
    "# required variables\n",
    "ENCRYPTED_FILE_PATH = \"Doc1 password.pdf\"\n",
    "FILE_OUT_PATH = \"Doc2 password.pdf\"\n",
    "#creating pdf reader object\n",
    "pdf_reader = PdfFileReader(pdf) \n",
    "\n",
    "if pdf_reader.isEncrypted:\n",
    "    try:\n",
    "        pdf_reader.decrypt('123456')\n",
    "    except NotImplementedError:\n",
    "        command=f\"qpdf --password='{123456}' --decrypt {ENCRYPTED_FILE_PATH} {FILE_OUT_PATH};\"\n",
    "        os.system(command)            \n",
    "        with open(\"Doc1 password.pdf\", mode='rb') as fp:\n",
    "            pdf_reader = PyPDF2.PdfFileReader(fp)\n",
    "            print(f\"Number of page: {pdf_reader.getNumPages()}\")"
   ]
  },
  {
   "cell_type": "code",
   "execution_count": 5,
   "metadata": {
    "colab": {
     "base_uri": "https://localhost:8080/",
     "height": 34
    },
    "colab_type": "code",
    "id": "gXR_WO_rkaHi",
    "outputId": "ecae2fed-c2ef-496a-f9f2-248ea0d2e734"
   },
   "outputs": [
    {
     "name": "stdout",
     "output_type": "stream",
     "text": [
      "Drive already mounted at /content/drive; to attempt to forcibly remount, call drive.mount(\"/content/drive\", force_remount=True).\n"
     ]
    }
   ],
   "source": [
    "from google.colab import drive\n",
    "drive.mount('/content/drive')"
   ]
  },
  {
   "cell_type": "markdown",
   "metadata": {
    "colab_type": "text",
    "id": "FJq9A-pwKgqn"
   },
   "source": [
    "## Calculating number of pages"
   ]
  },
  {
   "cell_type": "code",
   "execution_count": 6,
   "metadata": {
    "colab": {
     "base_uri": "https://localhost:8080/",
     "height": 51
    },
    "colab_type": "code",
    "id": "Mo3mp4wsKf41",
    "outputId": "f759e027-a0bc-451c-a94b-aab4fda113c3"
   },
   "outputs": [
    {
     "name": "stdout",
     "output_type": "stream",
     "text": [
      "Num of pages in the PDF:  332 \n",
      "\n"
     ]
    }
   ],
   "source": [
    "#checking number of pages in a pdf file\n",
    "no_of_pages = pdf_reader.numPages\n",
    "print(\"Num of pages in the PDF: \", no_of_pages,\"\\n\")\n",
    "            "
   ]
  },
  {
   "cell_type": "markdown",
   "metadata": {
    "colab_type": "text",
    "id": "He4ThoU_QOeJ"
   },
   "source": [
    "## Loading TF unversal sentence embedding pretrained model & defining the embedding function"
   ]
  },
  {
   "cell_type": "code",
   "execution_count": 7,
   "metadata": {
    "colab": {
     "base_uri": "https://localhost:8080/",
     "height": 34
    },
    "colab_type": "code",
    "id": "Uj--DLwbWg7U",
    "outputId": "dedf9d89-af5e-43a6-db55-1910a9e48cb6"
   },
   "outputs": [
    {
     "name": "stdout",
     "output_type": "stream",
     "text": [
      "module https://tfhub.dev/google/universal-sentence-encoder/4 loaded\n"
     ]
    }
   ],
   "source": [
    "   \n",
    "module_url = \"https://tfhub.dev/google/universal-sentence-encoder/4\" #@param [\"https://tfhub.dev/google/universal-sentence-encoder/4\", \"https://tfhub.dev/google/universal-sentence-encoder-large/5\"]\n",
    "model = hub.load(module_url)\n",
    "print (\"module %s loaded\" % module_url)\n",
    "def embed(input):\n",
    "  vectors = model(input)\n",
    "  # from tensors to list of vectors (embedding matrix)\n",
    "  vectors = np.array(vectors).tolist()\n",
    "  return vectors"
   ]
  },
  {
   "cell_type": "markdown",
   "metadata": {
    "colab_type": "text",
    "id": "gQAZTx9iaPdF"
   },
   "source": [
    "## One page Summarization\n"
   ]
  },
  {
   "cell_type": "markdown",
   "metadata": {
    "colab_type": "text",
    "id": "9WwJ-KQwRiYo"
   },
   "source": [
    "### Defining a function to clean a page"
   ]
  },
  {
   "cell_type": "code",
   "execution_count": 0,
   "metadata": {
    "colab": {},
    "colab_type": "code",
    "id": "73h58MLq5qy1"
   },
   "outputs": [],
   "source": [
    "def Clean_Page(pageText):\n",
    "  # replacing multiple spaces by single space\n",
    "  pageText = re.sub('[\\s]+', ' ', pageText)\n",
    "  # replacing multiple newlines by space\n",
    "  pageText = re.sub('[\\n]+', ' ', pageText)\n",
    "  # replacing e.g. by for example \n",
    "  pageText = pageText.replace(\"e.g.\",\"for example\")\n",
    "  # replacing certain symbols by space\n",
    "  pageText = re.sub(\"\\n|—|-\",\" \", pageText)\n",
    "  # removing urls\n",
    "  pageText = re.sub('((www\\.[^\\s]+)|(https?://[^\\s]+))','URL',pageText)\n",
    "  # removing the rest of punctuations\n",
    "  pageText = re.sub(\"[^a-zA-Z0-9\\.\\s+,]\",\"\", pageText)\n",
    "  # replacing multiple spaces by single space\n",
    "  pageText = re.sub('[\\s]+', ' ', pageText)\n",
    "  return pageText"
   ]
  },
  {
   "cell_type": "markdown",
   "metadata": {
    "colab_type": "text",
    "id": "o9O_qZnKvRpg"
   },
   "source": [
    " ### Defining a function to use the elbow method to find the optimal number of clusters (sentences in summary)"
   ]
  },
  {
   "cell_type": "code",
   "execution_count": 0,
   "metadata": {
    "colab": {},
    "colab_type": "code",
    "id": "wkr9kuCAdbVC"
   },
   "outputs": [],
   "source": [
    "def Plot_elbow(sen_vectors):\n",
    "   wcss = []\n",
    "   for i in range(1, len(sen_vectors)):\n",
    "      kmeans = KMeans(n_clusters = i, init = 'k-means++', random_state = 42)\n",
    "      kmeans.fit(sen_vectors)\n",
    "      wcss.append(kmeans.inertia_)\n",
    "   plt.plot(range(1, len(sen_vectors)), wcss)\n",
    "   plt.title('The Elbow Method')\n",
    "   plt.xlabel('Number of clusters')\n",
    "   plt.ylabel('WCSS')\n",
    "   plt.show() \n",
    "   clusters = int(input(\"Please enter the required no. of clusters (from 1 to %d): \" %len(sen_vectors)))\n",
    "   return clusters\n"
   ]
  },
  {
   "cell_type": "markdown",
   "metadata": {
    "colab_type": "text",
    "id": "jzMnfm6Tvp3f"
   },
   "source": [
    "### Defining a function to plit the text into a list of sentences (tokenization)\n"
   ]
  },
  {
   "cell_type": "code",
   "execution_count": 0,
   "metadata": {
    "colab": {},
    "colab_type": "code",
    "id": "SXN43fgyfOOB"
   },
   "outputs": [],
   "source": [
    "# splitting the text into a list of sentences (tokenization)\n",
    "def Sentence_split(pageText): \n",
    "  sent = pageText.split(\".\")####\n",
    "  sentences=[]\n",
    "  for i in range(len(sent)):\n",
    "    if ((len(sent[i].strip().split(\" \"))> 4) & (i != (len(sent)-1))):###\n",
    "     sentences.append(sent[i].strip())\n",
    "  return sentences"
   ]
  },
  {
   "cell_type": "markdown",
   "metadata": {
    "colab_type": "text",
    "id": "8td2weAm5qyp"
   },
   "source": [
    "### Defining a function to summerize a page"
   ]
  },
  {
   "cell_type": "code",
   "execution_count": 0,
   "metadata": {
    "colab": {},
    "colab_type": "code",
    "id": "ZQ1gVhDySHmH"
   },
   "outputs": [],
   "source": [
    "def Summarize_Page(pdf_reader, pageNum, n_clusters):\n",
    "  # creating a page object\n",
    "  page = pdf_reader.getPage(pageNum)\n",
    "  # extracting text from the page\n",
    "  pageText = page.extractText()\n",
    "  # cleaning the page text\n",
    "  pageText = Clean_Page(pageText)\n",
    "  sentences = Sentence_split(pageText)\n",
    "  # embedding all the sentences in the list (vectorization)\n",
    "  sen_vectors= embed(sentences)\n",
    "  # clustering using kmeans \n",
    "  #n_clusters = int(np.ceil(len(sentences)**0.5))\n",
    "  kmeans = KMeans(n_clusters=n_clusters, init = 'k-means++', random_state = 42)\n",
    "  kmeans = kmeans.fit(sen_vectors)\n",
    "  # obtaining the indices of the nearst sentences to clusters centroids\n",
    "  closest, _ = pairwise_distances_argmin_min(kmeans.cluster_centers_, sen_vectors)\n",
    "  # sorting the indices\n",
    "  closest.sort()\n",
    "  # joining the sentences (closest to centroids) to obtain the summary\n",
    "  summary=[]\n",
    "  for i in closest:\n",
    "      summary.append(sentences[i])\n",
    "  summary='. '.join(summary) + \".\"\n",
    "  return summary"
   ]
  },
  {
   "cell_type": "markdown",
   "metadata": {
    "colab_type": "text",
    "id": "X5Wzq1gETuMg"
   },
   "source": [
    "### Summarize page no. 75 (Index 74)"
   ]
  },
  {
   "cell_type": "markdown",
   "metadata": {
    "colab_type": "text",
    "id": "4E2EvapTZd-I"
   },
   "source": [
    "#### Asking the user to enter the page number"
   ]
  },
  {
   "cell_type": "code",
   "execution_count": 12,
   "metadata": {
    "colab": {
     "base_uri": "https://localhost:8080/",
     "height": 34
    },
    "colab_type": "code",
    "id": "4ZGxZ7gYGwkj",
    "outputId": "0bd3c84f-4557-43d9-f3ba-770c1f62299e"
   },
   "outputs": [
    {
     "name": "stdout",
     "output_type": "stream",
     "text": [
      "Please enter the page number (from 0 to 331): 74\n"
     ]
    }
   ],
   "source": [
    "flag = True\n",
    "while flag:\n",
    " pageNumber = int(input(\"Please enter the page number (from 0 to %d): \" %(no_of_pages-1)))\n",
    " if pageNumber > (no_of_pages-1):\n",
    "   print(\"\\nInvalid page numer\\n\")\n",
    "   pageNumber = int(input(\"Please enter the page number (from 0 to %d): \" %(no_of_pages-1)))\n",
    " else:\n",
    "   flag= False"
   ]
  },
  {
   "cell_type": "markdown",
   "metadata": {
    "colab_type": "text",
    "id": "-M4wR7R5Zphg"
   },
   "source": [
    "#### Printing the Page Content"
   ]
  },
  {
   "cell_type": "code",
   "execution_count": 13,
   "metadata": {
    "colab": {
     "base_uri": "https://localhost:8080/",
     "height": 646
    },
    "colab_type": "code",
    "id": "eCfO3pOCY1U-",
    "outputId": "6b8b3023-2752-4a49-fd55-4a796a5356c7"
   },
   "outputs": [
    {
     "name": "stdout",
     "output_type": "stream",
     "text": [
      "Page Content:\n",
      "\n",
      "CHAPTER 4Text Vectorization and TransformationPipelinesMachine learning algorithms operate on a numeric feature space, expecting input as a\n",
      "two-dimensional array where rows are instances and columns are features. In order\n",
      "to perform machine learning on text, we need to transform our documents into vec‡\n",
      "tor representations such that we can apply numeric machine learning. This process is\n",
      "called feature extraction\n",
      " or more simply, \n",
      "vectorization\n",
      ", and is an essential first step\n",
      "toward language-aware analysis.\n",
      "Representing documents numerically gives us the ability to perform meaningful ana‡\n",
      "lytics and also creates the \n",
      "instances\n",
      " on which machine learning algorithms operate. \n",
      "Intext analysis, instances are entire documents or utterances, which can vary in length\n",
      "from quotes or tweets to entire books, but whose vectors are always of a uniform\n",
      "length. Each property of the vector representation is a \n",
      "feature\n",
      ". For text, features repre‡\n",
      "sent attributes and properties of documents—including its content as well as meta\n",
      "attributes, such as document length, author, source, and publication date. When con‡\n",
      "sidered together, the features of a document describe a multidimensional feature\n",
      "space on which machine learning methods can be applied.\n",
      "For this reason, we must now make a critical shift in how we think about language—\n",
      "from a sequence of words to points that occupy a high-dimensional semantic \n",
      "space\n",
      ".Points in space can be close together or far apart, tightly clustered or evenly dis‡\n",
      "tributed. Semantic space is therefore mapped in such a way where documents with\n",
      "similar meanings are closer together and those that are different are farther apart. By\n",
      "encoding similarity as distance, we can begin to derive the primary components of\n",
      "documents and draw decision boundaries in our semantic space.\n",
      "The simplest encoding of semantic space is the \n",
      "bag-of-words\n",
      " model, whose primary\n",
      "insight is that meaning and similarity are encoded in vocabulary. For example, the\n",
      "55\n"
     ]
    }
   ],
   "source": [
    "# creating a page object\n",
    "page = pdf_reader.getPage(pageNumber)\n",
    "# extracting text from the page\n",
    "pageText = page.extractText()\n",
    "# printing the content of the page\n",
    "print(\"Page Content:\\n\")\n",
    "print(pageText)"
   ]
  },
  {
   "cell_type": "markdown",
   "metadata": {
    "colab_type": "text",
    "id": "SpeEP-BkZ1EG"
   },
   "source": [
    "#### Printing Page Content After Cleaning and The splitted sentences\n",
    "\n",
    "\n",
    "\n"
   ]
  },
  {
   "cell_type": "code",
   "execution_count": 14,
   "metadata": {
    "colab": {
     "base_uri": "https://localhost:8080/",
     "height": 598
    },
    "colab_type": "code",
    "id": "WT7UYqp-g4xP",
    "outputId": "608153b6-61cd-4ba9-c69c-71d640a08725"
   },
   "outputs": [
    {
     "name": "stdout",
     "output_type": "stream",
     "text": [
      "Page Content After Cleaning:\n",
      "\n",
      "CHAPTER 4Text Vectorization and TransformationPipelinesMachine learning algorithms operate on a numeric feature space, expecting input as a two dimensional array where rows are instances and columns are features. In order to perform machine learning on text, we need to transform our documents into vec tor representations such that we can apply numeric machine learning. This process is called feature extraction or more simply, vectorization , and is an essential first step toward language aware analysis. Representing documents numerically gives us the ability to perform meaningful ana lytics and also creates the instances on which machine learning algorithms operate. Intext analysis, instances are entire documents or utterances, which can vary in length from quotes or tweets to entire books, but whose vectors are always of a uniform length. Each property of the vector representation is a feature . For text, features repre sent attributes and properties of documents including its content as well as meta attributes, such as document length, author, source, and publication date. When con sidered together, the features of a document describe a multidimensional feature space on which machine learning methods can be applied. For this reason, we must now make a critical shift in how we think about language from a sequence of words to points that occupy a high dimensional semantic space .Points in space can be close together or far apart, tightly clustered or evenly dis tributed. Semantic space is therefore mapped in such a way where documents with similar meanings are closer together and those that are different are farther apart. By encoding similarity as distance, we can begin to derive the primary components of documents and draw decision boundaries in our semantic space. The simplest encoding of semantic space is the bag of words model, whose primary insight is that meaning and similarity are encoded in vocabulary. For example, the 55 \n",
      "\n",
      "\n",
      "The splitted sentences:\n",
      "\n",
      "CHAPTER 4Text Vectorization and TransformationPipelinesMachine learning algorithms operate on a numeric feature space, expecting input as a two dimensional array where rows are instances and columns are features.\n",
      "\n",
      "In order to perform machine learning on text, we need to transform our documents into vec tor representations such that we can apply numeric machine learning.\n",
      "\n",
      "This process is called feature extraction or more simply, vectorization , and is an essential first step toward language aware analysis.\n",
      "\n",
      "Representing documents numerically gives us the ability to perform meaningful ana lytics and also creates the instances on which machine learning algorithms operate.\n",
      "\n",
      "Intext analysis, instances are entire documents or utterances, which can vary in length from quotes or tweets to entire books, but whose vectors are always of a uniform length.\n",
      "\n",
      "Each property of the vector representation is a feature.\n",
      "\n",
      "For text, features repre sent attributes and properties of documents including its content as well as meta attributes, such as document length, author, source, and publication date.\n",
      "\n",
      "When con sidered together, the features of a document describe a multidimensional feature space on which machine learning methods can be applied.\n",
      "\n",
      "For this reason, we must now make a critical shift in how we think about language from a sequence of words to points that occupy a high dimensional semantic space.\n",
      "\n",
      "Points in space can be close together or far apart, tightly clustered or evenly dis tributed.\n",
      "\n",
      "Semantic space is therefore mapped in such a way where documents with similar meanings are closer together and those that are different are farther apart.\n",
      "\n",
      "By encoding similarity as distance, we can begin to derive the primary components of documents and draw decision boundaries in our semantic space.\n",
      "\n",
      "The simplest encoding of semantic space is the bag of words model, whose primary insight is that meaning and similarity are encoded in vocabulary.\n",
      "\n"
     ]
    }
   ],
   "source": [
    " # cleaning the page text\n",
    "pageText_cleaned = Clean_Page(pageText)\n",
    "print(\"Page Content After Cleaning:\\n\")\n",
    "print(pageText_cleaned,\"\\n\\n\")\n",
    "\n",
    "sentences_splitted = Sentence_split(pageText_cleaned)\n",
    "print(\"The splitted sentences:\\n\")\n",
    "for i in range(len(sentences_splitted)):\n",
    "    print(sentences_splitted[i]+\".\\n\")"
   ]
  },
  {
   "cell_type": "markdown",
   "metadata": {
    "colab_type": "text",
    "id": "Y_DLMCVBi7sO"
   },
   "source": [
    "#### Summerization and Choosing no. of sentences in summary based on elbow method"
   ]
  },
  {
   "cell_type": "code",
   "execution_count": 15,
   "metadata": {
    "colab": {
     "base_uri": "https://localhost:8080/",
     "height": 312
    },
    "colab_type": "code",
    "id": "HkfrT3Wfh8hi",
    "outputId": "39de25e5-65b7-472f-e320-f98d62d236b4"
   },
   "outputs": [
    {
     "data": {
      "image/png": "[encoded data removed]",
      "text/plain": [
       "<Figure size 432x288 with 1 Axes>"
      ]
     },
     "metadata": {
      "tags": []
     },
     "output_type": "display_data"
    },
    {
     "name": "stdout",
     "output_type": "stream",
     "text": [
      "Please enter the required no. of clusters (from 1 to 13): 6\n"
     ]
    }
   ],
   "source": [
    "# embedding all the sentences in the list (vectorization)\n",
    "sen_vectors= embed(sentences_splitted)\n",
    "# choosing the number of clusters using elbow method\n",
    "no_sentences = Plot_elbow(sen_vectors)"
   ]
  },
  {
   "cell_type": "code",
   "execution_count": 0,
   "metadata": {
    "colab": {},
    "colab_type": "code",
    "id": "yVe6zxiTZGgl"
   },
   "outputs": [],
   "source": [
    "# summarization\n",
    "summary = Summarize_Page(pdf_reader, pageNumber, no_sentences)"
   ]
  },
  {
   "cell_type": "markdown",
   "metadata": {
    "colab_type": "text",
    "id": "uhq8wmViMFEq"
   },
   "source": [
    "#### Printing Page Summary"
   ]
  },
  {
   "cell_type": "code",
   "execution_count": 17,
   "metadata": {
    "colab": {
     "base_uri": "https://localhost:8080/",
     "height": 88
    },
    "colab_type": "code",
    "id": "Z7pSAZFl6s1A",
    "outputId": "e5cc1346-eb4a-4e64-fdcf-8409a0f6b6dd",
    "scrolled": true
   },
   "outputs": [
    {
     "name": "stdout",
     "output_type": "stream",
     "text": [
      "Page Summary:\n",
      "\n",
      "This process is called feature extraction or more simply, vectorization , and is an essential first step toward language aware analysis. Representing documents numerically gives us the ability to perform meaningful ana lytics and also creates the instances on which machine learning algorithms operate. Intext analysis, instances are entire documents or utterances, which can vary in length from quotes or tweets to entire books, but whose vectors are always of a uniform length. For text, features repre sent attributes and properties of documents including its content as well as meta attributes, such as document length, author, source, and publication date. Points in space can be close together or far apart, tightly clustered or evenly dis tributed. The simplest encoding of semantic space is the bag of words model, whose primary insight is that meaning and similarity are encoded in vocabulary.\n"
     ]
    }
   ],
   "source": [
    "# printing the summary of the page\n",
    "print(\"Page Summary:\\n\")\n",
    "print(summary)"
   ]
  },
  {
   "cell_type": "markdown",
   "metadata": {
    "colab_type": "text",
    "id": "PAAiE_OmgOnp"
   },
   "source": [
    "### Summarize page no. 29 (Index 28)"
   ]
  },
  {
   "cell_type": "markdown",
   "metadata": {
    "colab_type": "text",
    "id": "d1tcJnt5jmtb"
   },
   "source": [
    "#### Asking the user to enter the page number"
   ]
  },
  {
   "cell_type": "code",
   "execution_count": 18,
   "metadata": {
    "colab": {
     "base_uri": "https://localhost:8080/",
     "height": 34
    },
    "colab_type": "code",
    "id": "uY5uqtkajmtm",
    "outputId": "c05e61c0-3763-425b-da09-7bc0008367d5"
   },
   "outputs": [
    {
     "name": "stdout",
     "output_type": "stream",
     "text": [
      "Please enter the page number (from 0 to 331): 28\n"
     ]
    }
   ],
   "source": [
    "flag = True\n",
    "while flag:\n",
    " pageNumber = int(input(\"Please enter the page number (from 0 to %d): \" %(no_of_pages-1)))\n",
    " if pageNumber > (no_of_pages-1):\n",
    "   print(\"\\nInvalid page numer\\n\")\n",
    "   pageNumber = int(input(\"Please enter the page number (from 0 to %d): \" %(no_of_pages-1)))\n",
    " else:\n",
    "   flag= False"
   ]
  },
  {
   "cell_type": "markdown",
   "metadata": {
    "colab_type": "text",
    "id": "ko71hlsljmt-"
   },
   "source": [
    "#### Printing the Page Content"
   ]
  },
  {
   "cell_type": "code",
   "execution_count": 19,
   "metadata": {
    "colab": {
     "base_uri": "https://localhost:8080/",
     "height": 751
    },
    "colab_type": "code",
    "id": "zkj62hwIjmuB",
    "outputId": "d6a091e5-da43-4582-a134-963a0e349c02"
   },
   "outputs": [
    {
     "name": "stdout",
     "output_type": "stream",
     "text": [
      "Page Content:\n",
      "\n",
      "type of language model is hugely influential to text analytics because it demonstrates\n",
      "the basic mechanism of a language application—the use of context to guess meaning.\n",
      "Language models also reveal the basic hypothesis behind applied machine learning\n",
      "on text: text is predictable\n",
      ". In fact, the mechanism used to score language models inan academic context, \n",
      "perplexity\n",
      ", is a measure of how predictable the text is by evaluat‡\n",
      "ing the entropy\n",
      " (the level of uncertainty or surprisal) of the language model†s proba‡\n",
      "bility distribution.Consider the following partial phrases: –man†s best‹ƒ or –the witch flew on a‹ƒ.\n",
      "These low entropy phrases mean that language models would guess –friendƒ and\n",
      "–broomstick,ƒ respectively, with a high likelihood (and in fact, English speakers would\n",
      "be surprised if the phrase wasn†t completed that way). On the other hand, high\n",
      "entropy phrases like –I†m going out to dinner tonight with my‹ƒ lend themselves to a\n",
      "lot of possibilities (–friend,ƒ –mother,ƒ and –work colleaguesƒ could all be equally\n",
      "likely). Human listeners can use experience, imagination, and memory as well as sit‡\n",
      "uational context to fill in the blank. Computational models do not necessarily have\n",
      "the same context and as a result must be more constrained.\n",
      "Language models demonstrate an ability to infer or define relationships between \n",
      "tokens, the UTF-8 encoded strings of data the model observes that human listeners\n",
      "and readers identify as words with meaning. In the formal definition, the model is\n",
      "taking advantage of context, defining a narrow decision space in which only a few\n",
      "possibilities exist.This insight gives us the ability to generalize the formal model to other models of lan‡\n",
      "guage that operate in applications such as machine translation or sentiment analysis.\n",
      "To take advantage of the predictability of text, we need to define a constrained,\n",
      "numeric decision space on which the model can compute. By doing this, we can lev‡\n",
      "erage statistical machine learning techniques, both supervised and unsupervised, to\n",
      "build models of language that expose meaning from data.\n",
      "The first step in machine learning is the identification of the features of data that pre‡\n",
      "dict our target. Text data provides many opportunities to extract features either at a\n",
      "shallow level by simply using string splitting, to deeper levels that parse text to extract\n",
      "morphological, syntactic, and even semantic representations from the data.\n",
      "In the following sections we†ll explore some simple ways that language data can\n",
      "expose complex features for modeling purposes. First, we†ll explore how the linguistic\n",
      "properties of a specific language (e.g., gender in English) can give us the quick abilityto perform statistical computation on text. We†ll then take a deeper look at how con‡\n",
      "text modifies interpretation, and how this is usually used to create the traditional\n",
      "–bag-of-wordsƒ model. Finally we†ll explore richer features that are parsed using mor‡\n",
      "phologic, syntactic, and semantic natural language processing.\n",
      "Language as Data | 9\n",
      "\n"
     ]
    }
   ],
   "source": [
    "# creating a page object\n",
    "page = pdf_reader.getPage(pageNumber)\n",
    "# extracting text from the page\n",
    "pageText = page.extractText()\n",
    "# printing the content of the page\n",
    "print(\"Page Content:\\n\")\n",
    "print(pageText)"
   ]
  },
  {
   "cell_type": "markdown",
   "metadata": {
    "colab_type": "text",
    "id": "Sx-UBmDsjmuU"
   },
   "source": [
    "#### Printing Page Content After Cleaning and The splitted sentences\n",
    "\n",
    "\n",
    "\n"
   ]
  },
  {
   "cell_type": "code",
   "execution_count": 20,
   "metadata": {
    "colab": {
     "base_uri": "https://localhost:8080/",
     "height": 802
    },
    "colab_type": "code",
    "id": "5dfmeNfZjmuX",
    "outputId": "7608ac02-8696-4d11-df62-b1537d8ba6d3"
   },
   "outputs": [
    {
     "name": "stdout",
     "output_type": "stream",
     "text": [
      "Page Content After Cleaning:\n",
      "\n",
      "type of language model is hugely influential to text analytics because it demonstrates the basic mechanism of a language application the use of context to guess meaning. Language models also reveal the basic hypothesis behind applied machine learning on text text is predictable . In fact, the mechanism used to score language models inan academic context, perplexity , is a measure of how predictable the text is by evaluat ing the entropy the level of uncertainty or surprisal of the language models proba bility distribution.Consider the following partial phrases mans best or the witch flew on a. These low entropy phrases mean that language models would guess friend and broomstick, respectively, with a high likelihood and in fact, English speakers would be surprised if the phrase wasnt completed that way. On the other hand, high entropy phrases like Im going out to dinner tonight with my lend themselves to a lot of possibilities friend, mother, and work colleagues could all be equally likely. Human listeners can use experience, imagination, and memory as well as sit uational context to fill in the blank. Computational models do not necessarily have the same context and as a result must be more constrained. Language models demonstrate an ability to infer or define relationships between tokens, the UTF 8 encoded strings of data the model observes that human listeners and readers identify as words with meaning. In the formal definition, the model is taking advantage of context, defining a narrow decision space in which only a few possibilities exist.This insight gives us the ability to generalize the formal model to other models of lan guage that operate in applications such as machine translation or sentiment analysis. To take advantage of the predictability of text, we need to define a constrained, numeric decision space on which the model can compute. By doing this, we can lev erage statistical machine learning techniques, both supervised and unsupervised, to build models of language that expose meaning from data. The first step in machine learning is the identification of the features of data that pre dict our target. Text data provides many opportunities to extract features either at a shallow level by simply using string splitting, to deeper levels that parse text to extract morphological, syntactic, and even semantic representations from the data. In the following sections well explore some simple ways that language data can expose complex features for modeling purposes. First, well explore how the linguistic properties of a specific language for example, gender in English can give us the quick abilityto perform statistical computation on text. Well then take a deeper look at how con text modifies interpretation, and how this is usually used to create the traditional bag of words model. Finally well explore richer features that are parsed using mor phologic, syntactic, and semantic natural language processing. Language as Data 9  \n",
      "\n",
      "\n",
      "The splitted sentences:\n",
      "\n",
      "type of language model is hugely influential to text analytics because it demonstrates the basic mechanism of a language application the use of context to guess meaning.\n",
      "\n",
      "Language models also reveal the basic hypothesis behind applied machine learning on text text is predictable.\n",
      "\n",
      "In fact, the mechanism used to score language models inan academic context, perplexity , is a measure of how predictable the text is by evaluat ing the entropy the level of uncertainty or surprisal of the language models proba bility distribution.\n",
      "\n",
      "Consider the following partial phrases mans best or the witch flew on a.\n",
      "\n",
      "These low entropy phrases mean that language models would guess friend and broomstick, respectively, with a high likelihood and in fact, English speakers would be surprised if the phrase wasnt completed that way.\n",
      "\n",
      "On the other hand, high entropy phrases like Im going out to dinner tonight with my lend themselves to a lot of possibilities friend, mother, and work colleagues could all be equally likely.\n",
      "\n",
      "Human listeners can use experience, imagination, and memory as well as sit uational context to fill in the blank.\n",
      "\n",
      "Computational models do not necessarily have the same context and as a result must be more constrained.\n",
      "\n",
      "Language models demonstrate an ability to infer or define relationships between tokens, the UTF 8 encoded strings of data the model observes that human listeners and readers identify as words with meaning.\n",
      "\n",
      "In the formal definition, the model is taking advantage of context, defining a narrow decision space in which only a few possibilities exist.\n",
      "\n",
      "This insight gives us the ability to generalize the formal model to other models of lan guage that operate in applications such as machine translation or sentiment analysis.\n",
      "\n",
      "To take advantage of the predictability of text, we need to define a constrained, numeric decision space on which the model can compute.\n",
      "\n",
      "By doing this, we can lev erage statistical machine learning techniques, both supervised and unsupervised, to build models of language that expose meaning from data.\n",
      "\n",
      "The first step in machine learning is the identification of the features of data that pre dict our target.\n",
      "\n",
      "Text data provides many opportunities to extract features either at a shallow level by simply using string splitting, to deeper levels that parse text to extract morphological, syntactic, and even semantic representations from the data.\n",
      "\n",
      "In the following sections well explore some simple ways that language data can expose complex features for modeling purposes.\n",
      "\n",
      "First, well explore how the linguistic properties of a specific language for example, gender in English can give us the quick abilityto perform statistical computation on text.\n",
      "\n",
      "Well then take a deeper look at how con text modifies interpretation, and how this is usually used to create the traditional bag of words model.\n",
      "\n",
      "Finally well explore richer features that are parsed using mor phologic, syntactic, and semantic natural language processing.\n",
      "\n"
     ]
    }
   ],
   "source": [
    " # cleaning the page text\n",
    "pageText_cleaned = Clean_Page(pageText)\n",
    "print(\"Page Content After Cleaning:\\n\")\n",
    "print(pageText_cleaned,\"\\n\\n\")\n",
    "\n",
    "sentences_splitted = Sentence_split(pageText_cleaned)\n",
    "print(\"The splitted sentences:\\n\")\n",
    "for i in range(len(sentences_splitted)):\n",
    "    print(sentences_splitted[i]+\".\\n\")"
   ]
  },
  {
   "cell_type": "markdown",
   "metadata": {
    "colab_type": "text",
    "id": "rDW5K_Xdjmum"
   },
   "source": [
    "#### Summerization and Choosing no. of sentences in summary based on elbow method"
   ]
  },
  {
   "cell_type": "code",
   "execution_count": 21,
   "metadata": {
    "colab": {
     "base_uri": "https://localhost:8080/",
     "height": 312
    },
    "colab_type": "code",
    "id": "xMvUHcjrjmup",
    "outputId": "ec411eeb-4792-4126-c3ee-128d0d769980"
   },
   "outputs": [
    {
     "data": {
      "image/png": "[encoded data removed]",
      "text/plain": [
       "<Figure size 432x288 with 1 Axes>"
      ]
     },
     "metadata": {
      "tags": []
     },
     "output_type": "display_data"
    },
    {
     "name": "stdout",
     "output_type": "stream",
     "text": [
      "Please enter the required no. of clusters (from 1 to 19): 10\n"
     ]
    }
   ],
   "source": [
    "# embedding all the sentences in the list (vectorization)\n",
    "sen_vectors= embed(sentences_splitted)\n",
    "# choosing the number of clusters using elbow method\n",
    "no_sentences = Plot_elbow(sen_vectors)"
   ]
  },
  {
   "cell_type": "code",
   "execution_count": 0,
   "metadata": {
    "colab": {},
    "colab_type": "code",
    "id": "dymRvaZGjmu3"
   },
   "outputs": [],
   "source": [
    "# summarization\n",
    "summary = Summarize_Page(pdf_reader, pageNumber, no_sentences)"
   ]
  },
  {
   "cell_type": "markdown",
   "metadata": {
    "colab_type": "text",
    "id": "yaF6yZL6jmvD"
   },
   "source": [
    "#### Printing Page Summary"
   ]
  },
  {
   "cell_type": "code",
   "execution_count": 23,
   "metadata": {
    "colab": {
     "base_uri": "https://localhost:8080/",
     "height": 88
    },
    "colab_type": "code",
    "id": "sYu6hiq1jmvF",
    "outputId": "1ba61e9a-f44d-4083-cad7-859507b00c8a"
   },
   "outputs": [
    {
     "name": "stdout",
     "output_type": "stream",
     "text": [
      "Page Summary:\n",
      "\n",
      "Language models also reveal the basic hypothesis behind applied machine learning on text text is predictable. Consider the following partial phrases mans best or the witch flew on a. These low entropy phrases mean that language models would guess friend and broomstick, respectively, with a high likelihood and in fact, English speakers would be surprised if the phrase wasnt completed that way. On the other hand, high entropy phrases like Im going out to dinner tonight with my lend themselves to a lot of possibilities friend, mother, and work colleagues could all be equally likely. Human listeners can use experience, imagination, and memory as well as sit uational context to fill in the blank. Computational models do not necessarily have the same context and as a result must be more constrained. In the formal definition, the model is taking advantage of context, defining a narrow decision space in which only a few possibilities exist. Text data provides many opportunities to extract features either at a shallow level by simply using string splitting, to deeper levels that parse text to extract morphological, syntactic, and even semantic representations from the data. In the following sections well explore some simple ways that language data can expose complex features for modeling purposes. Well then take a deeper look at how con text modifies interpretation, and how this is usually used to create the traditional bag of words model.\n"
     ]
    }
   ],
   "source": [
    "# printing the summary of the page\n",
    "print(\"Page Summary:\\n\")\n",
    "print(summary)"
   ]
  },
  {
   "cell_type": "markdown",
   "metadata": {
    "colab_type": "text",
    "id": "x4vCnmBjhXyf"
   },
   "source": [
    "### Summarize page no. 270 (Index 269)"
   ]
  },
  {
   "cell_type": "markdown",
   "metadata": {
    "colab_type": "text",
    "id": "WeTMhbt4j9z-"
   },
   "source": [
    "#### Asking the user to enter the page number"
   ]
  },
  {
   "cell_type": "code",
   "execution_count": 24,
   "metadata": {
    "colab": {
     "base_uri": "https://localhost:8080/",
     "height": 34
    },
    "colab_type": "code",
    "id": "2vnRALIsj90C",
    "outputId": "00125e2d-77f2-4555-f3e6-99afe27c6f3b"
   },
   "outputs": [
    {
     "name": "stdout",
     "output_type": "stream",
     "text": [
      "Please enter the page number (from 0 to 331): 269\n"
     ]
    }
   ],
   "source": [
    "flag = True\n",
    "while flag:\n",
    " pageNumber = int(input(\"Please enter the page number (from 0 to %d): \" %(no_of_pages-1)))\n",
    " if pageNumber > (no_of_pages-1):\n",
    "   print(\"\\nInvalid page numer\\n\")\n",
    "   pageNumber = int(input(\"Please enter the page number (from 0 to %d): \" %(no_of_pages-1)))\n",
    " else:\n",
    "   flag= False"
   ]
  },
  {
   "cell_type": "markdown",
   "metadata": {
    "colab_type": "text",
    "id": "b-kN9IDjj90R"
   },
   "source": [
    "#### Printing the Page Content"
   ]
  },
  {
   "cell_type": "code",
   "execution_count": 25,
   "metadata": {
    "colab": {
     "base_uri": "https://localhost:8080/",
     "height": 734
    },
    "colab_type": "code",
    "id": "J4ZK4B6wj90a",
    "outputId": "3a9e0694-494e-445d-c8b5-aa1084c87245"
   },
   "outputs": [
    {
     "name": "stdout",
     "output_type": "stream",
     "text": [
      "Page Content:\n",
      "\n",
      "simpler abstractions in the form of \n",
      "Pools and Queues, which we†ll explore in this\n",
      "section.A common combination of both data and task parallelism is to\n",
      "have two data parallel tasks; the first \n",
      "maps\n",
      " an operation to many\n",
      "data inputs and the second \n",
      "reduces\n",
      " the map operation to a set of\n",
      "aggregations. This style of parallel computing has been made very\n",
      "popular by Hadoop and Spark, which we will discuss in the next\n",
      "section.Larger workflows can be described as a directed acyclic graph (DAG), where a series\n",
      "of parallel steps is executed with synchronization points in between. A synchroniza‡\n",
      "tion point ensures that all parts of the processing have completed or caught up before\n",
      "execution continues. Data is also generally exchanged at synchronization points, sent\n",
      "out to parallel tasks from the main task, or retrieved by the main task.Data parallel execution is still appropriate for the Python multiprocessing library,\n",
      "however, some additional considerations are required. The first is how many pro‡\n",
      "cesses to use and how. For simple operations, it is inefficient to run a process for each\n",
      "input and then tear the process down (or worse, run one process per input, which\n",
      "would swamp your operating system). Instead, a fixed number of processes is instan‡\n",
      "tiated in a \n",
      "multiprocessing.Pool, each of which read input, apply the operation,\n",
      "then send output until the input data is exhausted.\n",
      "This leads to the second consideration: How do you safely send and receive data from\n",
      "a process, ensuring no duplication or corruption? For this, you need to use a \n",
      "multiprocessing.Queue, a data structure that is both thread- and multiprocessing-safe\n",
      "because operations are synchronized with locks to ensure that only one process or\n",
      "thread has access to the queue at a time. A process can safely \n",
      "put(item) an item onthe queue and another process can safely get() an item from the queue in a first-in,first-out (FIFO) fashion.A common architecture for this type of processing is shown in Figure 11-2. The Poolforks n processes, each of which gets to work reading an input queue and sending\n",
      "their data to an output queue. The main process continues by \n",
      "enqueuing\n",
      " input data\n",
      "into the input queue. Generally once it†s done enqueuing the input data, the main\n",
      "process also enqueues n semaphores\n",
      ", flags that tell the processes in the process pool\n",
      "that there is no more data and they can terminate. The main process then can join the\n",
      "pool waiting for all processes to complete, or begin work immediately fetching data\n",
      "from the output queue for final processing.250 | Chapter 11: Scaling Text Analytics with Multiprocessing and Spark\n",
      "\n"
     ]
    }
   ],
   "source": [
    "# creating a page object\n",
    "page = pdf_reader.getPage(pageNumber)\n",
    "# extracting text from the page\n",
    "pageText = page.extractText()\n",
    "# printing the content of the page\n",
    "print(\"Page Content:\\n\")\n",
    "print(pageText)"
   ]
  },
  {
   "cell_type": "markdown",
   "metadata": {
    "colab_type": "text",
    "id": "dGSXGeW6j90m"
   },
   "source": [
    "#### Printing Page Content After Cleaning and The splitted sentences\n",
    "\n",
    "\n",
    "\n"
   ]
  },
  {
   "cell_type": "code",
   "execution_count": 26,
   "metadata": {
    "colab": {
     "base_uri": "https://localhost:8080/",
     "height": 802
    },
    "colab_type": "code",
    "id": "5M_0EfAgj90o",
    "outputId": "ed03e587-c983-4d1e-a737-0af30342dd52"
   },
   "outputs": [
    {
     "name": "stdout",
     "output_type": "stream",
     "text": [
      "Page Content After Cleaning:\n",
      "\n",
      "simpler abstractions in the form of Pools and Queues, which well explore in this section.A common combination of both data and task parallelism is to have two data parallel tasks the first maps an operation to many data inputs and the second reduces the map operation to a set of aggregations. This style of parallel computing has been made very popular by Hadoop and Spark, which we will discuss in the next section.Larger workflows can be described as a directed acyclic graph DAG, where a series of parallel steps is executed with synchronization points in between. A synchroniza tion point ensures that all parts of the processing have completed or caught up before execution continues. Data is also generally exchanged at synchronization points, sent out to parallel tasks from the main task, or retrieved by the main task.Data parallel execution is still appropriate for the Python multiprocessing library, however, some additional considerations are required. The first is how many pro cesses to use and how. For simple operations, it is inefficient to run a process for each input and then tear the process down or worse, run one process per input, which would swamp your operating system. Instead, a fixed number of processes is instan tiated in a multiprocessing.Pool, each of which read input, apply the operation, then send output until the input data is exhausted. This leads to the second consideration How do you safely send and receive data from a process, ensuring no duplication or corruption For this, you need to use a multiprocessing.Queue, a data structure that is both thread and multiprocessing safe because operations are synchronized with locks to ensure that only one process or thread has access to the queue at a time. A process can safely putitem an item onthe queue and another process can safely get an item from the queue in a first in,first out FIFO fashion.A common architecture for this type of processing is shown in Figure 11 2. The Poolforks n processes, each of which gets to work reading an input queue and sending their data to an output queue. The main process continues by enqueuing input data into the input queue. Generally once its done enqueuing the input data, the main process also enqueues n semaphores , flags that tell the processes in the process pool that there is no more data and they can terminate. The main process then can join the pool waiting for all processes to complete, or begin work immediately fetching data from the output queue for final processing.250 Chapter 11 Scaling Text Analytics with Multiprocessing and Spark  \n",
      "\n",
      "\n",
      "The splitted sentences:\n",
      "\n",
      "simpler abstractions in the form of Pools and Queues, which well explore in this section.\n",
      "\n",
      "A common combination of both data and task parallelism is to have two data parallel tasks the first maps an operation to many data inputs and the second reduces the map operation to a set of aggregations.\n",
      "\n",
      "This style of parallel computing has been made very popular by Hadoop and Spark, which we will discuss in the next section.\n",
      "\n",
      "Larger workflows can be described as a directed acyclic graph DAG, where a series of parallel steps is executed with synchronization points in between.\n",
      "\n",
      "A synchroniza tion point ensures that all parts of the processing have completed or caught up before execution continues.\n",
      "\n",
      "Data is also generally exchanged at synchronization points, sent out to parallel tasks from the main task, or retrieved by the main task.\n",
      "\n",
      "Data parallel execution is still appropriate for the Python multiprocessing library, however, some additional considerations are required.\n",
      "\n",
      "The first is how many pro cesses to use and how.\n",
      "\n",
      "For simple operations, it is inefficient to run a process for each input and then tear the process down or worse, run one process per input, which would swamp your operating system.\n",
      "\n",
      "Instead, a fixed number of processes is instan tiated in a multiprocessing.\n",
      "\n",
      "Pool, each of which read input, apply the operation, then send output until the input data is exhausted.\n",
      "\n",
      "This leads to the second consideration How do you safely send and receive data from a process, ensuring no duplication or corruption For this, you need to use a multiprocessing.\n",
      "\n",
      "Queue, a data structure that is both thread and multiprocessing safe because operations are synchronized with locks to ensure that only one process or thread has access to the queue at a time.\n",
      "\n",
      "A process can safely putitem an item onthe queue and another process can safely get an item from the queue in a first in,first out FIFO fashion.\n",
      "\n",
      "A common architecture for this type of processing is shown in Figure 11 2.\n",
      "\n",
      "The Poolforks n processes, each of which gets to work reading an input queue and sending their data to an output queue.\n",
      "\n",
      "The main process continues by enqueuing input data into the input queue.\n",
      "\n",
      "Generally once its done enqueuing the input data, the main process also enqueues n semaphores , flags that tell the processes in the process pool that there is no more data and they can terminate.\n",
      "\n",
      "The main process then can join the pool waiting for all processes to complete, or begin work immediately fetching data from the output queue for final processing.\n",
      "\n"
     ]
    }
   ],
   "source": [
    " # cleaning the page text\n",
    "pageText_cleaned = Clean_Page(pageText)\n",
    "print(\"Page Content After Cleaning:\\n\")\n",
    "print(pageText_cleaned,\"\\n\\n\")\n",
    "\n",
    "sentences_splitted = Sentence_split(pageText_cleaned)\n",
    "print(\"The splitted sentences:\\n\")\n",
    "for i in range(len(sentences_splitted)):\n",
    "    print(sentences_splitted[i]+\".\\n\")"
   ]
  },
  {
   "cell_type": "markdown",
   "metadata": {
    "colab_type": "text",
    "id": "0WUtapbkj90w"
   },
   "source": [
    "#### Summerization and Choosing no. of sentences in summary based on elbow method"
   ]
  },
  {
   "cell_type": "code",
   "execution_count": 27,
   "metadata": {
    "colab": {
     "base_uri": "https://localhost:8080/",
     "height": 312
    },
    "colab_type": "code",
    "id": "rl2i1l8-j90y",
    "outputId": "21d38582-9ce7-42e9-9430-3b934b1712d3"
   },
   "outputs": [
    {
     "data": {
      "image/png": "[encoded data removed]",
      "text/plain": [
       "<Figure size 432x288 with 1 Axes>"
      ]
     },
     "metadata": {
      "tags": []
     },
     "output_type": "display_data"
    },
    {
     "name": "stdout",
     "output_type": "stream",
     "text": [
      "Please enter the required no. of clusters (from 1 to 19): 10\n"
     ]
    }
   ],
   "source": [
    "# embedding all the sentences in the list (vectorization)\n",
    "sen_vectors= embed(sentences_splitted)\n",
    "# choosing the number of clusters using elbow method\n",
    "no_sentences = Plot_elbow(sen_vectors)"
   ]
  },
  {
   "cell_type": "code",
   "execution_count": 0,
   "metadata": {
    "colab": {},
    "colab_type": "code",
    "id": "J2cLh4fYj907"
   },
   "outputs": [],
   "source": [
    "# summarization\n",
    "summary = Summarize_Page(pdf_reader, pageNumber, no_sentences)"
   ]
  },
  {
   "cell_type": "markdown",
   "metadata": {
    "colab_type": "text",
    "id": "k_3HNsnCj91E"
   },
   "source": [
    "#### Printing Page Summary"
   ]
  },
  {
   "cell_type": "code",
   "execution_count": 29,
   "metadata": {
    "colab": {
     "base_uri": "https://localhost:8080/",
     "height": 88
    },
    "colab_type": "code",
    "id": "0Je8yduEj91F",
    "outputId": "f9b46bbb-08b5-431f-88f4-2cc001b9a688"
   },
   "outputs": [
    {
     "name": "stdout",
     "output_type": "stream",
     "text": [
      "Page Summary:\n",
      "\n",
      "simpler abstractions in the form of Pools and Queues, which well explore in this section. This style of parallel computing has been made very popular by Hadoop and Spark, which we will discuss in the next section. A synchroniza tion point ensures that all parts of the processing have completed or caught up before execution continues. Data is also generally exchanged at synchronization points, sent out to parallel tasks from the main task, or retrieved by the main task. Data parallel execution is still appropriate for the Python multiprocessing library, however, some additional considerations are required. The first is how many pro cesses to use and how. This leads to the second consideration How do you safely send and receive data from a process, ensuring no duplication or corruption For this, you need to use a multiprocessing. A process can safely putitem an item onthe queue and another process can safely get an item from the queue in a first in,first out FIFO fashion. A common architecture for this type of processing is shown in Figure 11 2. The Poolforks n processes, each of which gets to work reading an input queue and sending their data to an output queue.\n"
     ]
    }
   ],
   "source": [
    "# printing the summary of the page\n",
    "print(\"Page Summary:\\n\")\n",
    "print(summary)"
   ]
  },
  {
   "cell_type": "markdown",
   "metadata": {
    "colab_type": "text",
    "id": "NdfMs_bmBw7i"
   },
   "source": [
    "### Summarize page no. 305 (Index 304)"
   ]
  },
  {
   "cell_type": "markdown",
   "metadata": {
    "colab_type": "text",
    "id": "wn2OrrJ2kC4p"
   },
   "source": [
    "#### Asking the user to enter the page number"
   ]
  },
  {
   "cell_type": "code",
   "execution_count": 30,
   "metadata": {
    "colab": {
     "base_uri": "https://localhost:8080/",
     "height": 34
    },
    "colab_type": "code",
    "id": "PVdOvZoukC4s",
    "outputId": "7b483c12-8ed2-4e3a-ee9a-d1cde67da92e"
   },
   "outputs": [
    {
     "name": "stdout",
     "output_type": "stream",
     "text": [
      "Please enter the page number (from 0 to 331): 304\n"
     ]
    }
   ],
   "source": [
    "flag = True\n",
    "while flag:\n",
    " pageNumber = int(input(\"Please enter the page number (from 0 to %d): \" %(no_of_pages-1)))\n",
    " if pageNumber > (no_of_pages-1):\n",
    "   print(\"\\nInvalid page numer\\n\")\n",
    "   pageNumber = int(input(\"Please enter the page number (from 0 to %d): \" %(no_of_pages-1)))\n",
    " else:\n",
    "   flag= False"
   ]
  },
  {
   "cell_type": "markdown",
   "metadata": {
    "colab_type": "text",
    "id": "ovJ9oAN0kC48"
   },
   "source": [
    "#### Printing the Page Content"
   ]
  },
  {
   "cell_type": "code",
   "execution_count": 31,
   "metadata": {
    "colab": {
     "base_uri": "https://localhost:8080/",
     "height": 561
    },
    "colab_type": "code",
    "id": "mf6x6yuKkC4-",
    "outputId": "1e2df382-91a2-49cf-c3de-87f690a8ecdd"
   },
   "outputs": [
    {
     "name": "stdout",
     "output_type": "stream",
     "text": [
      "Page Content:\n",
      "\n",
      "positively and negatively associated modifiers and nonlexical factors like sarcasm,\n",
      "hyperbole, and symbolism.\n",
      "In Chapter 1\n",
      " we briefly introduced sentiment analysis to describe the importance of\n",
      "contextual features. Whereas a language feature like gender is often encoded in the\n",
      "structure of language, sentiment is often much too complex to be encoded at the\n",
      "token level. Take, for example, this sample text from a set of Amazon customer\n",
      "reviews of patio, lawn, and garden equipment:\n",
      "I used to use a really primitive manual edger that I inherited from my father. Blistered\n",
      "hands and time wasted, I decided there had to be a better way and this is surely it. Edg‡\n",
      "ing is one of those necessary evils if you want a great looking house. I don†t edge every\n",
      "time I mow. Usually I do it every other time. The first time out after a long winter, edg‡\n",
      "ing usually takes a little longer. After that, edging is a snap because you are basically in\n",
      "maintenance mode. I also use this around my landscaping and flower beds with\n",
      "equally great results. The blade on the Edge Hog is easily replaceable and the tell tale\n",
      "sign to replace it is when the edge starts to look a little rough and the machine seemsslower.\n",
      "—Amazon reviewerIf we predict the rating using a count of the –positiveƒ and –negativeƒ review words as\n",
      "with the gendered words in Chapter 1\n",
      ", what score would you expect to see? In spite of\n",
      "many of the negative-seeming words (e.g., –primitive,ƒ –blistered,ƒ –wasted,ƒ –rough,ƒ\n",
      "–slowerƒ), this text corresponds to a 5-star review—the highest possible rating!\n",
      "Even if we were to take a single sentence from the review (e.g., –Edging is one of those\n",
      "necessary evils if you want a great-looking house.ƒ) we can see how positive and nega‡\n",
      "tive phrases modify each other, with the effect of sometimes inverting or magnifying\n",
      "the sentiment. The parse tree in \n",
      "Figure 12-4 illustrates how these syntactic chunks\n",
      "combine to influence the overall sentiment of the review.\n",
      "Figure 12-4. Syntax analysis\n",
      "Sentiment Analysis | 285\n",
      "\n"
     ]
    }
   ],
   "source": [
    "# creating a page object\n",
    "page = pdf_reader.getPage(pageNumber)\n",
    "# extracting text from the page\n",
    "pageText = page.extractText()\n",
    "# printing the content of the page\n",
    "print(\"Page Content:\\n\")\n",
    "print(pageText)"
   ]
  },
  {
   "cell_type": "markdown",
   "metadata": {
    "colab_type": "text",
    "id": "jichhPD4kC5M"
   },
   "source": [
    "#### Printing Page Content After Cleaning and The splitted sentences\n",
    "\n",
    "\n",
    "\n"
   ]
  },
  {
   "cell_type": "code",
   "execution_count": 32,
   "metadata": {
    "colab": {
     "base_uri": "https://localhost:8080/",
     "height": 666
    },
    "colab_type": "code",
    "id": "k1Ap7UJNkC5O",
    "outputId": "b69bd2d5-4cc2-4340-fdd8-1be24485e2e5"
   },
   "outputs": [
    {
     "name": "stdout",
     "output_type": "stream",
     "text": [
      "Page Content After Cleaning:\n",
      "\n",
      "positively and negatively associated modifiers and nonlexical factors like sarcasm, hyperbole, and symbolism. In Chapter 1 we briefly introduced sentiment analysis to describe the importance of contextual features. Whereas a language feature like gender is often encoded in the structure of language, sentiment is often much too complex to be encoded at the token level. Take, for example, this sample text from a set of Amazon customer reviews of patio, lawn, and garden equipment I used to use a really primitive manual edger that I inherited from my father. Blistered hands and time wasted, I decided there had to be a better way and this is surely it. Edg ing is one of those necessary evils if you want a great looking house. I dont edge every time I mow. Usually I do it every other time. The first time out after a long winter, edg ing usually takes a little longer. After that, edging is a snap because you are basically in maintenance mode. I also use this around my landscaping and flower beds with equally great results. The blade on the Edge Hog is easily replaceable and the tell tale sign to replace it is when the edge starts to look a little rough and the machine seemsslower. Amazon reviewerIf we predict the rating using a count of the positive and negative review words as with the gendered words in Chapter 1 , what score would you expect to see In spite of many of the negative seeming words for example, primitive, blistered, wasted, rough, slower, this text corresponds to a 5 star review the highest possible rating Even if we were to take a single sentence from the review for example, Edging is one of those necessary evils if you want a great looking house. we can see how positive and nega tive phrases modify each other, with the effect of sometimes inverting or magnifying the sentiment. The parse tree in Figure 12 4 illustrates how these syntactic chunks combine to influence the overall sentiment of the review. Figure 12 4. Syntax analysis Sentiment Analysis 285  \n",
      "\n",
      "\n",
      "The splitted sentences:\n",
      "\n",
      "positively and negatively associated modifiers and nonlexical factors like sarcasm, hyperbole, and symbolism.\n",
      "\n",
      "In Chapter 1 we briefly introduced sentiment analysis to describe the importance of contextual features.\n",
      "\n",
      "Whereas a language feature like gender is often encoded in the structure of language, sentiment is often much too complex to be encoded at the token level.\n",
      "\n",
      "Take, for example, this sample text from a set of Amazon customer reviews of patio, lawn, and garden equipment I used to use a really primitive manual edger that I inherited from my father.\n",
      "\n",
      "Blistered hands and time wasted, I decided there had to be a better way and this is surely it.\n",
      "\n",
      "Edg ing is one of those necessary evils if you want a great looking house.\n",
      "\n",
      "I dont edge every time I mow.\n",
      "\n",
      "Usually I do it every other time.\n",
      "\n",
      "The first time out after a long winter, edg ing usually takes a little longer.\n",
      "\n",
      "After that, edging is a snap because you are basically in maintenance mode.\n",
      "\n",
      "I also use this around my landscaping and flower beds with equally great results.\n",
      "\n",
      "The blade on the Edge Hog is easily replaceable and the tell tale sign to replace it is when the edge starts to look a little rough and the machine seemsslower.\n",
      "\n",
      "Amazon reviewerIf we predict the rating using a count of the positive and negative review words as with the gendered words in Chapter 1 , what score would you expect to see In spite of many of the negative seeming words for example, primitive, blistered, wasted, rough, slower, this text corresponds to a 5 star review the highest possible rating Even if we were to take a single sentence from the review for example, Edging is one of those necessary evils if you want a great looking house.\n",
      "\n",
      "we can see how positive and nega tive phrases modify each other, with the effect of sometimes inverting or magnifying the sentiment.\n",
      "\n",
      "The parse tree in Figure 12 4 illustrates how these syntactic chunks combine to influence the overall sentiment of the review.\n",
      "\n"
     ]
    }
   ],
   "source": [
    " # cleaning the page text\n",
    "pageText_cleaned = Clean_Page(pageText)\n",
    "print(\"Page Content After Cleaning:\\n\")\n",
    "print(pageText_cleaned,\"\\n\\n\")\n",
    "\n",
    "sentences_splitted = Sentence_split(pageText_cleaned)\n",
    "print(\"The splitted sentences:\\n\")\n",
    "for i in range(len(sentences_splitted)):\n",
    "    print(sentences_splitted[i]+\".\\n\")"
   ]
  },
  {
   "cell_type": "markdown",
   "metadata": {
    "colab_type": "text",
    "id": "q8MBbMTskC5c"
   },
   "source": [
    "#### Summerization and Choosing no. of sentences in summary based on elbow method"
   ]
  },
  {
   "cell_type": "code",
   "execution_count": 33,
   "metadata": {
    "colab": {
     "base_uri": "https://localhost:8080/",
     "height": 312
    },
    "colab_type": "code",
    "id": "SlTu3osNkC5e",
    "outputId": "7a28a88a-ace5-48b9-e6f6-71cdfca19f93"
   },
   "outputs": [
    {
     "data": {
      "image/png": "[encoded data removed]",
      "text/plain": [
       "<Figure size 432x288 with 1 Axes>"
      ]
     },
     "metadata": {
      "tags": []
     },
     "output_type": "display_data"
    },
    {
     "name": "stdout",
     "output_type": "stream",
     "text": [
      "Please enter the required no. of clusters (from 1 to 15): 8\n"
     ]
    }
   ],
   "source": [
    "# embedding all the sentences in the list (vectorization)\n",
    "sen_vectors= embed(sentences_splitted)\n",
    "# choosing the number of clusters using elbow method\n",
    "no_sentences = Plot_elbow(sen_vectors)"
   ]
  },
  {
   "cell_type": "code",
   "execution_count": 0,
   "metadata": {
    "colab": {},
    "colab_type": "code",
    "id": "eQWwuAawkC5u"
   },
   "outputs": [],
   "source": [
    "# summarization\n",
    "summary = Summarize_Page(pdf_reader, pageNumber, no_sentences)"
   ]
  },
  {
   "cell_type": "markdown",
   "metadata": {
    "colab_type": "text",
    "id": "XysPXgmykC57"
   },
   "source": [
    "#### Printing Page Summary"
   ]
  },
  {
   "cell_type": "code",
   "execution_count": 35,
   "metadata": {
    "colab": {
     "base_uri": "https://localhost:8080/",
     "height": 88
    },
    "colab_type": "code",
    "id": "WDSatd7mkC6E",
    "outputId": "4ab94c67-2764-4098-f84c-5aac5259ab72"
   },
   "outputs": [
    {
     "name": "stdout",
     "output_type": "stream",
     "text": [
      "Page Summary:\n",
      "\n",
      "Whereas a language feature like gender is often encoded in the structure of language, sentiment is often much too complex to be encoded at the token level. Take, for example, this sample text from a set of Amazon customer reviews of patio, lawn, and garden equipment I used to use a really primitive manual edger that I inherited from my father. Blistered hands and time wasted, I decided there had to be a better way and this is surely it. Edg ing is one of those necessary evils if you want a great looking house. I dont edge every time I mow. After that, edging is a snap because you are basically in maintenance mode. The blade on the Edge Hog is easily replaceable and the tell tale sign to replace it is when the edge starts to look a little rough and the machine seemsslower. Amazon reviewerIf we predict the rating using a count of the positive and negative review words as with the gendered words in Chapter 1 , what score would you expect to see In spite of many of the negative seeming words for example, primitive, blistered, wasted, rough, slower, this text corresponds to a 5 star review the highest possible rating Even if we were to take a single sentence from the review for example, Edging is one of those necessary evils if you want a great looking house.\n"
     ]
    }
   ],
   "source": [
    "# printing the summary of the page\n",
    "print(\"Page Summary:\\n\")\n",
    "print(summary)"
   ]
  },
  {
   "cell_type": "markdown",
   "metadata": {
    "colab_type": "text",
    "id": "esd5ccKDffR4"
   },
   "source": [
    "## Closing the pdf file"
   ]
  },
  {
   "cell_type": "code",
   "execution_count": 0,
   "metadata": {
    "colab": {},
    "colab_type": "code",
    "id": "w5uKjwbBfT2Q"
   },
   "outputs": [],
   "source": [
    "pdf.close()"
   ]
  },
  {
   "cell_type": "markdown",
   "metadata": {
    "colab_type": "text",
    "id": "OH2lfJh5o1ka"
   },
   "source": [
    "## Notes\n",
    "##### We can change the following:\n",
    "1. the number of clusters.\n",
    "2. the minimum no. of words in the sentence to be included in the list to perform clustering.\n",
    "3. the method of vectorization (here i choose TF universal sentence encoder as it gives good features but it can be any way of sentence embedding).\n",
    "##### Also, there are some mistakes due to the library pypdf2 which can not exclud the footer or heading and also the outlines words are connected as in the first sentence in page 75\"CHAPTER 4Text Vectorization and TransformationPipelinesMachine\" and also the outline and the first sentence in the page; that's why I removed the last sentence as it always contains the footer of the page.\n",
    "##### Also I avoided the pages that contain codes and images to be summerized."
   ]
  }
 ],
 "metadata": {
  "colab": {
   "collapsed_sections": [],
   "name": "PDF_Page_Summarization_using_sentence_embedding( Elbow_method).ipynb",
   "provenance": []
  },
  "kernelspec": {
   "display_name": "Python 3",
   "language": "python",
   "name": "python3"
  },
  "language_info": {
   "codemirror_mode": {
    "name": "ipython",
    "version": 3
   },
   "file_extension": ".py",
   "mimetype": "text/x-python",
   "name": "python",
   "nbconvert_exporter": "python",
   "pygments_lexer": "ipython3",
   "version": "3.7.4"
  }
 },
 "nbformat": 4,
 "nbformat_minor": 1
}
